{
 "cells": [
  {
   "cell_type": "code",
   "execution_count": 1,
   "metadata": {
    "_cell_guid": "9ddfcdbe-f498-43ae-84cc-de46f775c22e",
    "_uuid": "da001f0cfc6af69259f2a51b728bf168a17d24dd"
   },
   "outputs": [],
   "source": [
    "\n",
    "import numpy as np \n",
    "import pandas as pd \n",
    "from sklearn.model_selection import train_test_split \n",
    "from sklearn.ensemble import RandomForestClassifier\n",
    "from sklearn.feature_selection import RFECV\n",
    "from sklearn.model_selection import GridSearchCV\n",
    "from sklearn.tree import DecisionTreeClassifier \n",
    "\n",
    "import sklearn.metrics \n",
    "\n",
    "import matplotlib.pyplot as plt\n",
    "\n",
    "def roc_auc(pred, act, plot=True, label = \"curve\"):\n",
    "    prob = pred/pred.max() #normalize\n",
    "    fpr, tpr, threshold = sklearn.metrics.roc_curve(act, prob, drop_intermediate=True)    \n",
    "    auc = sklearn.metrics.auc(fpr, tpr)\n",
    "\n",
    "    if plot:\n",
    "        plt.scatter(x=fpr, y=tpr, color='navy')\n",
    "        rcolor = tuple(np.random.rand(3,1)[:,0])\n",
    "        plt.plot(fpr, tpr, c=rcolor, lw=2, label=label + ' (AUC = %0.3f)' % auc)\n",
    "        plt.plot([0, 1], [0, 1], color='navy', lw=2, linestyle='--')\n",
    "        plt.xlim([0.0, 1.0])\n",
    "        plt.ylim([0.0, 1.05])\n",
    "        plt.xlabel('False Positive Rate')\n",
    "        plt.ylabel('True Positive Rate')\n",
    "        plt.title('ROC Curve')\n",
    "        plt.legend(loc=\"lower right\")\n",
    "        plt.show()\n",
    "\n",
    "    return auc\n",
    "\n",
    "### kaggle\n",
    "datain_dir = './'\n",
    "datain_col_dir = './'\n",
    "dataout_dir = ''\n",
    "\n",
    "### mac\n",
    "#datain_dir = '~/Data/diabetes/'\n",
    "#datain_col_dir = '~/Data/diabetes/'\n",
    "#dataout_dir = '~/Data/diabetes/'\n",
    "\n",
    "### desktop\n",
    "#from kaggle import proj #desktop\n",
    "#datain_dir = proj.data_dir #desktop"
   ]
  },
  {
   "cell_type": "code",
   "execution_count": 5,
   "metadata": {},
   "outputs": [
    {
     "name": "stdout",
     "output_type": "stream",
     "text": [
      "Wrote the config file xiaoyzhuconfig.json to: F:\\PatientHub\\MLModels\\Diabetes\\aml_config\\xiaoyzhuconfig.json\n",
      "Workspace configuration succeeded. Skip the workspace creation steps below\n"
     ]
    }
   ],
   "source": [
    "import azureml.core\n",
    "import os\n",
    "from azureml.core import Workspace\n",
    "\n",
    "subscription_id = os.getenv(\"SUBSCRIPTION_ID\", default=\"a6c2a7cc-d67e-4a1a-b765-983f08c0423a\")\n",
    "resource_group = os.getenv(\"RESOURCE_GROUP\", default=\"xiaoyzhu-mlworkspace\")\n",
    "workspace_name = os.getenv(\"WORKSPACE_NAME\", default=\"xiaoyzhu-MLworkspace\")\n",
    "workspace_region = os.getenv(\"WORKSPACE_REGION\", default=\"eastus2\")\n",
    "\n",
    "\n",
    "try:\n",
    "    ws = Workspace(subscription_id = subscription_id, resource_group = resource_group, workspace_name = workspace_name)\n",
    "    # write the details of the workspace to a configuration file to the notebook library\n",
    "    ws.write_config(file_name=\"xiaoyzhuconfig.json\")\n",
    "    print(\"Workspace configuration succeeded. Skip the workspace creation steps below\")\n",
    "except:\n",
    "    print(\"Workspace not accessible. Change your parameters or create a new workspace below\")"
   ]
  },
  {
   "cell_type": "code",
   "execution_count": 2,
   "metadata": {},
   "outputs": [],
   "source": [
    "import numpy as np"
   ]
  },
  {
   "cell_type": "markdown",
   "metadata": {
    "_cell_guid": "a15df269-2e4c-4442-a574-e55d9816da1d",
    "_uuid": "24e6e547cbd72f41ae840b6693be9a526ef7d059"
   },
   "source": [
    "# Read in the data"
   ]
  },
  {
   "cell_type": "code",
   "execution_count": 3,
   "metadata": {
    "_cell_guid": "a83c2de4-a9ca-47f6-8841-7befb9744631",
    "_uuid": "76dfc10d98459ab9397bc045ba332a03534d3c4b"
   },
   "outputs": [
    {
     "data": {
      "text/plain": [
       "(10000, 50)"
      ]
     },
     "execution_count": 3,
     "metadata": {},
     "output_type": "execute_result"
    }
   ],
   "source": [
    "df_raw_all = pd.read_csv(datain_dir + 'diabetic_data.csv') \n",
    "df_raw = df_raw_all.sample(10000)\n",
    "df_raw = df_raw.replace('?', np.nan) \n",
    "df_raw.shape"
   ]
  },
  {
   "cell_type": "markdown",
   "metadata": {
    "_cell_guid": "11bbec7a-e1fe-473b-81d6-8f24a80dd810",
    "_uuid": "86a8fabb9e6beb7df61149ff47f67b16b5ebc0e4"
   },
   "source": [
    "# How many values are missing in patient records?"
   ]
  },
  {
   "cell_type": "code",
   "execution_count": 4,
   "metadata": {
    "_cell_guid": "531a86f6-b0b7-41f2-ac96-7d0c3630d8eb",
    "_uuid": "7171dd5c60d83a8c2eed0d8eb6d111b09b6858b9"
   },
   "outputs": [
    {
     "data": {
      "image/png": "[encoded data removed]",
      "text/plain": [
       "<Figure size 432x288 with 1 Axes>"
      ]
     },
     "metadata": {
      "needs_background": "light"
     },
     "output_type": "display_data"
    }
   ],
   "source": [
    "pt_sparsity = df_raw.isnull().apply(sum, axis=1)\n",
    "%matplotlib inline\n",
    "myhist = pt_sparsity.hist()"
   ]
  },
  {
   "cell_type": "markdown",
   "metadata": {
    "_cell_guid": "7698ff1f-6a9b-4381-8ae2-08e686d1ab9c",
    "_uuid": "aaf5774ea4941cf606c6eceac6dba198fc65bfd9"
   },
   "source": [
    "No need to drop patients due to missing values. 3 out of 50 missing values is not bad at all.\n",
    "\n",
    "# Explore the variables, compile information about them"
   ]
  },
  {
   "cell_type": "code",
   "execution_count": 5,
   "metadata": {
    "_cell_guid": "5c6b79bb-ea06-4e44-8edf-962a9048a661",
    "_uuid": "4bb8b3dcf3c8e485abb0661bd4e0762b93001d52"
   },
   "outputs": [],
   "source": [
    "col_data = df_raw.apply(lambda s: set(s.unique()), axis=0).to_frame('uni_val')\n",
    "col_data['nan_rat'] = df_raw.isnull().sum(axis=0)/len(df_raw)\n",
    "col_data['n_uni_vals'] = col_data.uni_val.apply(len)\n",
    "col_data['uni_vals_str'] = col_data[col_data.n_uni_vals<2000].uni_val.astype(str)\n",
    "col_data = col_data.drop('uni_val', axis=1)\n",
    "col_data['var_type'] = np.nan\n",
    "col_data.to_csv(dataout_dir + \"columns_raw.csv\")"
   ]
  },
  {
   "cell_type": "markdown",
   "metadata": {
    "_cell_guid": "f612c96d-30a1-4a56-af87-257f289540e2",
    "_uuid": "a46e8eeaa47af8c0e46d11e821fac192802ec3ac"
   },
   "source": [
    "# Manual annotation of columns\n",
    "I manually took columns_raw.csv and annotated columns based on whether they were ordered or categorical.  I saved my annotated file as columns.csv.  I will read this in later in the notebook."
   ]
  },
  {
   "cell_type": "code",
   "execution_count": 6,
   "metadata": {
    "_cell_guid": "6c7de378-08ce-4650-a5ca-a4a1068c7a51",
    "_uuid": "b099e91cd16fb019bd35b51a4ba367ba7dc54fbd"
   },
   "outputs": [
    {
     "data": {
      "text/html": [
       "<div>\n",
       "<style scoped>\n",
       "    .dataframe tbody tr th:only-of-type {\n",
       "        vertical-align: middle;\n",
       "    }\n",
       "\n",
       "    .dataframe tbody tr th {\n",
       "        vertical-align: top;\n",
       "    }\n",
       "\n",
       "    .dataframe thead th {\n",
       "        text-align: right;\n",
       "    }\n",
       "</style>\n",
       "<table border=\"1\" class=\"dataframe\">\n",
       "  <thead>\n",
       "    <tr style=\"text-align: right;\">\n",
       "      <th></th>\n",
       "      <th>nan_rat</th>\n",
       "      <th>n_uni_vals</th>\n",
       "      <th>uni_vals_str</th>\n",
       "      <th>var_type</th>\n",
       "      <th>comment</th>\n",
       "    </tr>\n",
       "  </thead>\n",
       "  <tbody>\n",
       "    <tr>\n",
       "      <th>readmitted</th>\n",
       "      <td>0.0000</td>\n",
       "      <td>3</td>\n",
       "      <td>{'&gt;30', '&lt;30', 'NO'}</td>\n",
       "      <td>cat</td>\n",
       "      <td>NaN</td>\n",
       "    </tr>\n",
       "    <tr>\n",
       "      <th>metformin-pioglitazone</th>\n",
       "      <td>0.0000</td>\n",
       "      <td>1</td>\n",
       "      <td>{'No'}</td>\n",
       "      <td>drop</td>\n",
       "      <td>no information here!</td>\n",
       "    </tr>\n",
       "    <tr>\n",
       "      <th>glipizide-metformin</th>\n",
       "      <td>0.0000</td>\n",
       "      <td>1</td>\n",
       "      <td>{'No'}</td>\n",
       "      <td>drop</td>\n",
       "      <td>no information here!</td>\n",
       "    </tr>\n",
       "    <tr>\n",
       "      <th>glipizide</th>\n",
       "      <td>0.0000</td>\n",
       "      <td>4</td>\n",
       "      <td>{'Steady', 'Up', 'No', 'Down'}</td>\n",
       "      <td>cat</td>\n",
       "      <td>NaN</td>\n",
       "    </tr>\n",
       "    <tr>\n",
       "      <th>glyburide-metformin</th>\n",
       "      <td>0.0000</td>\n",
       "      <td>3</td>\n",
       "      <td>{'Steady', 'Up', 'No'}</td>\n",
       "      <td>cat</td>\n",
       "      <td>NaN</td>\n",
       "    </tr>\n",
       "    <tr>\n",
       "      <th>num_lab_procedures</th>\n",
       "      <td>0.0000</td>\n",
       "      <td>102</td>\n",
       "      <td>{1, 2, 3, 4, 5, 6, 7, 8, 9, 10, 11, 12, 13, 14...</td>\n",
       "      <td>cont</td>\n",
       "      <td>NaN</td>\n",
       "    </tr>\n",
       "    <tr>\n",
       "      <th>payer_code</th>\n",
       "      <td>0.3962</td>\n",
       "      <td>17</td>\n",
       "      <td>{nan, 'HM', 'OG', 'MC', 'DM', 'CM', 'SI', 'MD'...</td>\n",
       "      <td>cat</td>\n",
       "      <td>NaN</td>\n",
       "    </tr>\n",
       "    <tr>\n",
       "      <th>medical_specialty</th>\n",
       "      <td>0.4941</td>\n",
       "      <td>55</td>\n",
       "      <td>{nan, 'Surgery-Plastic', 'Pulmonology', 'Osteo...</td>\n",
       "      <td>drop</td>\n",
       "      <td>eventually we will include top specialties</td>\n",
       "    </tr>\n",
       "    <tr>\n",
       "      <th>diag_2</th>\n",
       "      <td>0.0046</td>\n",
       "      <td>446</td>\n",
       "      <td>{nan, '644', '907', '568', '356', '225', 'V69'...</td>\n",
       "      <td>drop</td>\n",
       "      <td>eventually we will include top diagnoses</td>\n",
       "    </tr>\n",
       "    <tr>\n",
       "      <th>discharge_disposition_id</th>\n",
       "      <td>0.0000</td>\n",
       "      <td>21</td>\n",
       "      <td>{1, 2, 3, 4, 5, 6, 7, 8, 9, 11, 13, 14, 15, 17...</td>\n",
       "      <td>cat</td>\n",
       "      <td>NaN</td>\n",
       "    </tr>\n",
       "  </tbody>\n",
       "</table>\n",
       "</div>"
      ],
      "text/plain": [
       "                          nan_rat  n_uni_vals  \\\n",
       "readmitted                 0.0000           3   \n",
       "metformin-pioglitazone     0.0000           1   \n",
       "glipizide-metformin        0.0000           1   \n",
       "glipizide                  0.0000           4   \n",
       "glyburide-metformin        0.0000           3   \n",
       "num_lab_procedures         0.0000         102   \n",
       "payer_code                 0.3962          17   \n",
       "medical_specialty          0.4941          55   \n",
       "diag_2                     0.0046         446   \n",
       "discharge_disposition_id   0.0000          21   \n",
       "\n",
       "                                                               uni_vals_str  \\\n",
       "readmitted                                             {'>30', '<30', 'NO'}   \n",
       "metformin-pioglitazone                                               {'No'}   \n",
       "glipizide-metformin                                                  {'No'}   \n",
       "glipizide                                    {'Steady', 'Up', 'No', 'Down'}   \n",
       "glyburide-metformin                                  {'Steady', 'Up', 'No'}   \n",
       "num_lab_procedures        {1, 2, 3, 4, 5, 6, 7, 8, 9, 10, 11, 12, 13, 14...   \n",
       "payer_code                {nan, 'HM', 'OG', 'MC', 'DM', 'CM', 'SI', 'MD'...   \n",
       "medical_specialty         {nan, 'Surgery-Plastic', 'Pulmonology', 'Osteo...   \n",
       "diag_2                    {nan, '644', '907', '568', '356', '225', 'V69'...   \n",
       "discharge_disposition_id  {1, 2, 3, 4, 5, 6, 7, 8, 9, 11, 13, 14, 15, 17...   \n",
       "\n",
       "                         var_type                                     comment  \n",
       "readmitted                    cat                                         NaN  \n",
       "metformin-pioglitazone       drop                        no information here!  \n",
       "glipizide-metformin          drop                        no information here!  \n",
       "glipizide                     cat                                         NaN  \n",
       "glyburide-metformin           cat                                         NaN  \n",
       "num_lab_procedures           cont                                         NaN  \n",
       "payer_code                    cat                                         NaN  \n",
       "medical_specialty            drop  eventually we will include top specialties  \n",
       "diag_2                       drop    eventually we will include top diagnoses  \n",
       "discharge_disposition_id      cat                                         NaN  "
      ]
     },
     "execution_count": 6,
     "metadata": {},
     "output_type": "execute_result"
    }
   ],
   "source": [
    "col_data = pd.read_csv(datain_col_dir + \"columns.csv\", index_col=0)\n",
    "col_data.sample(10)"
   ]
  },
  {
   "cell_type": "markdown",
   "metadata": {
    "_cell_guid": "7fb2f7ef-d6d3-4a5b-8c9e-51037b5762e8",
    "_uuid": "6f4ce457c360920e2309f594c574ca6637c41b36"
   },
   "source": [
    "# Generate boolean features for only most common medical specialties"
   ]
  },
  {
   "cell_type": "code",
   "execution_count": 7,
   "metadata": {
    "_cell_guid": "91796bd1-ad8e-49db-b669-0652cf387d31",
    "_uuid": "230e9341f14c26697e06382bc5e03a152050b2a5"
   },
   "outputs": [
    {
     "data": {
      "text/html": [
       "<div>\n",
       "<style scoped>\n",
       "    .dataframe tbody tr th:only-of-type {\n",
       "        vertical-align: middle;\n",
       "    }\n",
       "\n",
       "    .dataframe tbody tr th {\n",
       "        vertical-align: top;\n",
       "    }\n",
       "\n",
       "    .dataframe thead th {\n",
       "        text-align: right;\n",
       "    }\n",
       "</style>\n",
       "<table border=\"1\" class=\"dataframe\">\n",
       "  <thead>\n",
       "    <tr style=\"text-align: right;\">\n",
       "      <th></th>\n",
       "      <th>num patients</th>\n",
       "    </tr>\n",
       "  </thead>\n",
       "  <tbody>\n",
       "    <tr>\n",
       "      <th>InternalMedicine</th>\n",
       "      <td>1454</td>\n",
       "    </tr>\n",
       "    <tr>\n",
       "      <th>Family/GeneralPractice</th>\n",
       "      <td>799</td>\n",
       "    </tr>\n",
       "    <tr>\n",
       "      <th>Emergency/Trauma</th>\n",
       "      <td>758</td>\n",
       "    </tr>\n",
       "    <tr>\n",
       "      <th>Cardiology</th>\n",
       "      <td>519</td>\n",
       "    </tr>\n",
       "    <tr>\n",
       "      <th>Surgery-General</th>\n",
       "      <td>305</td>\n",
       "    </tr>\n",
       "  </tbody>\n",
       "</table>\n",
       "</div>"
      ],
      "text/plain": [
       "                        num patients\n",
       "InternalMedicine                1454\n",
       "Family/GeneralPractice           799\n",
       "Emergency/Trauma                 758\n",
       "Cardiology                       519\n",
       "Surgery-General                  305"
      ]
     },
     "execution_count": 7,
     "metadata": {},
     "output_type": "execute_result"
    }
   ],
   "source": [
    "#TODO recapture medical specialty\n",
    "spec_counts = df_raw.medical_specialty.value_counts()\n",
    "spec_counts.head(5).to_frame('num patients')"
   ]
  },
  {
   "cell_type": "code",
   "execution_count": 8,
   "metadata": {
    "_cell_guid": "c0d03218-d355-4ffc-a278-1d27bf435f67",
    "_uuid": "62a07672fe12aa1b0be763c55b94794439307b2f"
   },
   "outputs": [
    {
     "data": {
      "text/html": [
       "<div>\n",
       "<style scoped>\n",
       "    .dataframe tbody tr th:only-of-type {\n",
       "        vertical-align: middle;\n",
       "    }\n",
       "\n",
       "    .dataframe tbody tr th {\n",
       "        vertical-align: top;\n",
       "    }\n",
       "\n",
       "    .dataframe thead th {\n",
       "        text-align: right;\n",
       "    }\n",
       "</style>\n",
       "<table border=\"1\" class=\"dataframe\">\n",
       "  <thead>\n",
       "    <tr style=\"text-align: right;\">\n",
       "      <th></th>\n",
       "      <th>medical_specialty</th>\n",
       "      <th>spec_InternalMedicine</th>\n",
       "      <th>spec_Family/GeneralPractice</th>\n",
       "      <th>spec_Emergency/Trauma</th>\n",
       "      <th>spec_Cardiology</th>\n",
       "      <th>spec_Surgery-General</th>\n",
       "    </tr>\n",
       "  </thead>\n",
       "  <tbody>\n",
       "    <tr>\n",
       "      <th>95451</th>\n",
       "      <td>NaN</td>\n",
       "      <td>False</td>\n",
       "      <td>False</td>\n",
       "      <td>False</td>\n",
       "      <td>False</td>\n",
       "      <td>False</td>\n",
       "    </tr>\n",
       "    <tr>\n",
       "      <th>3312</th>\n",
       "      <td>Cardiology</td>\n",
       "      <td>False</td>\n",
       "      <td>False</td>\n",
       "      <td>False</td>\n",
       "      <td>True</td>\n",
       "      <td>False</td>\n",
       "    </tr>\n",
       "    <tr>\n",
       "      <th>11304</th>\n",
       "      <td>Family/GeneralPractice</td>\n",
       "      <td>False</td>\n",
       "      <td>True</td>\n",
       "      <td>False</td>\n",
       "      <td>False</td>\n",
       "      <td>False</td>\n",
       "    </tr>\n",
       "    <tr>\n",
       "      <th>11736</th>\n",
       "      <td>NaN</td>\n",
       "      <td>False</td>\n",
       "      <td>False</td>\n",
       "      <td>False</td>\n",
       "      <td>False</td>\n",
       "      <td>False</td>\n",
       "    </tr>\n",
       "    <tr>\n",
       "      <th>21665</th>\n",
       "      <td>InternalMedicine</td>\n",
       "      <td>True</td>\n",
       "      <td>False</td>\n",
       "      <td>False</td>\n",
       "      <td>False</td>\n",
       "      <td>False</td>\n",
       "    </tr>\n",
       "    <tr>\n",
       "      <th>53369</th>\n",
       "      <td>NaN</td>\n",
       "      <td>False</td>\n",
       "      <td>False</td>\n",
       "      <td>False</td>\n",
       "      <td>False</td>\n",
       "      <td>False</td>\n",
       "    </tr>\n",
       "    <tr>\n",
       "      <th>63905</th>\n",
       "      <td>Surgery-Neuro</td>\n",
       "      <td>False</td>\n",
       "      <td>False</td>\n",
       "      <td>False</td>\n",
       "      <td>False</td>\n",
       "      <td>False</td>\n",
       "    </tr>\n",
       "    <tr>\n",
       "      <th>61186</th>\n",
       "      <td>Cardiology</td>\n",
       "      <td>False</td>\n",
       "      <td>False</td>\n",
       "      <td>False</td>\n",
       "      <td>True</td>\n",
       "      <td>False</td>\n",
       "    </tr>\n",
       "    <tr>\n",
       "      <th>66969</th>\n",
       "      <td>NaN</td>\n",
       "      <td>False</td>\n",
       "      <td>False</td>\n",
       "      <td>False</td>\n",
       "      <td>False</td>\n",
       "      <td>False</td>\n",
       "    </tr>\n",
       "    <tr>\n",
       "      <th>14164</th>\n",
       "      <td>NaN</td>\n",
       "      <td>False</td>\n",
       "      <td>False</td>\n",
       "      <td>False</td>\n",
       "      <td>False</td>\n",
       "      <td>False</td>\n",
       "    </tr>\n",
       "  </tbody>\n",
       "</table>\n",
       "</div>"
      ],
      "text/plain": [
       "            medical_specialty  spec_InternalMedicine  \\\n",
       "95451                     NaN                  False   \n",
       "3312               Cardiology                  False   \n",
       "11304  Family/GeneralPractice                  False   \n",
       "11736                     NaN                  False   \n",
       "21665        InternalMedicine                   True   \n",
       "53369                     NaN                  False   \n",
       "63905           Surgery-Neuro                  False   \n",
       "61186              Cardiology                  False   \n",
       "66969                     NaN                  False   \n",
       "14164                     NaN                  False   \n",
       "\n",
       "       spec_Family/GeneralPractice  spec_Emergency/Trauma  spec_Cardiology  \\\n",
       "95451                        False                  False            False   \n",
       "3312                         False                  False             True   \n",
       "11304                         True                  False            False   \n",
       "11736                        False                  False            False   \n",
       "21665                        False                  False            False   \n",
       "53369                        False                  False            False   \n",
       "63905                        False                  False            False   \n",
       "61186                        False                  False             True   \n",
       "66969                        False                  False            False   \n",
       "14164                        False                  False            False   \n",
       "\n",
       "       spec_Surgery-General  \n",
       "95451                 False  \n",
       "3312                  False  \n",
       "11304                 False  \n",
       "11736                 False  \n",
       "21665                 False  \n",
       "53369                 False  \n",
       "63905                 False  \n",
       "61186                 False  \n",
       "66969                 False  \n",
       "14164                 False  "
      ]
     },
     "execution_count": 8,
     "metadata": {},
     "output_type": "execute_result"
    }
   ],
   "source": [
    "spec_thresh = 5\n",
    "for (spec, count) in spec_counts.head(spec_thresh).iteritems():\n",
    "    new_col = 'spec_' + str(spec)\n",
    "    df_raw[new_col] = (df_raw.medical_specialty == spec)\n",
    "    \n",
    "df_raw.filter(regex='spec').sample(10)"
   ]
  },
  {
   "cell_type": "markdown",
   "metadata": {
    "_cell_guid": "8c2324cd-1c59-4a6d-a6c0-b54e244009b9",
    "_uuid": "457a8e46d48d0477bdec0b5820f05c4a2946d79d"
   },
   "source": [
    "# Identify the most common diagnoses"
   ]
  },
  {
   "cell_type": "code",
   "execution_count": 9,
   "metadata": {
    "_cell_guid": "baf3a53e-9357-469f-93e6-b409c0d5f433",
    "_uuid": "da1f9fea6690d6f6b1a2fb475c65d7f75a857ba1"
   },
   "outputs": [
    {
     "data": {
      "text/html": [
       "<div>\n",
       "<style scoped>\n",
       "    .dataframe tbody tr th:only-of-type {\n",
       "        vertical-align: middle;\n",
       "    }\n",
       "\n",
       "    .dataframe tbody tr th {\n",
       "        vertical-align: top;\n",
       "    }\n",
       "\n",
       "    .dataframe thead th {\n",
       "        text-align: right;\n",
       "    }\n",
       "</style>\n",
       "<table border=\"1\" class=\"dataframe\">\n",
       "  <thead>\n",
       "    <tr style=\"text-align: right;\">\n",
       "      <th></th>\n",
       "      <th>num patients w diag</th>\n",
       "    </tr>\n",
       "  </thead>\n",
       "  <tbody>\n",
       "    <tr>\n",
       "      <th>250</th>\n",
       "      <td>1715.0</td>\n",
       "    </tr>\n",
       "    <tr>\n",
       "      <th>428</th>\n",
       "      <td>1706.0</td>\n",
       "    </tr>\n",
       "    <tr>\n",
       "      <th>276</th>\n",
       "      <td>1417.0</td>\n",
       "    </tr>\n",
       "    <tr>\n",
       "      <th>414</th>\n",
       "      <td>1256.0</td>\n",
       "    </tr>\n",
       "    <tr>\n",
       "      <th>401</th>\n",
       "      <td>1176.0</td>\n",
       "    </tr>\n",
       "    <tr>\n",
       "      <th>427</th>\n",
       "      <td>1162.0</td>\n",
       "    </tr>\n",
       "    <tr>\n",
       "      <th>599</th>\n",
       "      <td>651.0</td>\n",
       "    </tr>\n",
       "    <tr>\n",
       "      <th>496</th>\n",
       "      <td>602.0</td>\n",
       "    </tr>\n",
       "    <tr>\n",
       "      <th>486</th>\n",
       "      <td>559.0</td>\n",
       "    </tr>\n",
       "    <tr>\n",
       "      <th>403</th>\n",
       "      <td>519.0</td>\n",
       "    </tr>\n",
       "  </tbody>\n",
       "</table>\n",
       "</div>"
      ],
      "text/plain": [
       "     num patients w diag\n",
       "250               1715.0\n",
       "428               1706.0\n",
       "276               1417.0\n",
       "414               1256.0\n",
       "401               1176.0\n",
       "427               1162.0\n",
       "599                651.0\n",
       "496                602.0\n",
       "486                559.0\n",
       "403                519.0"
      ]
     },
     "execution_count": 9,
     "metadata": {},
     "output_type": "execute_result"
    }
   ],
   "source": [
    "diag_counts = (df_raw.diag_1.value_counts() + df_raw.diag_2.value_counts() + df_raw.diag_3.value_counts()).sort_values(ascending=False)\n",
    "diag_counts.head(10).to_frame('num patients w diag')"
   ]
  },
  {
   "cell_type": "markdown",
   "metadata": {
    "_cell_guid": "52fdb72e-4e27-41e6-9fba-7da3c5298549",
    "_uuid": "6e25229c75d87b6b9287742297fd81980bb522f5"
   },
   "source": [
    "# Generate boolean features for top N diagnoses"
   ]
  },
  {
   "cell_type": "code",
   "execution_count": 10,
   "metadata": {
    "_cell_guid": "deb66d4f-69c3-4b62-b55a-6a822bb01f5b",
    "_uuid": "7e22e692779fab22c9c00c954aeb96f07ed8aed4"
   },
   "outputs": [
    {
     "data": {
      "text/html": [
       "<div>\n",
       "<style scoped>\n",
       "    .dataframe tbody tr th:only-of-type {\n",
       "        vertical-align: middle;\n",
       "    }\n",
       "\n",
       "    .dataframe tbody tr th {\n",
       "        vertical-align: top;\n",
       "    }\n",
       "\n",
       "    .dataframe thead th {\n",
       "        text-align: right;\n",
       "    }\n",
       "</style>\n",
       "<table border=\"1\" class=\"dataframe\">\n",
       "  <thead>\n",
       "    <tr style=\"text-align: right;\">\n",
       "      <th></th>\n",
       "      <th>diag_1</th>\n",
       "      <th>diag_2</th>\n",
       "      <th>diag_3</th>\n",
       "      <th>diag_250</th>\n",
       "      <th>diag_428</th>\n",
       "      <th>diag_276</th>\n",
       "      <th>diag_414</th>\n",
       "      <th>diag_401</th>\n",
       "      <th>diag_427</th>\n",
       "      <th>diag_599</th>\n",
       "      <th>diag_496</th>\n",
       "      <th>diag_486</th>\n",
       "      <th>diag_403</th>\n",
       "    </tr>\n",
       "  </thead>\n",
       "  <tbody>\n",
       "    <tr>\n",
       "      <th>92614</th>\n",
       "      <td>786</td>\n",
       "      <td>250.92</td>\n",
       "      <td>401</td>\n",
       "      <td>False</td>\n",
       "      <td>False</td>\n",
       "      <td>False</td>\n",
       "      <td>False</td>\n",
       "      <td>True</td>\n",
       "      <td>False</td>\n",
       "      <td>False</td>\n",
       "      <td>False</td>\n",
       "      <td>False</td>\n",
       "      <td>False</td>\n",
       "    </tr>\n",
       "    <tr>\n",
       "      <th>49806</th>\n",
       "      <td>79</td>\n",
       "      <td>250.01</td>\n",
       "      <td>V42</td>\n",
       "      <td>False</td>\n",
       "      <td>False</td>\n",
       "      <td>False</td>\n",
       "      <td>False</td>\n",
       "      <td>False</td>\n",
       "      <td>False</td>\n",
       "      <td>False</td>\n",
       "      <td>False</td>\n",
       "      <td>False</td>\n",
       "      <td>False</td>\n",
       "    </tr>\n",
       "    <tr>\n",
       "      <th>32302</th>\n",
       "      <td>414</td>\n",
       "      <td>786</td>\n",
       "      <td>250</td>\n",
       "      <td>True</td>\n",
       "      <td>False</td>\n",
       "      <td>False</td>\n",
       "      <td>True</td>\n",
       "      <td>False</td>\n",
       "      <td>False</td>\n",
       "      <td>False</td>\n",
       "      <td>False</td>\n",
       "      <td>False</td>\n",
       "      <td>False</td>\n",
       "    </tr>\n",
       "    <tr>\n",
       "      <th>65945</th>\n",
       "      <td>491</td>\n",
       "      <td>518</td>\n",
       "      <td>428</td>\n",
       "      <td>False</td>\n",
       "      <td>True</td>\n",
       "      <td>False</td>\n",
       "      <td>False</td>\n",
       "      <td>False</td>\n",
       "      <td>False</td>\n",
       "      <td>False</td>\n",
       "      <td>False</td>\n",
       "      <td>False</td>\n",
       "      <td>False</td>\n",
       "    </tr>\n",
       "    <tr>\n",
       "      <th>8887</th>\n",
       "      <td>250.8</td>\n",
       "      <td>276</td>\n",
       "      <td>244</td>\n",
       "      <td>False</td>\n",
       "      <td>False</td>\n",
       "      <td>True</td>\n",
       "      <td>False</td>\n",
       "      <td>False</td>\n",
       "      <td>False</td>\n",
       "      <td>False</td>\n",
       "      <td>False</td>\n",
       "      <td>False</td>\n",
       "      <td>False</td>\n",
       "    </tr>\n",
       "    <tr>\n",
       "      <th>49164</th>\n",
       "      <td>428</td>\n",
       "      <td>401</td>\n",
       "      <td>250</td>\n",
       "      <td>True</td>\n",
       "      <td>True</td>\n",
       "      <td>False</td>\n",
       "      <td>False</td>\n",
       "      <td>True</td>\n",
       "      <td>False</td>\n",
       "      <td>False</td>\n",
       "      <td>False</td>\n",
       "      <td>False</td>\n",
       "      <td>False</td>\n",
       "    </tr>\n",
       "    <tr>\n",
       "      <th>15245</th>\n",
       "      <td>427</td>\n",
       "      <td>428</td>\n",
       "      <td>426</td>\n",
       "      <td>False</td>\n",
       "      <td>True</td>\n",
       "      <td>False</td>\n",
       "      <td>False</td>\n",
       "      <td>False</td>\n",
       "      <td>True</td>\n",
       "      <td>False</td>\n",
       "      <td>False</td>\n",
       "      <td>False</td>\n",
       "      <td>False</td>\n",
       "    </tr>\n",
       "    <tr>\n",
       "      <th>10669</th>\n",
       "      <td>821</td>\n",
       "      <td>428</td>\n",
       "      <td>426</td>\n",
       "      <td>False</td>\n",
       "      <td>True</td>\n",
       "      <td>False</td>\n",
       "      <td>False</td>\n",
       "      <td>False</td>\n",
       "      <td>False</td>\n",
       "      <td>False</td>\n",
       "      <td>False</td>\n",
       "      <td>False</td>\n",
       "      <td>False</td>\n",
       "    </tr>\n",
       "    <tr>\n",
       "      <th>18678</th>\n",
       "      <td>682</td>\n",
       "      <td>250</td>\n",
       "      <td>780</td>\n",
       "      <td>True</td>\n",
       "      <td>False</td>\n",
       "      <td>False</td>\n",
       "      <td>False</td>\n",
       "      <td>False</td>\n",
       "      <td>False</td>\n",
       "      <td>False</td>\n",
       "      <td>False</td>\n",
       "      <td>False</td>\n",
       "      <td>False</td>\n",
       "    </tr>\n",
       "    <tr>\n",
       "      <th>36816</th>\n",
       "      <td>428</td>\n",
       "      <td>276</td>\n",
       "      <td>493</td>\n",
       "      <td>False</td>\n",
       "      <td>True</td>\n",
       "      <td>True</td>\n",
       "      <td>False</td>\n",
       "      <td>False</td>\n",
       "      <td>False</td>\n",
       "      <td>False</td>\n",
       "      <td>False</td>\n",
       "      <td>False</td>\n",
       "      <td>False</td>\n",
       "    </tr>\n",
       "  </tbody>\n",
       "</table>\n",
       "</div>"
      ],
      "text/plain": [
       "      diag_1  diag_2 diag_3  diag_250  diag_428  diag_276  diag_414  diag_401  \\\n",
       "92614    786  250.92    401     False     False     False     False      True   \n",
       "49806     79  250.01    V42     False     False     False     False     False   \n",
       "32302    414     786    250      True     False     False      True     False   \n",
       "65945    491     518    428     False      True     False     False     False   \n",
       "8887   250.8     276    244     False     False      True     False     False   \n",
       "49164    428     401    250      True      True     False     False      True   \n",
       "15245    427     428    426     False      True     False     False     False   \n",
       "10669    821     428    426     False      True     False     False     False   \n",
       "18678    682     250    780      True     False     False     False     False   \n",
       "36816    428     276    493     False      True      True     False     False   \n",
       "\n",
       "       diag_427  diag_599  diag_496  diag_486  diag_403  \n",
       "92614     False     False     False     False     False  \n",
       "49806     False     False     False     False     False  \n",
       "32302     False     False     False     False     False  \n",
       "65945     False     False     False     False     False  \n",
       "8887      False     False     False     False     False  \n",
       "49164     False     False     False     False     False  \n",
       "15245      True     False     False     False     False  \n",
       "10669     False     False     False     False     False  \n",
       "18678     False     False     False     False     False  \n",
       "36816     False     False     False     False     False  "
      ]
     },
     "execution_count": 10,
     "metadata": {},
     "output_type": "execute_result"
    }
   ],
   "source": [
    "diag_thresh = 10\n",
    "for (icd9, count) in diag_counts.head(diag_thresh).iteritems():\n",
    "    new_col = 'diag_' + str(icd9)\n",
    "    df_raw[new_col] = (df_raw.diag_1 == icd9)|(df_raw.diag_2 == icd9)|(df_raw.diag_3 == icd9)\n",
    "    \n",
    "df_raw.filter(regex='diag_').sample(10)"
   ]
  },
  {
   "cell_type": "markdown",
   "metadata": {
    "_cell_guid": "bfc235a6-b7d9-4389-9968-009f8065888e",
    "_uuid": "4438f5dcfe2611e42f63305b22511cc4111410b7",
    "collapsed": true
   },
   "source": [
    "# Clean the data"
   ]
  },
  {
   "cell_type": "code",
   "execution_count": 11,
   "metadata": {
    "_cell_guid": "87989372-e6f2-4848-a977-c87b84b00dab",
    "_uuid": "f1b486932b51318430869eaa5010d76c0e409c39"
   },
   "outputs": [
    {
     "data": {
      "text/plain": [
       "42178     [70-80)\n",
       "43665     [70-80)\n",
       "78630     [40-50)\n",
       "47717     [80-90)\n",
       "17912    [90-100)\n",
       "20810     [60-70)\n",
       "42029     [60-70)\n",
       "64909     [40-50)\n",
       "3964      [30-40)\n",
       "11925     [60-70)\n",
       "Name: age, dtype: object"
      ]
     },
     "execution_count": 11,
     "metadata": {},
     "output_type": "execute_result"
    }
   ],
   "source": [
    "df_raw.age.sample(10)"
   ]
  },
  {
   "cell_type": "code",
   "execution_count": 12,
   "metadata": {
    "_cell_guid": "c3d810c0-385d-4980-9115-395f0a8904bb",
    "_uuid": "6576d9071b20eb72cd09cf0ef4e8a1d31344d018"
   },
   "outputs": [
    {
     "data": {
      "text/plain": [
       "(10000, 156)"
      ]
     },
     "execution_count": 12,
     "metadata": {},
     "output_type": "execute_result"
    }
   ],
   "source": [
    "df_raw2 = pd.DataFrame(df_raw, copy=True) #preserve df_raw so I can rerun this step\n",
    "df_raw2['age'] = df_raw2.age.str.extract('(\\d+)-\\d+')\n",
    "\n",
    "to_drop = col_data[col_data.var_type.str.contains('drop')].index\n",
    "df_raw2.drop(to_drop, axis=1, inplace=True)\n",
    "\n",
    "#break out categorical variables into binaries\n",
    "cat_cols = col_data[col_data.var_type.str.contains('cat')].index\n",
    "df_raw2 = pd.get_dummies(df_raw2, columns=cat_cols)\n",
    "\n",
    "#dropping these leaves up with one binary variable, ideal for simplicity\n",
    "df_raw2.drop(['readmitted_<30','readmitted_>30'], axis=1, inplace=True)\n",
    "\n",
    "#cleaning up outcome variable\n",
    "df_raw2['is_readmitted'] = (df_raw2.readmitted_NO == 0)\n",
    "df_raw2.drop('readmitted_NO', axis=1, inplace=True)\n",
    "\n",
    "#ta daaaaaah, the data is ready to go\n",
    "df = pd.DataFrame(df_raw2)\n",
    "df.shape"
   ]
  },
  {
   "cell_type": "code",
   "execution_count": 13,
   "metadata": {
    "_cell_guid": "a3a0e880-c746-482b-a710-d20eb2021858",
    "_uuid": "4b398ccb0c77ef0a6de5e63a81a4aa47cd7cd221"
   },
   "outputs": [
    {
     "data": {
      "text/plain": [
       "98617    80\n",
       "69661    60\n",
       "16808    40\n",
       "15984    20\n",
       "6994     70\n",
       "8887     70\n",
       "31069    80\n",
       "11446    80\n",
       "26238    50\n",
       "54831    60\n",
       "Name: age, dtype: object"
      ]
     },
     "execution_count": 13,
     "metadata": {},
     "output_type": "execute_result"
    }
   ],
   "source": [
    "df.age.sample(10)"
   ]
  },
  {
   "cell_type": "code",
   "execution_count": 14,
   "metadata": {
    "_cell_guid": "7efb11a4-629e-462b-b200-332c8d638b4b",
    "_uuid": "ee4ab9d9e03216dadd090da9353ebfadca152d0b"
   },
   "outputs": [
    {
     "data": {
      "text/html": [
       "<div>\n",
       "<style scoped>\n",
       "    .dataframe tbody tr th:only-of-type {\n",
       "        vertical-align: middle;\n",
       "    }\n",
       "\n",
       "    .dataframe tbody tr th {\n",
       "        vertical-align: top;\n",
       "    }\n",
       "\n",
       "    .dataframe thead th {\n",
       "        text-align: right;\n",
       "    }\n",
       "</style>\n",
       "<table border=\"1\" class=\"dataframe\">\n",
       "  <thead>\n",
       "    <tr style=\"text-align: right;\">\n",
       "      <th></th>\n",
       "      <th>glyburide_Down</th>\n",
       "      <th>A1Cresult_&gt;8</th>\n",
       "      <th>time_in_hospital</th>\n",
       "      <th>discharge_disposition_id_2</th>\n",
       "      <th>change_No</th>\n",
       "      <th>admission_source_id_8</th>\n",
       "      <th>number_inpatient</th>\n",
       "    </tr>\n",
       "  </thead>\n",
       "  <tbody>\n",
       "    <tr>\n",
       "      <th>97090</th>\n",
       "      <td>0</td>\n",
       "      <td>0</td>\n",
       "      <td>5</td>\n",
       "      <td>0</td>\n",
       "      <td>0</td>\n",
       "      <td>0</td>\n",
       "      <td>0</td>\n",
       "    </tr>\n",
       "    <tr>\n",
       "      <th>79433</th>\n",
       "      <td>0</td>\n",
       "      <td>0</td>\n",
       "      <td>14</td>\n",
       "      <td>0</td>\n",
       "      <td>1</td>\n",
       "      <td>0</td>\n",
       "      <td>1</td>\n",
       "    </tr>\n",
       "    <tr>\n",
       "      <th>8517</th>\n",
       "      <td>0</td>\n",
       "      <td>0</td>\n",
       "      <td>4</td>\n",
       "      <td>0</td>\n",
       "      <td>1</td>\n",
       "      <td>0</td>\n",
       "      <td>0</td>\n",
       "    </tr>\n",
       "    <tr>\n",
       "      <th>71720</th>\n",
       "      <td>0</td>\n",
       "      <td>0</td>\n",
       "      <td>2</td>\n",
       "      <td>0</td>\n",
       "      <td>0</td>\n",
       "      <td>0</td>\n",
       "      <td>0</td>\n",
       "    </tr>\n",
       "    <tr>\n",
       "      <th>73675</th>\n",
       "      <td>0</td>\n",
       "      <td>0</td>\n",
       "      <td>4</td>\n",
       "      <td>0</td>\n",
       "      <td>1</td>\n",
       "      <td>0</td>\n",
       "      <td>2</td>\n",
       "    </tr>\n",
       "    <tr>\n",
       "      <th>11493</th>\n",
       "      <td>0</td>\n",
       "      <td>0</td>\n",
       "      <td>2</td>\n",
       "      <td>0</td>\n",
       "      <td>0</td>\n",
       "      <td>0</td>\n",
       "      <td>0</td>\n",
       "    </tr>\n",
       "    <tr>\n",
       "      <th>28668</th>\n",
       "      <td>0</td>\n",
       "      <td>0</td>\n",
       "      <td>2</td>\n",
       "      <td>0</td>\n",
       "      <td>0</td>\n",
       "      <td>0</td>\n",
       "      <td>0</td>\n",
       "    </tr>\n",
       "    <tr>\n",
       "      <th>71617</th>\n",
       "      <td>0</td>\n",
       "      <td>0</td>\n",
       "      <td>3</td>\n",
       "      <td>0</td>\n",
       "      <td>0</td>\n",
       "      <td>0</td>\n",
       "      <td>0</td>\n",
       "    </tr>\n",
       "    <tr>\n",
       "      <th>2787</th>\n",
       "      <td>0</td>\n",
       "      <td>0</td>\n",
       "      <td>14</td>\n",
       "      <td>0</td>\n",
       "      <td>1</td>\n",
       "      <td>0</td>\n",
       "      <td>0</td>\n",
       "    </tr>\n",
       "    <tr>\n",
       "      <th>52619</th>\n",
       "      <td>0</td>\n",
       "      <td>0</td>\n",
       "      <td>4</td>\n",
       "      <td>0</td>\n",
       "      <td>1</td>\n",
       "      <td>0</td>\n",
       "      <td>0</td>\n",
       "    </tr>\n",
       "    <tr>\n",
       "      <th>97297</th>\n",
       "      <td>0</td>\n",
       "      <td>0</td>\n",
       "      <td>2</td>\n",
       "      <td>0</td>\n",
       "      <td>1</td>\n",
       "      <td>0</td>\n",
       "      <td>0</td>\n",
       "    </tr>\n",
       "    <tr>\n",
       "      <th>11821</th>\n",
       "      <td>0</td>\n",
       "      <td>0</td>\n",
       "      <td>6</td>\n",
       "      <td>0</td>\n",
       "      <td>1</td>\n",
       "      <td>0</td>\n",
       "      <td>0</td>\n",
       "    </tr>\n",
       "    <tr>\n",
       "      <th>41590</th>\n",
       "      <td>0</td>\n",
       "      <td>0</td>\n",
       "      <td>3</td>\n",
       "      <td>0</td>\n",
       "      <td>1</td>\n",
       "      <td>0</td>\n",
       "      <td>0</td>\n",
       "    </tr>\n",
       "    <tr>\n",
       "      <th>93610</th>\n",
       "      <td>0</td>\n",
       "      <td>0</td>\n",
       "      <td>2</td>\n",
       "      <td>0</td>\n",
       "      <td>1</td>\n",
       "      <td>0</td>\n",
       "      <td>3</td>\n",
       "    </tr>\n",
       "    <tr>\n",
       "      <th>43920</th>\n",
       "      <td>0</td>\n",
       "      <td>0</td>\n",
       "      <td>6</td>\n",
       "      <td>0</td>\n",
       "      <td>1</td>\n",
       "      <td>0</td>\n",
       "      <td>1</td>\n",
       "    </tr>\n",
       "  </tbody>\n",
       "</table>\n",
       "</div>"
      ],
      "text/plain": [
       "       glyburide_Down  A1Cresult_>8  time_in_hospital  \\\n",
       "97090               0             0                 5   \n",
       "79433               0             0                14   \n",
       "8517                0             0                 4   \n",
       "71720               0             0                 2   \n",
       "73675               0             0                 4   \n",
       "11493               0             0                 2   \n",
       "28668               0             0                 2   \n",
       "71617               0             0                 3   \n",
       "2787                0             0                14   \n",
       "52619               0             0                 4   \n",
       "97297               0             0                 2   \n",
       "11821               0             0                 6   \n",
       "41590               0             0                 3   \n",
       "93610               0             0                 2   \n",
       "43920               0             0                 6   \n",
       "\n",
       "       discharge_disposition_id_2  change_No  admission_source_id_8  \\\n",
       "97090                           0          0                      0   \n",
       "79433                           0          1                      0   \n",
       "8517                            0          1                      0   \n",
       "71720                           0          0                      0   \n",
       "73675                           0          1                      0   \n",
       "11493                           0          0                      0   \n",
       "28668                           0          0                      0   \n",
       "71617                           0          0                      0   \n",
       "2787                            0          1                      0   \n",
       "52619                           0          1                      0   \n",
       "97297                           0          1                      0   \n",
       "11821                           0          1                      0   \n",
       "41590                           0          1                      0   \n",
       "93610                           0          1                      0   \n",
       "43920                           0          1                      0   \n",
       "\n",
       "       number_inpatient  \n",
       "97090                 0  \n",
       "79433                 1  \n",
       "8517                  0  \n",
       "71720                 0  \n",
       "73675                 2  \n",
       "11493                 0  \n",
       "28668                 0  \n",
       "71617                 0  \n",
       "2787                  0  \n",
       "52619                 0  \n",
       "97297                 0  \n",
       "11821                 0  \n",
       "41590                 0  \n",
       "93610                 3  \n",
       "43920                 1  "
      ]
     },
     "execution_count": 14,
     "metadata": {},
     "output_type": "execute_result"
    }
   ],
   "source": [
    "df.sample(15).sample(7, axis=1)"
   ]
  },
  {
   "cell_type": "markdown",
   "metadata": {
    "_cell_guid": "023fcec0-3abf-4438-b0f9-1d90bff3160e",
    "_uuid": "f776c66446212e43fd9711e542f952b28efdd5ce"
   },
   "source": [
    "# Examine outcome variable"
   ]
  },
  {
   "cell_type": "code",
   "execution_count": 15,
   "metadata": {
    "_cell_guid": "47a23144-0c57-41ee-ae9e-41c7d88665f3",
    "_uuid": "b928cf235310739ee5f9424238e1c1b666401cd4"
   },
   "outputs": [
    {
     "data": {
      "text/plain": [
       "False    5346\n",
       "True     4654\n",
       "Name: is_readmitted, dtype: int64"
      ]
     },
     "execution_count": 15,
     "metadata": {},
     "output_type": "execute_result"
    }
   ],
   "source": [
    "df.is_readmitted.value_counts()"
   ]
  },
  {
   "cell_type": "markdown",
   "metadata": {
    "_cell_guid": "e83950f5-bc1e-4d4b-8114-85eb6589e5c3",
    "_uuid": "d810162bdf5a62088ba069618c9bb08c25b29b4e"
   },
   "source": [
    "# Define this machine learning problem, impute, set aside test data"
   ]
  },
  {
   "cell_type": "code",
   "execution_count": 16,
   "metadata": {
    "_cell_guid": "53f12577-3e19-485e-8c67-9a0de4a69494",
    "_uuid": "51baa417321f8522ae02c0f3e705ec3c7503074b"
   },
   "outputs": [],
   "source": [
    "#partition training and test data, one balanced training set, all remaining for testing \n",
    "outcome_column = 'is_readmitted' \n",
    "\n",
    "#Imputing with outlying value since we are focusing on tree based methods\n",
    "dff = df.fillna(-9999) \n",
    "\n",
    "#%% Split data for validation\n",
    "X = dff.drop(outcome_column, axis=1) \n",
    "y = dff[outcome_column] \n",
    "X_train, X_test, y_train, y_test = train_test_split(X, y, test_size=0.5, random_state=0) "
   ]
  },
  {
   "cell_type": "markdown",
   "metadata": {
    "_cell_guid": "9b83802f-5baf-43ce-9e13-152588c8e458",
    "_uuid": "58240a96b270e68c5ebf9990af40682a63897eb7"
   },
   "source": [
    "# Fit data to Random Forest model, trying different subsets of variables\n"
   ]
  },
  {
   "cell_type": "code",
   "execution_count": 17,
   "metadata": {
    "_cell_guid": "49eb00e3-a500-46a0-b5da-4627171d045b",
    "_uuid": "1c6ea52077f1c567516b1b6bfbc2d3f9c559ec44"
   },
   "outputs": [
    {
     "data": {
      "text/plain": [
       "RFECV(cv=5,\n",
       "   estimator=RandomForestClassifier(bootstrap=True, class_weight=None, criterion='gini',\n",
       "            max_depth=None, max_features='auto', max_leaf_nodes=None,\n",
       "            min_impurity_decrease=0.0, min_impurity_split=None,\n",
       "            min_samples_leaf=1, min_samples_split=2,\n",
       "            min_weight_fraction_leaf=0.0, n_estimators=100, n_jobs=None,\n",
       "            oob_score=False, random_state=None, verbose=0,\n",
       "            warm_start=False),\n",
       "   min_features_to_select=1, n_jobs=10, scoring=None, step=1, verbose=0)"
      ]
     },
     "execution_count": 17,
     "metadata": {},
     "output_type": "execute_result"
    }
   ],
   "source": [
    "rfc_rfe = RandomForestClassifier(n_estimators = 100)\n",
    "#This step takes a while to run...\n",
    "rfe = RFECV(estimator=rfc_rfe, cv=5, verbose=0, n_jobs=10)\n",
    "rfe.fit(X_train, y_train)"
   ]
  },
  {
   "cell_type": "markdown",
   "metadata": {
    "_cell_guid": "c0b93205-e4b5-4f91-b6b6-f89c302ba8e1",
    "_uuid": "06b21cd176b11ecf2a9c7537f867b7d52e480c29"
   },
   "source": [
    "# Examine feature importances"
   ]
  },
  {
   "cell_type": "code",
   "execution_count": 18,
   "metadata": {
    "_cell_guid": "45a5370d-84a8-420f-8d25-1bac881f1ee2",
    "_uuid": "2c34237f0222c3749841d798cb726a15490d5633"
   },
   "outputs": [
    {
     "data": {
      "text/plain": [
       "155"
      ]
     },
     "execution_count": 18,
     "metadata": {},
     "output_type": "execute_result"
    }
   ],
   "source": [
    "feat_ranks = pd.Series(index=X.columns, data=rfe.ranking_)\n",
    "rf_feats = feat_ranks[feat_ranks==1].index\n",
    "len(feat_ranks)"
   ]
  },
  {
   "cell_type": "code",
   "execution_count": 19,
   "metadata": {
    "_cell_guid": "3493ff39-d681-407d-afba-c93b9d0aca7e",
    "_uuid": "fdeecd8ffb66b23458544af01e1104873e3b1a4b"
   },
   "outputs": [
    {
     "data": {
      "text/plain": [
       "132"
      ]
     },
     "execution_count": 19,
     "metadata": {},
     "output_type": "execute_result"
    }
   ],
   "source": [
    "len(rf_feats)"
   ]
  },
  {
   "cell_type": "code",
   "execution_count": 20,
   "metadata": {
    "_cell_guid": "91d10d89-9641-49b9-95d4-273abb4e3ba3",
    "_uuid": "49460c5d47c4c482c92b580ed795ab8166ff5512"
   },
   "outputs": [
    {
     "data": {
      "text/plain": [
       "num_lab_procedures            0.077656\n",
       "num_medications               0.072497\n",
       "time_in_hospital              0.054118\n",
       "number_inpatient              0.048967\n",
       "age                           0.045857\n",
       "number_diagnoses              0.040058\n",
       "num_procedures                0.036495\n",
       "number_outpatient             0.021807\n",
       "number_emergency              0.017384\n",
       "discharge_disposition_id_1    0.015114\n",
       "payer_code_MC                 0.014983\n",
       "gender_Male                   0.013913\n",
       "gender_Female                 0.013432\n",
       "race_Caucasian                0.012529\n",
       "diag_428                      0.012299\n",
       "admission_source_id_7         0.011662\n",
       "diag_276                      0.011526\n",
       "insulin_Steady                0.011403\n",
       "diag_427                      0.011262\n",
       "diag_250                      0.011148\n",
       "dtype: float64"
      ]
     },
     "execution_count": 20,
     "metadata": {},
     "output_type": "execute_result"
    }
   ],
   "source": [
    "X_test_red = rfe.transform(X_test)\n",
    "X_train_red = rfe.transform(X_train)\n",
    "\n",
    "rfc = rfe.estimator_\n",
    "\n",
    "feat_imp = pd.Series(index=rf_feats, data=rfc.feature_importances_)\n",
    "feat_imp.sort_values(ascending=False).head(20)"
   ]
  },
  {
   "cell_type": "markdown",
   "metadata": {
    "_cell_guid": "7a6d76e1-f5de-473d-9711-63c05aedc9f0",
    "_uuid": "020fa992441440bb88a8d5c49aab03c0fac5ded7"
   },
   "source": [
    "# Assess prediction accuracy"
   ]
  },
  {
   "cell_type": "code",
   "execution_count": 21,
   "metadata": {
    "_cell_guid": "781066b6-5b62-4e87-8cf9-3dfd62c60bac",
    "_uuid": "86f6d1318f3a63aa15047b205ab3d4e93b87bd85"
   },
   "outputs": [
    {
     "data": {
      "image/png": "[encoded data removed]",
      "text/plain": [
       "<Figure size 432x288 with 1 Axes>"
      ]
     },
     "metadata": {
      "needs_background": "light"
     },
     "output_type": "display_data"
    },
    {
     "data": {
      "text/plain": [
       "0.6808604823132954"
      ]
     },
     "execution_count": 21,
     "metadata": {},
     "output_type": "execute_result"
    }
   ],
   "source": [
    "#%% assess accuracy\n",
    "pred = rfc.predict_proba(X_test_red)[:,1]\n",
    "fpr, tpr, threshold = sklearn.metrics.roc_curve(y_test, pred, drop_intermediate=True)    \n",
    "df_res = pd.DataFrame(data={'fpr':fpr, 'tpr':tpr, 'threshold':threshold})\n",
    "df_res = df_res[['threshold','fpr','tpr']]\n",
    "sklearn.metrics.auc(fpr, tpr)\n",
    "t=y.value_counts()[1]/y.value_counts().sum()\n",
    "sklearn.metrics.f1_score(y_test, pred>t)\n",
    "sklearn.metrics.accuracy_score(y_test, pred>t)\n",
    "\n",
    "roc_auc(pred, y_test)"
   ]
  },
  {
   "cell_type": "code",
   "execution_count": 22,
   "metadata": {
    "_cell_guid": "f64c2b7c-c8da-4f39-8457-11a8be9b88cb",
    "_uuid": "65cbb968e3b3af45dcf536f9167d7aa73db5c4d6"
   },
   "outputs": [
    {
     "data": {
      "text/plain": [
       "0.6808604823132954"
      ]
     },
     "execution_count": 22,
     "metadata": {},
     "output_type": "execute_result"
    }
   ],
   "source": [
    "#TODO - visualize accuracy metrics based on threshold\n",
    "pd.options.mode.chained_assignment = None\n",
    "pred = rfc.predict_proba(X_test_red)[:,1]\n",
    "fpr, tpr, threshold = sklearn.metrics.roc_curve(y_test, pred, drop_intermediate=True)    \n",
    "df_res = pd.DataFrame(data={'fpr':fpr, 'tpr':tpr, 'threshold':threshold})\n",
    "df_res = df_res[['threshold','fpr','tpr']]\n",
    "sklearn.metrics.auc(fpr, tpr)"
   ]
  },
  {
   "cell_type": "code",
   "execution_count": 23,
   "metadata": {
    "_cell_guid": "ab5561f2-6ca0-46e7-a307-3d75918630b4",
    "_uuid": "e0bf32bfb2a542c6fda20b920ff6a98c50048324"
   },
   "outputs": [
    {
     "name": "stderr",
     "output_type": "stream",
     "text": [
      "C:\\Users\\xiaoyzhu.REDMOND\\AppData\\Local\\Continuum\\anaconda3\\envs\\azureml\\lib\\site-packages\\sklearn\\metrics\\classification.py:1143: UndefinedMetricWarning: Precision is ill-defined and being set to 0.0 due to no predicted samples.\n",
      "  'precision', 'predicted', average, warn_for)\n",
      "C:\\Users\\xiaoyzhu.REDMOND\\AppData\\Local\\Continuum\\anaconda3\\envs\\azureml\\lib\\site-packages\\sklearn\\metrics\\classification.py:1143: UndefinedMetricWarning: F-score is ill-defined and being set to 0.0 due to no predicted samples.\n",
      "  'precision', 'predicted', average, warn_for)\n"
     ]
    },
    {
     "data": {
      "text/plain": [
       "threshold      0.360000\n",
       "fpr            0.677419\n",
       "tpr            0.867130\n",
       "accuracy       0.582600\n",
       "precision      0.529079\n",
       "recall         0.853235\n",
       "f1             0.653149\n",
       "specificity    0.322581\n",
       "Name: 55, dtype: float64"
      ]
     },
     "execution_count": 23,
     "metadata": {},
     "output_type": "execute_result"
    }
   ],
   "source": [
    "df_res['accuracy'] = df_res.threshold.apply(lambda t: sklearn.metrics.accuracy_score(y_test, pred>t))\n",
    "df_res['precision'] = df_res.threshold.apply(lambda t: sklearn.metrics.precision_score(y_test, pred>t))\n",
    "df_res['recall'] = df_res.threshold.apply(lambda t: sklearn.metrics.recall_score(y_test, pred>t))\n",
    "df_res['f1'] = df_res.threshold.apply(lambda t: sklearn.metrics.f1_score(y_test, pred>t))\n",
    "df_res['specificity'] = df_res.fpr.apply(lambda fpr: 1-fpr)\n",
    "\n",
    "pt_opt = df_res[df_res.f1 == df_res.f1.max()].iloc[0]\n",
    "pt_opt"
   ]
  },
  {
   "cell_type": "code",
   "execution_count": 24,
   "metadata": {
    "_cell_guid": "a2363a1e-0841-428c-be48-9143f2f4c39a",
    "_uuid": "c5be35194e820ab95721a48be2be71ad7d022d22"
   },
   "outputs": [
    {
     "data": {
      "text/plain": [
       "<matplotlib.axes._subplots.AxesSubplot at 0x203a73206a0>"
      ]
     },
     "execution_count": 24,
     "metadata": {},
     "output_type": "execute_result"
    },
    {
     "data": {
      "image/png": "[encoded data removed]",
      "text/plain": [
       "<Figure size 1440x432 with 1 Axes>"
      ]
     },
     "metadata": {
      "needs_background": "light"
     },
     "output_type": "display_data"
    }
   ],
   "source": [
    "plt.rcParams[\"figure.figsize\"] = (20,6)\n",
    "df_res.plot(x='threshold')"
   ]
  },
  {
   "cell_type": "markdown",
   "metadata": {
    "_cell_guid": "a2e5d190-5dbb-42ab-8046-8f4b3115055a",
    "_uuid": "c1d7a95466edfe41adb54482aa8262b2ff25ba4b"
   },
   "source": [
    "# Generate Decision tree based on the top features"
   ]
  },
  {
   "cell_type": "code",
   "execution_count": 25,
   "metadata": {
    "_cell_guid": "a3766209-f6b4-4a5b-99fd-369727b35de4",
    "_uuid": "fbe980fbd8a1fcbe03ff74056b1bd0638af21c4b"
   },
   "outputs": [],
   "source": [
    "from sklearn.externals.six import StringIO  \n",
    "\n",
    "dtc = DecisionTreeClassifier(min_samples_leaf=0.125, min_samples_split=0.125)\n",
    "dtc.fit(X_train_red, y_train)\n",
    "from sklearn import tree\n"
   ]
  },
  {
   "cell_type": "code",
   "execution_count": 26,
   "metadata": {
    "_cell_guid": "5766c239-a6c8-4471-9f65-23e67bd7904d",
    "_uuid": "6aeef1715d8d2a337a27a7b070756512c5573740"
   },
   "outputs": [
    {
     "ename": "FileNotFoundError",
     "evalue": "[WinError 2] The system cannot find the file specified",
     "output_type": "error",
     "traceback": [
      "\u001b[1;31m---------------------------------------------------------------------------\u001b[0m",
      "\u001b[1;31mFileNotFoundError\u001b[0m                         Traceback (most recent call last)",
      "\u001b[1;32m<ipython-input-26-7568964eabad>\u001b[0m in \u001b[0;36m<module>\u001b[1;34m\u001b[0m\n\u001b[0;32m      2\u001b[0m \u001b[1;32mfrom\u001b[0m \u001b[0msubprocess\u001b[0m \u001b[1;32mimport\u001b[0m \u001b[0mcheck_call\u001b[0m\u001b[1;33m\u001b[0m\u001b[1;33m\u001b[0m\u001b[0m\n\u001b[0;32m      3\u001b[0m \u001b[0mtree\u001b[0m\u001b[1;33m.\u001b[0m\u001b[0mexport_graphviz\u001b[0m\u001b[1;33m(\u001b[0m\u001b[0mdtc\u001b[0m\u001b[1;33m,\u001b[0m \u001b[0mout_file\u001b[0m\u001b[1;33m=\u001b[0m\u001b[1;34m\"tree.dot\"\u001b[0m\u001b[1;33m,\u001b[0m \u001b[0mfeature_names\u001b[0m\u001b[1;33m=\u001b[0m\u001b[0mrf_feats\u001b[0m\u001b[1;33m,\u001b[0m \u001b[0mproportion\u001b[0m\u001b[1;33m=\u001b[0m\u001b[1;32mTrue\u001b[0m\u001b[1;33m)\u001b[0m\u001b[1;33m\u001b[0m\u001b[1;33m\u001b[0m\u001b[0m\n\u001b[1;32m----> 4\u001b[1;33m \u001b[0mcheck_call\u001b[0m\u001b[1;33m(\u001b[0m\u001b[1;33m[\u001b[0m\u001b[1;34m'dot'\u001b[0m\u001b[1;33m,\u001b[0m\u001b[1;34m'-Tpng'\u001b[0m\u001b[1;33m,\u001b[0m\u001b[1;34m'tree.dot'\u001b[0m\u001b[1;33m,\u001b[0m\u001b[1;34m'-o'\u001b[0m\u001b[1;33m,\u001b[0m\u001b[1;34m'tree.png'\u001b[0m\u001b[1;33m]\u001b[0m\u001b[1;33m)\u001b[0m\u001b[1;33m\u001b[0m\u001b[1;33m\u001b[0m\u001b[0m\n\u001b[0m\u001b[0;32m      5\u001b[0m \u001b[0mImage\u001b[0m\u001b[1;33m(\u001b[0m\u001b[0mfilename\u001b[0m\u001b[1;33m=\u001b[0m\u001b[1;34m'tree.png'\u001b[0m\u001b[1;33m)\u001b[0m\u001b[1;33m\u001b[0m\u001b[1;33m\u001b[0m\u001b[0m\n",
      "\u001b[1;32m~\\AppData\\Local\\Continuum\\anaconda3\\envs\\azureml\\lib\\subprocess.py\u001b[0m in \u001b[0;36mcheck_call\u001b[1;34m(*popenargs, **kwargs)\u001b[0m\n\u001b[0;32m    284\u001b[0m     \u001b[0mcheck_call\u001b[0m\u001b[1;33m(\u001b[0m\u001b[1;33m[\u001b[0m\u001b[1;34m\"ls\"\u001b[0m\u001b[1;33m,\u001b[0m \u001b[1;34m\"-l\"\u001b[0m\u001b[1;33m]\u001b[0m\u001b[1;33m)\u001b[0m\u001b[1;33m\u001b[0m\u001b[1;33m\u001b[0m\u001b[0m\n\u001b[0;32m    285\u001b[0m     \"\"\"\n\u001b[1;32m--> 286\u001b[1;33m     \u001b[0mretcode\u001b[0m \u001b[1;33m=\u001b[0m \u001b[0mcall\u001b[0m\u001b[1;33m(\u001b[0m\u001b[1;33m*\u001b[0m\u001b[0mpopenargs\u001b[0m\u001b[1;33m,\u001b[0m \u001b[1;33m**\u001b[0m\u001b[0mkwargs\u001b[0m\u001b[1;33m)\u001b[0m\u001b[1;33m\u001b[0m\u001b[1;33m\u001b[0m\u001b[0m\n\u001b[0m\u001b[0;32m    287\u001b[0m     \u001b[1;32mif\u001b[0m \u001b[0mretcode\u001b[0m\u001b[1;33m:\u001b[0m\u001b[1;33m\u001b[0m\u001b[1;33m\u001b[0m\u001b[0m\n\u001b[0;32m    288\u001b[0m         \u001b[0mcmd\u001b[0m \u001b[1;33m=\u001b[0m \u001b[0mkwargs\u001b[0m\u001b[1;33m.\u001b[0m\u001b[0mget\u001b[0m\u001b[1;33m(\u001b[0m\u001b[1;34m\"args\"\u001b[0m\u001b[1;33m)\u001b[0m\u001b[1;33m\u001b[0m\u001b[1;33m\u001b[0m\u001b[0m\n",
      "\u001b[1;32m~\\AppData\\Local\\Continuum\\anaconda3\\envs\\azureml\\lib\\subprocess.py\u001b[0m in \u001b[0;36mcall\u001b[1;34m(timeout, *popenargs, **kwargs)\u001b[0m\n\u001b[0;32m    265\u001b[0m     \u001b[0mretcode\u001b[0m \u001b[1;33m=\u001b[0m \u001b[0mcall\u001b[0m\u001b[1;33m(\u001b[0m\u001b[1;33m[\u001b[0m\u001b[1;34m\"ls\"\u001b[0m\u001b[1;33m,\u001b[0m \u001b[1;34m\"-l\"\u001b[0m\u001b[1;33m]\u001b[0m\u001b[1;33m)\u001b[0m\u001b[1;33m\u001b[0m\u001b[1;33m\u001b[0m\u001b[0m\n\u001b[0;32m    266\u001b[0m     \"\"\"\n\u001b[1;32m--> 267\u001b[1;33m     \u001b[1;32mwith\u001b[0m \u001b[0mPopen\u001b[0m\u001b[1;33m(\u001b[0m\u001b[1;33m*\u001b[0m\u001b[0mpopenargs\u001b[0m\u001b[1;33m,\u001b[0m \u001b[1;33m**\u001b[0m\u001b[0mkwargs\u001b[0m\u001b[1;33m)\u001b[0m \u001b[1;32mas\u001b[0m \u001b[0mp\u001b[0m\u001b[1;33m:\u001b[0m\u001b[1;33m\u001b[0m\u001b[1;33m\u001b[0m\u001b[0m\n\u001b[0m\u001b[0;32m    268\u001b[0m         \u001b[1;32mtry\u001b[0m\u001b[1;33m:\u001b[0m\u001b[1;33m\u001b[0m\u001b[1;33m\u001b[0m\u001b[0m\n\u001b[0;32m    269\u001b[0m             \u001b[1;32mreturn\u001b[0m \u001b[0mp\u001b[0m\u001b[1;33m.\u001b[0m\u001b[0mwait\u001b[0m\u001b[1;33m(\u001b[0m\u001b[0mtimeout\u001b[0m\u001b[1;33m=\u001b[0m\u001b[0mtimeout\u001b[0m\u001b[1;33m)\u001b[0m\u001b[1;33m\u001b[0m\u001b[1;33m\u001b[0m\u001b[0m\n",
      "\u001b[1;32m~\\AppData\\Local\\Continuum\\anaconda3\\envs\\azureml\\lib\\subprocess.py\u001b[0m in \u001b[0;36m__init__\u001b[1;34m(self, args, bufsize, executable, stdin, stdout, stderr, preexec_fn, close_fds, shell, cwd, env, universal_newlines, startupinfo, creationflags, restore_signals, start_new_session, pass_fds, encoding, errors)\u001b[0m\n\u001b[0;32m    707\u001b[0m                                 \u001b[0mc2pread\u001b[0m\u001b[1;33m,\u001b[0m \u001b[0mc2pwrite\u001b[0m\u001b[1;33m,\u001b[0m\u001b[1;33m\u001b[0m\u001b[1;33m\u001b[0m\u001b[0m\n\u001b[0;32m    708\u001b[0m                                 \u001b[0merrread\u001b[0m\u001b[1;33m,\u001b[0m \u001b[0merrwrite\u001b[0m\u001b[1;33m,\u001b[0m\u001b[1;33m\u001b[0m\u001b[1;33m\u001b[0m\u001b[0m\n\u001b[1;32m--> 709\u001b[1;33m                                 restore_signals, start_new_session)\n\u001b[0m\u001b[0;32m    710\u001b[0m         \u001b[1;32mexcept\u001b[0m\u001b[1;33m:\u001b[0m\u001b[1;33m\u001b[0m\u001b[1;33m\u001b[0m\u001b[0m\n\u001b[0;32m    711\u001b[0m             \u001b[1;31m# Cleanup if the child failed starting.\u001b[0m\u001b[1;33m\u001b[0m\u001b[1;33m\u001b[0m\u001b[1;33m\u001b[0m\u001b[0m\n",
      "\u001b[1;32m~\\AppData\\Local\\Continuum\\anaconda3\\envs\\azureml\\lib\\subprocess.py\u001b[0m in \u001b[0;36m_execute_child\u001b[1;34m(self, args, executable, preexec_fn, close_fds, pass_fds, cwd, env, startupinfo, creationflags, shell, p2cread, p2cwrite, c2pread, c2pwrite, errread, errwrite, unused_restore_signals, unused_start_new_session)\u001b[0m\n\u001b[0;32m    995\u001b[0m                                          \u001b[0menv\u001b[0m\u001b[1;33m,\u001b[0m\u001b[1;33m\u001b[0m\u001b[1;33m\u001b[0m\u001b[0m\n\u001b[0;32m    996\u001b[0m                                          \u001b[0mos\u001b[0m\u001b[1;33m.\u001b[0m\u001b[0mfspath\u001b[0m\u001b[1;33m(\u001b[0m\u001b[0mcwd\u001b[0m\u001b[1;33m)\u001b[0m \u001b[1;32mif\u001b[0m \u001b[0mcwd\u001b[0m \u001b[1;32mis\u001b[0m \u001b[1;32mnot\u001b[0m \u001b[1;32mNone\u001b[0m \u001b[1;32melse\u001b[0m \u001b[1;32mNone\u001b[0m\u001b[1;33m,\u001b[0m\u001b[1;33m\u001b[0m\u001b[1;33m\u001b[0m\u001b[0m\n\u001b[1;32m--> 997\u001b[1;33m                                          startupinfo)\n\u001b[0m\u001b[0;32m    998\u001b[0m             \u001b[1;32mfinally\u001b[0m\u001b[1;33m:\u001b[0m\u001b[1;33m\u001b[0m\u001b[1;33m\u001b[0m\u001b[0m\n\u001b[0;32m    999\u001b[0m                 \u001b[1;31m# Child is launched. Close the parent's copy of those pipe\u001b[0m\u001b[1;33m\u001b[0m\u001b[1;33m\u001b[0m\u001b[1;33m\u001b[0m\u001b[0m\n",
      "\u001b[1;31mFileNotFoundError\u001b[0m: [WinError 2] The system cannot find the file specified"
     ]
    }
   ],
   "source": [
    "from IPython.display import Image\n",
    "from subprocess import check_call\n",
    "tree.export_graphviz(dtc, out_file=\"tree.dot\", feature_names=rf_feats, proportion=True)\n",
    "check_call(['dot','-Tpng','tree.dot','-o','tree.png'])\n",
    "Image(filename='tree.png')"
   ]
  },
  {
   "cell_type": "code",
   "execution_count": null,
   "metadata": {
    "_cell_guid": "051a5c44-0182-469a-8cfe-c790eebf900b",
    "_uuid": "0b34b242b2e5bae9df8cf18dbfdb941df2adbab9"
   },
   "outputs": [],
   "source": []
  }
 ],
 "metadata": {
  "kernelspec": {
   "display_name": "Python 3",
   "language": "python",
   "name": "python3"
  },
  "language_info": {
   "codemirror_mode": {
    "name": "ipython",
    "version": 3
   },
   "file_extension": ".py",
   "mimetype": "text/x-python",
   "name": "python",
   "nbconvert_exporter": "python",
   "pygments_lexer": "ipython3",
   "version": "3.6.7"
  }
 },
 "nbformat": 4,
 "nbformat_minor": 1
}
