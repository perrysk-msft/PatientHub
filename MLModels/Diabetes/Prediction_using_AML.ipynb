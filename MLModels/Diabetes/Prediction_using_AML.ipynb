{
 "cells": [
  {
   "cell_type": "code",
   "execution_count": 13,
   "metadata": {
    "_cell_guid": "9ddfcdbe-f498-43ae-84cc-de46f775c22e",
    "_uuid": "da001f0cfc6af69259f2a51b728bf168a17d24dd"
   },
   "outputs": [],
   "source": [
    "\n",
    "import numpy as np \n",
    "import pandas as pd \n",
    "from sklearn.model_selection import train_test_split \n",
    "from sklearn.ensemble import RandomForestClassifier\n",
    "from sklearn.feature_selection import RFECV\n",
    "from sklearn.model_selection import GridSearchCV\n",
    "from sklearn.tree import DecisionTreeClassifier \n",
    "from azureml.telemetry import set_diagnostics_collection\n",
    "from azureml.train.automl import AutoMLConfig\n",
    "from azureml.train.automl.run import AutoMLRun\n",
    "import sklearn.metrics \n",
    "from azureml.core.experiment import Experiment\n",
    "import matplotlib.pyplot as plt\n",
    "from azureml.core.compute import AksCompute, ComputeTarget\n",
    "from azureml.core.webservice import Webservice, AksWebservice\n",
    "\n",
    "### kaggle\n",
    "datain_dir = './'\n",
    "datain_col_dir = './'\n",
    "dataout_dir = ''\n",
    "\n",
    "### mac\n",
    "#datain_dir = '~/Data/diabetes/'\n",
    "#datain_col_dir = '~/Data/diabetes/'\n",
    "#dataout_dir = '~/Data/diabetes/'\n",
    "\n",
    "### desktop\n",
    "#from kaggle import proj #desktop\n",
    "#datain_dir = proj.data_dir #desktop"
   ]
  },
  {
   "cell_type": "code",
   "execution_count": 10,
   "metadata": {},
   "outputs": [
    {
     "name": "stderr",
     "output_type": "stream",
     "text": [
      "Falling back to use azure cli credentials. This fall back to use azure cli credentials will be removed in the next release. \n",
      "Make sure your code doesn't require 'az login' to have happened before using azureml-sdk, except the case when you are specifying AzureCliAuthentication in azureml-sdk.\n"
     ]
    },
    {
     "name": "stdout",
     "output_type": "stream",
     "text": [
      "Wrote the config file xiaoyzhuconfig.json to: F:\\PatientHub\\MLModels\\Diabetes\\aml_config\\xiaoyzhuconfig.json\n",
      "Workspace configuration succeeded. Skip the workspace creation steps below\n"
     ]
    }
   ],
   "source": [
    "import azureml.core\n",
    "import os\n",
    "from azureml.core import Workspace\n",
    "\n",
    "subscription_id = os.getenv(\"SUBSCRIPTION_ID\", default=\"a6c2a7cc-d67e-4a1a-b765-983f08c0423a\")\n",
    "resource_group = os.getenv(\"RESOURCE_GROUP\", default=\"xiaoyzhu-mlworkspace\")\n",
    "workspace_name = os.getenv(\"WORKSPACE_NAME\", default=\"xiaoyzhu-MLworkspace\")\n",
    "workspace_region = os.getenv(\"WORKSPACE_REGION\", default=\"eastus2\")\n",
    "\n",
    "\n",
    "try:\n",
    "    ws = Workspace(subscription_id = subscription_id, resource_group = resource_group, workspace_name = workspace_name)\n",
    "    # write the details of the workspace to a configuration file to the notebook library\n",
    "    ws.write_config(file_name=\"xiaoyzhuconfig.json\")\n",
    "    print(\"Workspace configuration succeeded. Skip the workspace creation steps below\")\n",
    "except:\n",
    "    print(\"Workspace not accessible. Change your parameters or create a new workspace below\")"
   ]
  },
  {
   "cell_type": "code",
   "execution_count": 11,
   "metadata": {},
   "outputs": [],
   "source": [
    "import numpy as np"
   ]
  },
  {
   "cell_type": "markdown",
   "metadata": {
    "_cell_guid": "a15df269-2e4c-4442-a574-e55d9816da1d",
    "_uuid": "24e6e547cbd72f41ae840b6693be9a526ef7d059"
   },
   "source": [
    "# Read in the data"
   ]
  },
  {
   "cell_type": "code",
   "execution_count": 127,
   "metadata": {
    "_cell_guid": "a83c2de4-a9ca-47f6-8841-7befb9744631",
    "_uuid": "76dfc10d98459ab9397bc045ba332a03534d3c4b"
   },
   "outputs": [
    {
     "data": {
      "text/plain": [
       "(101766, 50)"
      ]
     },
     "execution_count": 127,
     "metadata": {},
     "output_type": "execute_result"
    }
   ],
   "source": [
    "df_raw_all = pd.read_csv(datain_dir + 'diabetic_data.csv')\n",
    "df_raw = df_raw_all\n",
    "df_raw = df_raw.replace('?', np.nan) \n",
    "df_raw.shape"
   ]
  },
  {
   "cell_type": "code",
   "execution_count": 128,
   "metadata": {
    "scrolled": true
   },
   "outputs": [
    {
     "data": {
      "text/plain": [
       "Index(['encounter_id', 'patient_nbr', 'race', 'gender', 'age', 'weight',\n",
       "       'admission_type_id', 'discharge_disposition_id', 'admission_source_id',\n",
       "       'time_in_hospital', 'payer_code', 'medical_specialty',\n",
       "       'num_lab_procedures', 'num_procedures', 'num_medications',\n",
       "       'number_outpatient', 'number_emergency', 'number_inpatient', 'diag_1',\n",
       "       'diag_2', 'diag_3', 'number_diagnoses', 'max_glu_serum', 'A1Cresult',\n",
       "       'metformin', 'repaglinide', 'nateglinide', 'chlorpropamide',\n",
       "       'glimepiride', 'acetohexamide', 'glipizide', 'glyburide', 'tolbutamide',\n",
       "       'pioglitazone', 'rosiglitazone', 'acarbose', 'miglitol', 'troglitazone',\n",
       "       'tolazamide', 'examide', 'citoglipton', 'insulin',\n",
       "       'glyburide-metformin', 'glipizide-metformin',\n",
       "       'glimepiride-pioglitazone', 'metformin-rosiglitazone',\n",
       "       'metformin-pioglitazone', 'change', 'diabetesMed', 'readmitted'],\n",
       "      dtype='object')"
      ]
     },
     "execution_count": 128,
     "metadata": {},
     "output_type": "execute_result"
    }
   ],
   "source": [
    "df_raw.columns"
   ]
  },
  {
   "cell_type": "markdown",
   "metadata": {
    "_cell_guid": "11bbec7a-e1fe-473b-81d6-8f24a80dd810",
    "_uuid": "86a8fabb9e6beb7df61149ff47f67b16b5ebc0e4"
   },
   "source": [
    "# How many values are missing in patient records?"
   ]
  },
  {
   "cell_type": "code",
   "execution_count": 129,
   "metadata": {
    "_cell_guid": "531a86f6-b0b7-41f2-ac96-7d0c3630d8eb",
    "_uuid": "7171dd5c60d83a8c2eed0d8eb6d111b09b6858b9"
   },
   "outputs": [
    {
     "data": {
      "image/png": "[encoded data removed]",
      "text/plain": [
       "<Figure size 432x288 with 1 Axes>"
      ]
     },
     "metadata": {
      "needs_background": "light"
     },
     "output_type": "display_data"
    }
   ],
   "source": [
    "pt_sparsity = df_raw.isnull().apply(sum, axis=1)\n",
    "%matplotlib inline\n",
    "myhist = pt_sparsity.hist()"
   ]
  },
  {
   "cell_type": "markdown",
   "metadata": {
    "_cell_guid": "7698ff1f-6a9b-4381-8ae2-08e686d1ab9c",
    "_uuid": "aaf5774ea4941cf606c6eceac6dba198fc65bfd9"
   },
   "source": [
    "No need to drop patients due to missing values. 3 out of 50 missing values is not bad at all.\n",
    "\n",
    "# Explore the variables, compile information about them"
   ]
  },
  {
   "cell_type": "code",
   "execution_count": 130,
   "metadata": {
    "_cell_guid": "5c6b79bb-ea06-4e44-8edf-962a9048a661",
    "_uuid": "4bb8b3dcf3c8e485abb0661bd4e0762b93001d52"
   },
   "outputs": [],
   "source": [
    "col_data = df_raw.apply(lambda s: set(s.unique()), axis=0).to_frame('uni_val')\n",
    "col_data['nan_rat'] = df_raw.isnull().sum(axis=0)/len(df_raw)\n",
    "col_data['n_uni_vals'] = col_data.uni_val.apply(len)\n",
    "col_data['uni_vals_str'] = col_data[col_data.n_uni_vals<2000].uni_val.astype(str)\n",
    "col_data = col_data.drop('uni_val', axis=1)\n",
    "col_data['var_type'] = np.nan\n",
    "col_data.to_csv(dataout_dir + \"columns_raw.csv\")"
   ]
  },
  {
   "cell_type": "markdown",
   "metadata": {
    "_cell_guid": "f612c96d-30a1-4a56-af87-257f289540e2",
    "_uuid": "a46e8eeaa47af8c0e46d11e821fac192802ec3ac"
   },
   "source": [
    "# Manual annotation of columns\n",
    "I manually took columns_raw.csv and annotated columns based on whether they were ordered or categorical.  I saved my annotated file as columns.csv.  I will read this in later in the notebook."
   ]
  },
  {
   "cell_type": "code",
   "execution_count": 131,
   "metadata": {
    "_cell_guid": "6c7de378-08ce-4650-a5ca-a4a1068c7a51",
    "_uuid": "b099e91cd16fb019bd35b51a4ba367ba7dc54fbd"
   },
   "outputs": [
    {
     "data": {
      "text/html": [
       "<div>\n",
       "<style scoped>\n",
       "    .dataframe tbody tr th:only-of-type {\n",
       "        vertical-align: middle;\n",
       "    }\n",
       "\n",
       "    .dataframe tbody tr th {\n",
       "        vertical-align: top;\n",
       "    }\n",
       "\n",
       "    .dataframe thead th {\n",
       "        text-align: right;\n",
       "    }\n",
       "</style>\n",
       "<table border=\"1\" class=\"dataframe\">\n",
       "  <thead>\n",
       "    <tr style=\"text-align: right;\">\n",
       "      <th></th>\n",
       "      <th>nan_rat</th>\n",
       "      <th>n_uni_vals</th>\n",
       "      <th>uni_vals_str</th>\n",
       "      <th>var_type</th>\n",
       "      <th>comment</th>\n",
       "    </tr>\n",
       "  </thead>\n",
       "  <tbody>\n",
       "    <tr>\n",
       "      <th>glyburide-metformin</th>\n",
       "      <td>0.0000</td>\n",
       "      <td>3</td>\n",
       "      <td>{'Steady', 'Up', 'No'}</td>\n",
       "      <td>cat</td>\n",
       "      <td>NaN</td>\n",
       "    </tr>\n",
       "    <tr>\n",
       "      <th>acetohexamide</th>\n",
       "      <td>0.0000</td>\n",
       "      <td>1</td>\n",
       "      <td>{'No'}</td>\n",
       "      <td>drop</td>\n",
       "      <td>no information here!</td>\n",
       "    </tr>\n",
       "    <tr>\n",
       "      <th>tolazamide</th>\n",
       "      <td>0.0000</td>\n",
       "      <td>2</td>\n",
       "      <td>{'Steady', 'No'}</td>\n",
       "      <td>cat</td>\n",
       "      <td>NaN</td>\n",
       "    </tr>\n",
       "    <tr>\n",
       "      <th>time_in_hospital</th>\n",
       "      <td>0.0000</td>\n",
       "      <td>14</td>\n",
       "      <td>{1, 2, 3, 4, 5, 6, 7, 8, 9, 10, 11, 12, 13, 14}</td>\n",
       "      <td>cont</td>\n",
       "      <td>NaN</td>\n",
       "    </tr>\n",
       "    <tr>\n",
       "      <th>payer_code</th>\n",
       "      <td>0.3962</td>\n",
       "      <td>17</td>\n",
       "      <td>{nan, 'HM', 'OG', 'MC', 'DM', 'CM', 'SI', 'MD'...</td>\n",
       "      <td>cat</td>\n",
       "      <td>NaN</td>\n",
       "    </tr>\n",
       "    <tr>\n",
       "      <th>number_diagnoses</th>\n",
       "      <td>0.0000</td>\n",
       "      <td>15</td>\n",
       "      <td>{1, 2, 3, 4, 5, 6, 7, 8, 9, 10, 11, 13, 14, 15...</td>\n",
       "      <td>cont</td>\n",
       "      <td>NaN</td>\n",
       "    </tr>\n",
       "    <tr>\n",
       "      <th>number_outpatient</th>\n",
       "      <td>0.0000</td>\n",
       "      <td>21</td>\n",
       "      <td>{0, 1, 2, 3, 4, 5, 6, 7, 8, 9, 10, 11, 12, 13,...</td>\n",
       "      <td>cont</td>\n",
       "      <td>NaN</td>\n",
       "    </tr>\n",
       "    <tr>\n",
       "      <th>weight</th>\n",
       "      <td>0.9673</td>\n",
       "      <td>8</td>\n",
       "      <td>{nan, '[50-75)', '[75-100)', '[150-175)', '[10...</td>\n",
       "      <td>drop</td>\n",
       "      <td>too many missing values</td>\n",
       "    </tr>\n",
       "    <tr>\n",
       "      <th>num_procedures</th>\n",
       "      <td>0.0000</td>\n",
       "      <td>7</td>\n",
       "      <td>{0, 1, 2, 3, 4, 5, 6}</td>\n",
       "      <td>cont</td>\n",
       "      <td>NaN</td>\n",
       "    </tr>\n",
       "    <tr>\n",
       "      <th>pioglitazone</th>\n",
       "      <td>0.0000</td>\n",
       "      <td>4</td>\n",
       "      <td>{'Steady', 'Up', 'No', 'Down'}</td>\n",
       "      <td>cat</td>\n",
       "      <td>NaN</td>\n",
       "    </tr>\n",
       "  </tbody>\n",
       "</table>\n",
       "</div>"
      ],
      "text/plain": [
       "                     nan_rat  n_uni_vals  \\\n",
       "glyburide-metformin   0.0000           3   \n",
       "acetohexamide         0.0000           1   \n",
       "tolazamide            0.0000           2   \n",
       "time_in_hospital      0.0000          14   \n",
       "payer_code            0.3962          17   \n",
       "number_diagnoses      0.0000          15   \n",
       "number_outpatient     0.0000          21   \n",
       "weight                0.9673           8   \n",
       "num_procedures        0.0000           7   \n",
       "pioglitazone          0.0000           4   \n",
       "\n",
       "                                                          uni_vals_str  \\\n",
       "glyburide-metformin                             {'Steady', 'Up', 'No'}   \n",
       "acetohexamide                                                   {'No'}   \n",
       "tolazamide                                            {'Steady', 'No'}   \n",
       "time_in_hospital       {1, 2, 3, 4, 5, 6, 7, 8, 9, 10, 11, 12, 13, 14}   \n",
       "payer_code           {nan, 'HM', 'OG', 'MC', 'DM', 'CM', 'SI', 'MD'...   \n",
       "number_diagnoses     {1, 2, 3, 4, 5, 6, 7, 8, 9, 10, 11, 13, 14, 15...   \n",
       "number_outpatient    {0, 1, 2, 3, 4, 5, 6, 7, 8, 9, 10, 11, 12, 13,...   \n",
       "weight               {nan, '[50-75)', '[75-100)', '[150-175)', '[10...   \n",
       "num_procedures                                   {0, 1, 2, 3, 4, 5, 6}   \n",
       "pioglitazone                            {'Steady', 'Up', 'No', 'Down'}   \n",
       "\n",
       "                    var_type                  comment  \n",
       "glyburide-metformin      cat                      NaN  \n",
       "acetohexamide           drop     no information here!  \n",
       "tolazamide               cat                      NaN  \n",
       "time_in_hospital        cont                      NaN  \n",
       "payer_code               cat                      NaN  \n",
       "number_diagnoses        cont                      NaN  \n",
       "number_outpatient       cont                      NaN  \n",
       "weight                  drop  too many missing values  \n",
       "num_procedures          cont                      NaN  \n",
       "pioglitazone             cat                      NaN  "
      ]
     },
     "execution_count": 131,
     "metadata": {},
     "output_type": "execute_result"
    }
   ],
   "source": [
    "col_data = pd.read_csv(datain_col_dir + \"columns.csv\", index_col=0)\n",
    "col_data.sample(10)"
   ]
  },
  {
   "cell_type": "markdown",
   "metadata": {
    "_cell_guid": "7fb2f7ef-d6d3-4a5b-8c9e-51037b5762e8",
    "_uuid": "6f4ce457c360920e2309f594c574ca6637c41b36"
   },
   "source": [
    "# Generate boolean features for only most common medical specialties"
   ]
  },
  {
   "cell_type": "code",
   "execution_count": 132,
   "metadata": {
    "_cell_guid": "91796bd1-ad8e-49db-b669-0652cf387d31",
    "_uuid": "230e9341f14c26697e06382bc5e03a152050b2a5"
   },
   "outputs": [
    {
     "data": {
      "text/html": [
       "<div>\n",
       "<style scoped>\n",
       "    .dataframe tbody tr th:only-of-type {\n",
       "        vertical-align: middle;\n",
       "    }\n",
       "\n",
       "    .dataframe tbody tr th {\n",
       "        vertical-align: top;\n",
       "    }\n",
       "\n",
       "    .dataframe thead th {\n",
       "        text-align: right;\n",
       "    }\n",
       "</style>\n",
       "<table border=\"1\" class=\"dataframe\">\n",
       "  <thead>\n",
       "    <tr style=\"text-align: right;\">\n",
       "      <th></th>\n",
       "      <th>num patients</th>\n",
       "    </tr>\n",
       "  </thead>\n",
       "  <tbody>\n",
       "    <tr>\n",
       "      <th>InternalMedicine</th>\n",
       "      <td>14635</td>\n",
       "    </tr>\n",
       "    <tr>\n",
       "      <th>Emergency/Trauma</th>\n",
       "      <td>7565</td>\n",
       "    </tr>\n",
       "    <tr>\n",
       "      <th>Family/GeneralPractice</th>\n",
       "      <td>7440</td>\n",
       "    </tr>\n",
       "    <tr>\n",
       "      <th>Cardiology</th>\n",
       "      <td>5352</td>\n",
       "    </tr>\n",
       "    <tr>\n",
       "      <th>Surgery-General</th>\n",
       "      <td>3099</td>\n",
       "    </tr>\n",
       "  </tbody>\n",
       "</table>\n",
       "</div>"
      ],
      "text/plain": [
       "                        num patients\n",
       "InternalMedicine               14635\n",
       "Emergency/Trauma                7565\n",
       "Family/GeneralPractice          7440\n",
       "Cardiology                      5352\n",
       "Surgery-General                 3099"
      ]
     },
     "execution_count": 132,
     "metadata": {},
     "output_type": "execute_result"
    }
   ],
   "source": [
    "#TODO recapture medical specialty\n",
    "spec_counts = df_raw.medical_specialty.value_counts()\n",
    "spec_counts.head(5).to_frame('num patients')"
   ]
  },
  {
   "cell_type": "code",
   "execution_count": 133,
   "metadata": {
    "_cell_guid": "c0d03218-d355-4ffc-a278-1d27bf435f67",
    "_uuid": "62a07672fe12aa1b0be763c55b94794439307b2f"
   },
   "outputs": [
    {
     "data": {
      "text/html": [
       "<div>\n",
       "<style scoped>\n",
       "    .dataframe tbody tr th:only-of-type {\n",
       "        vertical-align: middle;\n",
       "    }\n",
       "\n",
       "    .dataframe tbody tr th {\n",
       "        vertical-align: top;\n",
       "    }\n",
       "\n",
       "    .dataframe thead th {\n",
       "        text-align: right;\n",
       "    }\n",
       "</style>\n",
       "<table border=\"1\" class=\"dataframe\">\n",
       "  <thead>\n",
       "    <tr style=\"text-align: right;\">\n",
       "      <th></th>\n",
       "      <th>medical_specialty</th>\n",
       "      <th>spec_InternalMedicine</th>\n",
       "      <th>spec_Emergency/Trauma</th>\n",
       "      <th>spec_Family/GeneralPractice</th>\n",
       "      <th>spec_Cardiology</th>\n",
       "      <th>spec_Surgery-General</th>\n",
       "    </tr>\n",
       "  </thead>\n",
       "  <tbody>\n",
       "    <tr>\n",
       "      <th>60144</th>\n",
       "      <td>NaN</td>\n",
       "      <td>False</td>\n",
       "      <td>False</td>\n",
       "      <td>False</td>\n",
       "      <td>False</td>\n",
       "      <td>False</td>\n",
       "    </tr>\n",
       "    <tr>\n",
       "      <th>6531</th>\n",
       "      <td>Family/GeneralPractice</td>\n",
       "      <td>False</td>\n",
       "      <td>False</td>\n",
       "      <td>True</td>\n",
       "      <td>False</td>\n",
       "      <td>False</td>\n",
       "    </tr>\n",
       "    <tr>\n",
       "      <th>75831</th>\n",
       "      <td>NaN</td>\n",
       "      <td>False</td>\n",
       "      <td>False</td>\n",
       "      <td>False</td>\n",
       "      <td>False</td>\n",
       "      <td>False</td>\n",
       "    </tr>\n",
       "    <tr>\n",
       "      <th>3916</th>\n",
       "      <td>Psychiatry</td>\n",
       "      <td>False</td>\n",
       "      <td>False</td>\n",
       "      <td>False</td>\n",
       "      <td>False</td>\n",
       "      <td>False</td>\n",
       "    </tr>\n",
       "    <tr>\n",
       "      <th>21312</th>\n",
       "      <td>InternalMedicine</td>\n",
       "      <td>True</td>\n",
       "      <td>False</td>\n",
       "      <td>False</td>\n",
       "      <td>False</td>\n",
       "      <td>False</td>\n",
       "    </tr>\n",
       "    <tr>\n",
       "      <th>67636</th>\n",
       "      <td>NaN</td>\n",
       "      <td>False</td>\n",
       "      <td>False</td>\n",
       "      <td>False</td>\n",
       "      <td>False</td>\n",
       "      <td>False</td>\n",
       "    </tr>\n",
       "    <tr>\n",
       "      <th>99928</th>\n",
       "      <td>NaN</td>\n",
       "      <td>False</td>\n",
       "      <td>False</td>\n",
       "      <td>False</td>\n",
       "      <td>False</td>\n",
       "      <td>False</td>\n",
       "    </tr>\n",
       "    <tr>\n",
       "      <th>14078</th>\n",
       "      <td>NaN</td>\n",
       "      <td>False</td>\n",
       "      <td>False</td>\n",
       "      <td>False</td>\n",
       "      <td>False</td>\n",
       "      <td>False</td>\n",
       "    </tr>\n",
       "    <tr>\n",
       "      <th>49346</th>\n",
       "      <td>NaN</td>\n",
       "      <td>False</td>\n",
       "      <td>False</td>\n",
       "      <td>False</td>\n",
       "      <td>False</td>\n",
       "      <td>False</td>\n",
       "    </tr>\n",
       "    <tr>\n",
       "      <th>92121</th>\n",
       "      <td>NaN</td>\n",
       "      <td>False</td>\n",
       "      <td>False</td>\n",
       "      <td>False</td>\n",
       "      <td>False</td>\n",
       "      <td>False</td>\n",
       "    </tr>\n",
       "  </tbody>\n",
       "</table>\n",
       "</div>"
      ],
      "text/plain": [
       "            medical_specialty  spec_InternalMedicine  spec_Emergency/Trauma  \\\n",
       "60144                     NaN                  False                  False   \n",
       "6531   Family/GeneralPractice                  False                  False   \n",
       "75831                     NaN                  False                  False   \n",
       "3916               Psychiatry                  False                  False   \n",
       "21312        InternalMedicine                   True                  False   \n",
       "67636                     NaN                  False                  False   \n",
       "99928                     NaN                  False                  False   \n",
       "14078                     NaN                  False                  False   \n",
       "49346                     NaN                  False                  False   \n",
       "92121                     NaN                  False                  False   \n",
       "\n",
       "       spec_Family/GeneralPractice  spec_Cardiology  spec_Surgery-General  \n",
       "60144                        False            False                 False  \n",
       "6531                          True            False                 False  \n",
       "75831                        False            False                 False  \n",
       "3916                         False            False                 False  \n",
       "21312                        False            False                 False  \n",
       "67636                        False            False                 False  \n",
       "99928                        False            False                 False  \n",
       "14078                        False            False                 False  \n",
       "49346                        False            False                 False  \n",
       "92121                        False            False                 False  "
      ]
     },
     "execution_count": 133,
     "metadata": {},
     "output_type": "execute_result"
    }
   ],
   "source": [
    "spec_thresh = 5\n",
    "for (spec, count) in spec_counts.head(spec_thresh).iteritems():\n",
    "    new_col = 'spec_' + str(spec)\n",
    "    df_raw[new_col] = (df_raw.medical_specialty == spec)\n",
    "    \n",
    "df_raw.filter(regex='spec').sample(10)"
   ]
  },
  {
   "cell_type": "markdown",
   "metadata": {
    "_cell_guid": "8c2324cd-1c59-4a6d-a6c0-b54e244009b9",
    "_uuid": "457a8e46d48d0477bdec0b5820f05c4a2946d79d"
   },
   "source": [
    "# Identify the most common diagnoses"
   ]
  },
  {
   "cell_type": "code",
   "execution_count": 134,
   "metadata": {
    "_cell_guid": "baf3a53e-9357-469f-93e6-b409c0d5f433",
    "_uuid": "da1f9fea6690d6f6b1a2fb475c65d7f75a857ba1"
   },
   "outputs": [
    {
     "data": {
      "text/html": [
       "<div>\n",
       "<style scoped>\n",
       "    .dataframe tbody tr th:only-of-type {\n",
       "        vertical-align: middle;\n",
       "    }\n",
       "\n",
       "    .dataframe tbody tr th {\n",
       "        vertical-align: top;\n",
       "    }\n",
       "\n",
       "    .dataframe thead th {\n",
       "        text-align: right;\n",
       "    }\n",
       "</style>\n",
       "<table border=\"1\" class=\"dataframe\">\n",
       "  <thead>\n",
       "    <tr style=\"text-align: right;\">\n",
       "      <th></th>\n",
       "      <th>num patients w diag</th>\n",
       "    </tr>\n",
       "  </thead>\n",
       "  <tbody>\n",
       "    <tr>\n",
       "      <th>428</th>\n",
       "      <td>18101.0</td>\n",
       "    </tr>\n",
       "    <tr>\n",
       "      <th>250</th>\n",
       "      <td>17861.0</td>\n",
       "    </tr>\n",
       "    <tr>\n",
       "      <th>276</th>\n",
       "      <td>13816.0</td>\n",
       "    </tr>\n",
       "    <tr>\n",
       "      <th>414</th>\n",
       "      <td>12895.0</td>\n",
       "    </tr>\n",
       "    <tr>\n",
       "      <th>401</th>\n",
       "      <td>12371.0</td>\n",
       "    </tr>\n",
       "    <tr>\n",
       "      <th>427</th>\n",
       "      <td>11757.0</td>\n",
       "    </tr>\n",
       "    <tr>\n",
       "      <th>599</th>\n",
       "      <td>6824.0</td>\n",
       "    </tr>\n",
       "    <tr>\n",
       "      <th>496</th>\n",
       "      <td>5990.0</td>\n",
       "    </tr>\n",
       "    <tr>\n",
       "      <th>403</th>\n",
       "      <td>5693.0</td>\n",
       "    </tr>\n",
       "    <tr>\n",
       "      <th>486</th>\n",
       "      <td>5455.0</td>\n",
       "    </tr>\n",
       "  </tbody>\n",
       "</table>\n",
       "</div>"
      ],
      "text/plain": [
       "     num patients w diag\n",
       "428              18101.0\n",
       "250              17861.0\n",
       "276              13816.0\n",
       "414              12895.0\n",
       "401              12371.0\n",
       "427              11757.0\n",
       "599               6824.0\n",
       "496               5990.0\n",
       "403               5693.0\n",
       "486               5455.0"
      ]
     },
     "execution_count": 134,
     "metadata": {},
     "output_type": "execute_result"
    }
   ],
   "source": [
    "diag_counts = (df_raw.diag_1.value_counts() + df_raw.diag_2.value_counts() + df_raw.diag_3.value_counts()).sort_values(ascending=False)\n",
    "diag_counts.head(10).to_frame('num patients w diag')"
   ]
  },
  {
   "cell_type": "markdown",
   "metadata": {
    "_cell_guid": "52fdb72e-4e27-41e6-9fba-7da3c5298549",
    "_uuid": "6e25229c75d87b6b9287742297fd81980bb522f5"
   },
   "source": [
    "# Generate boolean features for top N diagnoses"
   ]
  },
  {
   "cell_type": "code",
   "execution_count": 135,
   "metadata": {
    "_cell_guid": "deb66d4f-69c3-4b62-b55a-6a822bb01f5b",
    "_uuid": "7e22e692779fab22c9c00c954aeb96f07ed8aed4"
   },
   "outputs": [
    {
     "data": {
      "text/html": [
       "<div>\n",
       "<style scoped>\n",
       "    .dataframe tbody tr th:only-of-type {\n",
       "        vertical-align: middle;\n",
       "    }\n",
       "\n",
       "    .dataframe tbody tr th {\n",
       "        vertical-align: top;\n",
       "    }\n",
       "\n",
       "    .dataframe thead th {\n",
       "        text-align: right;\n",
       "    }\n",
       "</style>\n",
       "<table border=\"1\" class=\"dataframe\">\n",
       "  <thead>\n",
       "    <tr style=\"text-align: right;\">\n",
       "      <th></th>\n",
       "      <th>diag_1</th>\n",
       "      <th>diag_2</th>\n",
       "      <th>diag_3</th>\n",
       "      <th>diag_428</th>\n",
       "      <th>diag_250</th>\n",
       "      <th>diag_276</th>\n",
       "      <th>diag_414</th>\n",
       "      <th>diag_401</th>\n",
       "      <th>diag_427</th>\n",
       "      <th>diag_599</th>\n",
       "      <th>diag_496</th>\n",
       "      <th>diag_403</th>\n",
       "      <th>diag_486</th>\n",
       "    </tr>\n",
       "  </thead>\n",
       "  <tbody>\n",
       "    <tr>\n",
       "      <th>90458</th>\n",
       "      <td>780</td>\n",
       "      <td>428</td>\n",
       "      <td>416</td>\n",
       "      <td>True</td>\n",
       "      <td>False</td>\n",
       "      <td>False</td>\n",
       "      <td>False</td>\n",
       "      <td>False</td>\n",
       "      <td>False</td>\n",
       "      <td>False</td>\n",
       "      <td>False</td>\n",
       "      <td>False</td>\n",
       "      <td>False</td>\n",
       "    </tr>\n",
       "    <tr>\n",
       "      <th>55082</th>\n",
       "      <td>250.82</td>\n",
       "      <td>276</td>\n",
       "      <td>396</td>\n",
       "      <td>False</td>\n",
       "      <td>False</td>\n",
       "      <td>True</td>\n",
       "      <td>False</td>\n",
       "      <td>False</td>\n",
       "      <td>False</td>\n",
       "      <td>False</td>\n",
       "      <td>False</td>\n",
       "      <td>False</td>\n",
       "      <td>False</td>\n",
       "    </tr>\n",
       "    <tr>\n",
       "      <th>80332</th>\n",
       "      <td>306</td>\n",
       "      <td>412</td>\n",
       "      <td>295</td>\n",
       "      <td>False</td>\n",
       "      <td>False</td>\n",
       "      <td>False</td>\n",
       "      <td>False</td>\n",
       "      <td>False</td>\n",
       "      <td>False</td>\n",
       "      <td>False</td>\n",
       "      <td>False</td>\n",
       "      <td>False</td>\n",
       "      <td>False</td>\n",
       "    </tr>\n",
       "    <tr>\n",
       "      <th>61046</th>\n",
       "      <td>285</td>\n",
       "      <td>198</td>\n",
       "      <td>250.5</td>\n",
       "      <td>False</td>\n",
       "      <td>False</td>\n",
       "      <td>False</td>\n",
       "      <td>False</td>\n",
       "      <td>False</td>\n",
       "      <td>False</td>\n",
       "      <td>False</td>\n",
       "      <td>False</td>\n",
       "      <td>False</td>\n",
       "      <td>False</td>\n",
       "    </tr>\n",
       "    <tr>\n",
       "      <th>64785</th>\n",
       "      <td>552</td>\n",
       "      <td>279</td>\n",
       "      <td>250</td>\n",
       "      <td>False</td>\n",
       "      <td>True</td>\n",
       "      <td>False</td>\n",
       "      <td>False</td>\n",
       "      <td>False</td>\n",
       "      <td>False</td>\n",
       "      <td>False</td>\n",
       "      <td>False</td>\n",
       "      <td>False</td>\n",
       "      <td>False</td>\n",
       "    </tr>\n",
       "    <tr>\n",
       "      <th>90558</th>\n",
       "      <td>8</td>\n",
       "      <td>250.81</td>\n",
       "      <td>401</td>\n",
       "      <td>False</td>\n",
       "      <td>False</td>\n",
       "      <td>False</td>\n",
       "      <td>False</td>\n",
       "      <td>True</td>\n",
       "      <td>False</td>\n",
       "      <td>False</td>\n",
       "      <td>False</td>\n",
       "      <td>False</td>\n",
       "      <td>False</td>\n",
       "    </tr>\n",
       "    <tr>\n",
       "      <th>20176</th>\n",
       "      <td>433</td>\n",
       "      <td>250</td>\n",
       "      <td>401</td>\n",
       "      <td>False</td>\n",
       "      <td>True</td>\n",
       "      <td>False</td>\n",
       "      <td>False</td>\n",
       "      <td>True</td>\n",
       "      <td>False</td>\n",
       "      <td>False</td>\n",
       "      <td>False</td>\n",
       "      <td>False</td>\n",
       "      <td>False</td>\n",
       "    </tr>\n",
       "    <tr>\n",
       "      <th>67904</th>\n",
       "      <td>428</td>\n",
       "      <td>427</td>\n",
       "      <td>599</td>\n",
       "      <td>True</td>\n",
       "      <td>False</td>\n",
       "      <td>False</td>\n",
       "      <td>False</td>\n",
       "      <td>False</td>\n",
       "      <td>True</td>\n",
       "      <td>True</td>\n",
       "      <td>False</td>\n",
       "      <td>False</td>\n",
       "      <td>False</td>\n",
       "    </tr>\n",
       "    <tr>\n",
       "      <th>19215</th>\n",
       "      <td>162</td>\n",
       "      <td>295</td>\n",
       "      <td>275</td>\n",
       "      <td>False</td>\n",
       "      <td>False</td>\n",
       "      <td>False</td>\n",
       "      <td>False</td>\n",
       "      <td>False</td>\n",
       "      <td>False</td>\n",
       "      <td>False</td>\n",
       "      <td>False</td>\n",
       "      <td>False</td>\n",
       "      <td>False</td>\n",
       "    </tr>\n",
       "    <tr>\n",
       "      <th>93921</th>\n",
       "      <td>486</td>\n",
       "      <td>496</td>\n",
       "      <td>414</td>\n",
       "      <td>False</td>\n",
       "      <td>False</td>\n",
       "      <td>False</td>\n",
       "      <td>True</td>\n",
       "      <td>False</td>\n",
       "      <td>False</td>\n",
       "      <td>False</td>\n",
       "      <td>True</td>\n",
       "      <td>False</td>\n",
       "      <td>True</td>\n",
       "    </tr>\n",
       "  </tbody>\n",
       "</table>\n",
       "</div>"
      ],
      "text/plain": [
       "       diag_1  diag_2 diag_3  diag_428  diag_250  diag_276  diag_414  \\\n",
       "90458     780     428    416      True     False     False     False   \n",
       "55082  250.82     276    396     False     False      True     False   \n",
       "80332     306     412    295     False     False     False     False   \n",
       "61046     285     198  250.5     False     False     False     False   \n",
       "64785     552     279    250     False      True     False     False   \n",
       "90558       8  250.81    401     False     False     False     False   \n",
       "20176     433     250    401     False      True     False     False   \n",
       "67904     428     427    599      True     False     False     False   \n",
       "19215     162     295    275     False     False     False     False   \n",
       "93921     486     496    414     False     False     False      True   \n",
       "\n",
       "       diag_401  diag_427  diag_599  diag_496  diag_403  diag_486  \n",
       "90458     False     False     False     False     False     False  \n",
       "55082     False     False     False     False     False     False  \n",
       "80332     False     False     False     False     False     False  \n",
       "61046     False     False     False     False     False     False  \n",
       "64785     False     False     False     False     False     False  \n",
       "90558      True     False     False     False     False     False  \n",
       "20176      True     False     False     False     False     False  \n",
       "67904     False      True      True     False     False     False  \n",
       "19215     False     False     False     False     False     False  \n",
       "93921     False     False     False      True     False      True  "
      ]
     },
     "execution_count": 135,
     "metadata": {},
     "output_type": "execute_result"
    }
   ],
   "source": [
    "diag_thresh = 10\n",
    "for (icd9, count) in diag_counts.head(diag_thresh).iteritems():\n",
    "    new_col = 'diag_' + str(icd9)\n",
    "    df_raw[new_col] = (df_raw.diag_1 == icd9)|(df_raw.diag_2 == icd9)|(df_raw.diag_3 == icd9)\n",
    "    \n",
    "df_raw.filter(regex='diag_').sample(10)"
   ]
  },
  {
   "cell_type": "markdown",
   "metadata": {
    "_cell_guid": "bfc235a6-b7d9-4389-9968-009f8065888e",
    "_uuid": "4438f5dcfe2611e42f63305b22511cc4111410b7",
    "collapsed": true
   },
   "source": [
    "# Clean the data"
   ]
  },
  {
   "cell_type": "code",
   "execution_count": 136,
   "metadata": {
    "_cell_guid": "87989372-e6f2-4848-a977-c87b84b00dab",
    "_uuid": "f1b486932b51318430869eaa5010d76c0e409c39"
   },
   "outputs": [
    {
     "data": {
      "text/plain": [
       "57549    [50-60)\n",
       "36715    [80-90)\n",
       "76612    [80-90)\n",
       "72361    [70-80)\n",
       "11341    [40-50)\n",
       "46229    [70-80)\n",
       "95430    [80-90)\n",
       "34920    [70-80)\n",
       "64658    [80-90)\n",
       "73805    [50-60)\n",
       "Name: age, dtype: object"
      ]
     },
     "execution_count": 136,
     "metadata": {},
     "output_type": "execute_result"
    }
   ],
   "source": [
    "df_raw.age.sample(10)"
   ]
  },
  {
   "cell_type": "code",
   "execution_count": 137,
   "metadata": {
    "_cell_guid": "c3d810c0-385d-4980-9115-395f0a8904bb",
    "_uuid": "6576d9071b20eb72cd09cf0ef4e8a1d31344d018"
   },
   "outputs": [
    {
     "data": {
      "text/plain": [
       "(101766, 172)"
      ]
     },
     "execution_count": 137,
     "metadata": {},
     "output_type": "execute_result"
    }
   ],
   "source": [
    "df_raw2 = pd.DataFrame(df_raw, copy=True) #preserve df_raw so I can rerun this step\n",
    "df_raw2['age'] = df_raw2.age.str.extract('(\\d+)-\\d+')\n",
    "\n",
    "to_drop = col_data[col_data.var_type.str.contains('drop')].index\n",
    "df_raw2.drop(to_drop, axis=1, inplace=True)\n",
    "\n",
    "#break out categorical variables into binaries\n",
    "cat_cols = col_data[col_data.var_type.str.contains('cat')].index\n",
    "df_raw2 = pd.get_dummies(df_raw2, columns=cat_cols)\n",
    "\n",
    "#dropping these leaves up with one binary variable, ideal for simplicity\n",
    "df_raw2.drop(['readmitted_<30','readmitted_>30'], axis=1, inplace=True)\n",
    "\n",
    "#cleaning up outcome variable\n",
    "df_raw2['is_readmitted'] = (df_raw2.readmitted_NO == 0)\n",
    "df_raw2.drop('readmitted_NO', axis=1, inplace=True)\n",
    "\n",
    "#ta daaaaaah, the data is ready to go\n",
    "df = pd.DataFrame(df_raw2)\n",
    "df.shape"
   ]
  },
  {
   "cell_type": "code",
   "execution_count": 138,
   "metadata": {
    "_cell_guid": "a3a0e880-c746-482b-a710-d20eb2021858",
    "_uuid": "4b398ccb0c77ef0a6de5e63a81a4aa47cd7cd221"
   },
   "outputs": [
    {
     "data": {
      "text/plain": [
       "14548    10\n",
       "40508    90\n",
       "63176    60\n",
       "49562    70\n",
       "67602    20\n",
       "96131    60\n",
       "96579    80\n",
       "67294    60\n",
       "61029    50\n",
       "13633    70\n",
       "Name: age, dtype: object"
      ]
     },
     "execution_count": 138,
     "metadata": {},
     "output_type": "execute_result"
    }
   ],
   "source": [
    "df.age.sample(10)"
   ]
  },
  {
   "cell_type": "code",
   "execution_count": 139,
   "metadata": {
    "_cell_guid": "7efb11a4-629e-462b-b200-332c8d638b4b",
    "_uuid": "ee4ab9d9e03216dadd090da9353ebfadca152d0b"
   },
   "outputs": [
    {
     "data": {
      "text/html": [
       "<div>\n",
       "<style scoped>\n",
       "    .dataframe tbody tr th:only-of-type {\n",
       "        vertical-align: middle;\n",
       "    }\n",
       "\n",
       "    .dataframe tbody tr th {\n",
       "        vertical-align: top;\n",
       "    }\n",
       "\n",
       "    .dataframe thead th {\n",
       "        text-align: right;\n",
       "    }\n",
       "</style>\n",
       "<table border=\"1\" class=\"dataframe\">\n",
       "  <thead>\n",
       "    <tr style=\"text-align: right;\">\n",
       "      <th></th>\n",
       "      <th>repaglinide_Up</th>\n",
       "      <th>age</th>\n",
       "      <th>pioglitazone_No</th>\n",
       "      <th>spec_Emergency/Trauma</th>\n",
       "      <th>discharge_disposition_id_25</th>\n",
       "      <th>discharge_disposition_id_3</th>\n",
       "      <th>admission_type_id_5</th>\n",
       "    </tr>\n",
       "  </thead>\n",
       "  <tbody>\n",
       "    <tr>\n",
       "      <th>100561</th>\n",
       "      <td>0</td>\n",
       "      <td>70</td>\n",
       "      <td>1</td>\n",
       "      <td>False</td>\n",
       "      <td>0</td>\n",
       "      <td>0</td>\n",
       "      <td>0</td>\n",
       "    </tr>\n",
       "    <tr>\n",
       "      <th>36676</th>\n",
       "      <td>0</td>\n",
       "      <td>70</td>\n",
       "      <td>0</td>\n",
       "      <td>False</td>\n",
       "      <td>0</td>\n",
       "      <td>0</td>\n",
       "      <td>0</td>\n",
       "    </tr>\n",
       "    <tr>\n",
       "      <th>32637</th>\n",
       "      <td>0</td>\n",
       "      <td>40</td>\n",
       "      <td>1</td>\n",
       "      <td>False</td>\n",
       "      <td>0</td>\n",
       "      <td>0</td>\n",
       "      <td>0</td>\n",
       "    </tr>\n",
       "    <tr>\n",
       "      <th>78173</th>\n",
       "      <td>0</td>\n",
       "      <td>60</td>\n",
       "      <td>1</td>\n",
       "      <td>False</td>\n",
       "      <td>0</td>\n",
       "      <td>0</td>\n",
       "      <td>0</td>\n",
       "    </tr>\n",
       "    <tr>\n",
       "      <th>2649</th>\n",
       "      <td>0</td>\n",
       "      <td>60</td>\n",
       "      <td>1</td>\n",
       "      <td>False</td>\n",
       "      <td>0</td>\n",
       "      <td>0</td>\n",
       "      <td>0</td>\n",
       "    </tr>\n",
       "    <tr>\n",
       "      <th>26572</th>\n",
       "      <td>0</td>\n",
       "      <td>60</td>\n",
       "      <td>1</td>\n",
       "      <td>False</td>\n",
       "      <td>0</td>\n",
       "      <td>0</td>\n",
       "      <td>0</td>\n",
       "    </tr>\n",
       "    <tr>\n",
       "      <th>45553</th>\n",
       "      <td>0</td>\n",
       "      <td>60</td>\n",
       "      <td>1</td>\n",
       "      <td>False</td>\n",
       "      <td>0</td>\n",
       "      <td>0</td>\n",
       "      <td>0</td>\n",
       "    </tr>\n",
       "    <tr>\n",
       "      <th>97968</th>\n",
       "      <td>0</td>\n",
       "      <td>50</td>\n",
       "      <td>1</td>\n",
       "      <td>False</td>\n",
       "      <td>0</td>\n",
       "      <td>0</td>\n",
       "      <td>0</td>\n",
       "    </tr>\n",
       "    <tr>\n",
       "      <th>23612</th>\n",
       "      <td>0</td>\n",
       "      <td>80</td>\n",
       "      <td>1</td>\n",
       "      <td>False</td>\n",
       "      <td>1</td>\n",
       "      <td>0</td>\n",
       "      <td>0</td>\n",
       "    </tr>\n",
       "    <tr>\n",
       "      <th>87705</th>\n",
       "      <td>0</td>\n",
       "      <td>40</td>\n",
       "      <td>1</td>\n",
       "      <td>False</td>\n",
       "      <td>0</td>\n",
       "      <td>0</td>\n",
       "      <td>0</td>\n",
       "    </tr>\n",
       "    <tr>\n",
       "      <th>93764</th>\n",
       "      <td>0</td>\n",
       "      <td>50</td>\n",
       "      <td>1</td>\n",
       "      <td>True</td>\n",
       "      <td>0</td>\n",
       "      <td>0</td>\n",
       "      <td>0</td>\n",
       "    </tr>\n",
       "    <tr>\n",
       "      <th>52268</th>\n",
       "      <td>0</td>\n",
       "      <td>90</td>\n",
       "      <td>1</td>\n",
       "      <td>False</td>\n",
       "      <td>0</td>\n",
       "      <td>0</td>\n",
       "      <td>0</td>\n",
       "    </tr>\n",
       "    <tr>\n",
       "      <th>78398</th>\n",
       "      <td>0</td>\n",
       "      <td>60</td>\n",
       "      <td>1</td>\n",
       "      <td>False</td>\n",
       "      <td>0</td>\n",
       "      <td>1</td>\n",
       "      <td>0</td>\n",
       "    </tr>\n",
       "    <tr>\n",
       "      <th>75827</th>\n",
       "      <td>0</td>\n",
       "      <td>40</td>\n",
       "      <td>1</td>\n",
       "      <td>False</td>\n",
       "      <td>0</td>\n",
       "      <td>0</td>\n",
       "      <td>0</td>\n",
       "    </tr>\n",
       "    <tr>\n",
       "      <th>25403</th>\n",
       "      <td>0</td>\n",
       "      <td>70</td>\n",
       "      <td>1</td>\n",
       "      <td>False</td>\n",
       "      <td>0</td>\n",
       "      <td>0</td>\n",
       "      <td>0</td>\n",
       "    </tr>\n",
       "  </tbody>\n",
       "</table>\n",
       "</div>"
      ],
      "text/plain": [
       "        repaglinide_Up age  pioglitazone_No  spec_Emergency/Trauma  \\\n",
       "100561               0  70                1                  False   \n",
       "36676                0  70                0                  False   \n",
       "32637                0  40                1                  False   \n",
       "78173                0  60                1                  False   \n",
       "2649                 0  60                1                  False   \n",
       "26572                0  60                1                  False   \n",
       "45553                0  60                1                  False   \n",
       "97968                0  50                1                  False   \n",
       "23612                0  80                1                  False   \n",
       "87705                0  40                1                  False   \n",
       "93764                0  50                1                   True   \n",
       "52268                0  90                1                  False   \n",
       "78398                0  60                1                  False   \n",
       "75827                0  40                1                  False   \n",
       "25403                0  70                1                  False   \n",
       "\n",
       "        discharge_disposition_id_25  discharge_disposition_id_3  \\\n",
       "100561                            0                           0   \n",
       "36676                             0                           0   \n",
       "32637                             0                           0   \n",
       "78173                             0                           0   \n",
       "2649                              0                           0   \n",
       "26572                             0                           0   \n",
       "45553                             0                           0   \n",
       "97968                             0                           0   \n",
       "23612                             1                           0   \n",
       "87705                             0                           0   \n",
       "93764                             0                           0   \n",
       "52268                             0                           0   \n",
       "78398                             0                           1   \n",
       "75827                             0                           0   \n",
       "25403                             0                           0   \n",
       "\n",
       "        admission_type_id_5  \n",
       "100561                    0  \n",
       "36676                     0  \n",
       "32637                     0  \n",
       "78173                     0  \n",
       "2649                      0  \n",
       "26572                     0  \n",
       "45553                     0  \n",
       "97968                     0  \n",
       "23612                     0  \n",
       "87705                     0  \n",
       "93764                     0  \n",
       "52268                     0  \n",
       "78398                     0  \n",
       "75827                     0  \n",
       "25403                     0  "
      ]
     },
     "execution_count": 139,
     "metadata": {},
     "output_type": "execute_result"
    }
   ],
   "source": [
    "df.sample(15).sample(7, axis=1)"
   ]
  },
  {
   "cell_type": "markdown",
   "metadata": {
    "_cell_guid": "023fcec0-3abf-4438-b0f9-1d90bff3160e",
    "_uuid": "f776c66446212e43fd9711e542f952b28efdd5ce"
   },
   "source": [
    "# Examine outcome variable"
   ]
  },
  {
   "cell_type": "code",
   "execution_count": 140,
   "metadata": {
    "_cell_guid": "47a23144-0c57-41ee-ae9e-41c7d88665f3",
    "_uuid": "b928cf235310739ee5f9424238e1c1b666401cd4"
   },
   "outputs": [
    {
     "data": {
      "text/plain": [
       "False    54864\n",
       "True     46902\n",
       "Name: is_readmitted, dtype: int64"
      ]
     },
     "execution_count": 140,
     "metadata": {},
     "output_type": "execute_result"
    }
   ],
   "source": [
    "df.is_readmitted.value_counts()"
   ]
  },
  {
   "cell_type": "markdown",
   "metadata": {
    "_cell_guid": "e83950f5-bc1e-4d4b-8114-85eb6589e5c3",
    "_uuid": "d810162bdf5a62088ba069618c9bb08c25b29b4e"
   },
   "source": [
    "# Define this machine learning problem, impute, set aside test data"
   ]
  },
  {
   "cell_type": "code",
   "execution_count": 141,
   "metadata": {
    "_cell_guid": "53f12577-3e19-485e-8c67-9a0de4a69494",
    "_uuid": "51baa417321f8522ae02c0f3e705ec3c7503074b"
   },
   "outputs": [],
   "source": [
    "#partition training and test data, one balanced training set, all remaining for testing \n",
    "outcome_column = 'is_readmitted' \n",
    "\n",
    "#Imputing with outlying value since we are focusing on tree based methods\n",
    "dff = df.fillna(-9999) \n",
    "\n",
    "#%% Split data for validation\n",
    "X = dff.drop(outcome_column, axis=1) \n",
    "y = dff[outcome_column] \n",
    "X_train, X_test, y_train, y_test = train_test_split(X, y, test_size=0.5, random_state=0) "
   ]
  },
  {
   "cell_type": "code",
   "execution_count": 144,
   "metadata": {},
   "outputs": [
    {
     "data": {
      "text/plain": [
       "Index(['age', 'time_in_hospital', 'num_lab_procedures', 'num_procedures',\n",
       "       'num_medications', 'number_outpatient', 'number_emergency',\n",
       "       'number_inpatient', 'number_diagnoses', 'spec_InternalMedicine',\n",
       "       ...\n",
       "       'discharge_disposition_id_17', 'discharge_disposition_id_18',\n",
       "       'discharge_disposition_id_19', 'discharge_disposition_id_20',\n",
       "       'discharge_disposition_id_22', 'discharge_disposition_id_23',\n",
       "       'discharge_disposition_id_24', 'discharge_disposition_id_25',\n",
       "       'discharge_disposition_id_27', 'discharge_disposition_id_28'],\n",
       "      dtype='object', length=171)"
      ]
     },
     "execution_count": 144,
     "metadata": {},
     "output_type": "execute_result"
    }
   ],
   "source": [
    "X_train[0:1].columns"
   ]
  },
  {
   "cell_type": "code",
   "execution_count": 145,
   "metadata": {},
   "outputs": [
    {
     "data": {
      "text/plain": [
       "pandas.core.series.Series"
      ]
     },
     "execution_count": 145,
     "metadata": {},
     "output_type": "execute_result"
    }
   ],
   "source": [
    "type(y_train)"
   ]
  },
  {
   "cell_type": "code",
   "execution_count": 146,
   "metadata": {},
   "outputs": [
    {
     "data": {
      "text/plain": [
       "array(['age', 'time_in_hospital', 'num_lab_procedures', 'num_procedures',\n",
       "       'num_medications', 'number_outpatient', 'number_emergency',\n",
       "       'number_inpatient', 'number_diagnoses', 'spec_InternalMedicine',\n",
       "       'spec_Emergency/Trauma', 'spec_Family/GeneralPractice',\n",
       "       'spec_Cardiology', 'spec_Surgery-General', 'diag_428', 'diag_250',\n",
       "       'diag_276', 'diag_414', 'diag_401', 'diag_427', 'diag_599',\n",
       "       'diag_496', 'diag_403', 'diag_486', 'gender_Female', 'gender_Male',\n",
       "       'gender_Unknown/Invalid', 'tolbutamide_No', 'tolbutamide_Steady',\n",
       "       'acarbose_Down', 'acarbose_No', 'acarbose_Steady', 'acarbose_Up',\n",
       "       'miglitol_Down', 'miglitol_No', 'miglitol_Steady', 'miglitol_Up',\n",
       "       'tolazamide_No', 'tolazamide_Steady', 'tolazamide_Up',\n",
       "       'metformin-rosiglitazone_No', 'metformin-rosiglitazone_Steady',\n",
       "       'change_Ch', 'change_No', 'diabetesMed_No', 'diabetesMed_Yes',\n",
       "       'glyburide-metformin_Down', 'glyburide-metformin_No',\n",
       "       'glyburide-metformin_Steady', 'glyburide-metformin_Up',\n",
       "       'max_glu_serum_>200', 'max_glu_serum_>300', 'max_glu_serum_None',\n",
       "       'max_glu_serum_Norm', 'A1Cresult_>7', 'A1Cresult_>8',\n",
       "       'A1Cresult_None', 'A1Cresult_Norm', 'metformin_Down',\n",
       "       'metformin_No', 'metformin_Steady', 'metformin_Up',\n",
       "       'repaglinide_Down', 'repaglinide_No', 'repaglinide_Steady',\n",
       "       'repaglinide_Up', 'nateglinide_Down', 'nateglinide_No',\n",
       "       'nateglinide_Steady', 'nateglinide_Up', 'chlorpropamide_Down',\n",
       "       'chlorpropamide_No', 'chlorpropamide_Steady', 'chlorpropamide_Up',\n",
       "       'glimepiride_Down', 'glimepiride_No', 'glimepiride_Steady',\n",
       "       'glimepiride_Up', 'glipizide_Down', 'glipizide_No',\n",
       "       'glipizide_Steady', 'glipizide_Up', 'glyburide_Down',\n",
       "       'glyburide_No', 'glyburide_Steady', 'glyburide_Up',\n",
       "       'pioglitazone_Down', 'pioglitazone_No', 'pioglitazone_Steady',\n",
       "       'pioglitazone_Up', 'rosiglitazone_Down', 'rosiglitazone_No',\n",
       "       'rosiglitazone_Steady', 'rosiglitazone_Up', 'insulin_Down',\n",
       "       'insulin_No', 'insulin_Steady', 'insulin_Up',\n",
       "       'race_AfricanAmerican', 'race_Asian', 'race_Caucasian',\n",
       "       'race_Hispanic', 'race_Other', 'admission_type_id_1',\n",
       "       'admission_type_id_2', 'admission_type_id_3',\n",
       "       'admission_type_id_4', 'admission_type_id_5',\n",
       "       'admission_type_id_6', 'admission_type_id_7',\n",
       "       'admission_type_id_8', 'admission_source_id_1',\n",
       "       'admission_source_id_2', 'admission_source_id_3',\n",
       "       'admission_source_id_4', 'admission_source_id_5',\n",
       "       'admission_source_id_6', 'admission_source_id_7',\n",
       "       'admission_source_id_8', 'admission_source_id_9',\n",
       "       'admission_source_id_10', 'admission_source_id_11',\n",
       "       'admission_source_id_13', 'admission_source_id_14',\n",
       "       'admission_source_id_17', 'admission_source_id_20',\n",
       "       'admission_source_id_22', 'admission_source_id_25',\n",
       "       'payer_code_BC', 'payer_code_CH', 'payer_code_CM', 'payer_code_CP',\n",
       "       'payer_code_DM', 'payer_code_FR', 'payer_code_HM', 'payer_code_MC',\n",
       "       'payer_code_MD', 'payer_code_MP', 'payer_code_OG', 'payer_code_OT',\n",
       "       'payer_code_PO', 'payer_code_SI', 'payer_code_SP', 'payer_code_UN',\n",
       "       'payer_code_WC', 'discharge_disposition_id_1',\n",
       "       'discharge_disposition_id_2', 'discharge_disposition_id_3',\n",
       "       'discharge_disposition_id_4', 'discharge_disposition_id_5',\n",
       "       'discharge_disposition_id_6', 'discharge_disposition_id_7',\n",
       "       'discharge_disposition_id_8', 'discharge_disposition_id_9',\n",
       "       'discharge_disposition_id_10', 'discharge_disposition_id_11',\n",
       "       'discharge_disposition_id_12', 'discharge_disposition_id_13',\n",
       "       'discharge_disposition_id_14', 'discharge_disposition_id_15',\n",
       "       'discharge_disposition_id_16', 'discharge_disposition_id_17',\n",
       "       'discharge_disposition_id_18', 'discharge_disposition_id_19',\n",
       "       'discharge_disposition_id_20', 'discharge_disposition_id_22',\n",
       "       'discharge_disposition_id_23', 'discharge_disposition_id_24',\n",
       "       'discharge_disposition_id_25', 'discharge_disposition_id_27',\n",
       "       'discharge_disposition_id_28'], dtype='<U30')"
      ]
     },
     "execution_count": 146,
     "metadata": {},
     "output_type": "execute_result"
    }
   ],
   "source": [
    "y_train_array = np.array(y_train.values.tolist())\n",
    "x_train_array = np.array(X_train.columns.tolist())\n",
    "x_train_array"
   ]
  },
  {
   "cell_type": "markdown",
   "metadata": {
    "_cell_guid": "9b83802f-5baf-43ce-9e13-152588c8e458",
    "_uuid": "58240a96b270e68c5ebf9990af40682a63897eb7"
   },
   "source": [
    "# AML Fit data to Random Forest model, trying different subsets of variables\n"
   ]
  },
  {
   "cell_type": "code",
   "execution_count": 21,
   "metadata": {},
   "outputs": [
    {
     "name": "stdout",
     "output_type": "stream",
     "text": [
      "Turning diagnostics collection on. \n"
     ]
    }
   ],
   "source": [
    "set_diagnostics_collection(send_diagnostics = True)"
   ]
  },
  {
   "cell_type": "code",
   "execution_count": 22,
   "metadata": {},
   "outputs": [],
   "source": [
    "import logging\n",
    "experiment = Experiment(ws, \"Diabetes_prediction\")\n",
    "automl_config = AutoMLConfig(task = 'classification',\n",
    "                             debug_log = 'automl_errors.log',\n",
    "                             primary_metric = 'AUC_weighted',\n",
    "                             iteration_timeout_minutes = 60,\n",
    "                             iterations = 5,\n",
    "                             n_cross_validations = 3,\n",
    "                             verbosity = logging.INFO,\n",
    "                             X = X_train, \n",
    "                             preprocess = True,\n",
    "                             y = y_train_array,\n",
    "                             model_explainability = False,\n",
    "                             path = './')"
   ]
  },
  {
   "cell_type": "code",
   "execution_count": 23,
   "metadata": {
    "scrolled": true
   },
   "outputs": [
    {
     "name": "stdout",
     "output_type": "stream",
     "text": [
      "Running on local machine\n",
      "Parent Run ID: AutoML_fa0c1e2d-d805-4d06-8a3d-4a25a653efad\n",
      "*******************************************************************************************************\n",
      "ITERATION: The iteration being evaluated.\n",
      "PIPELINE: A summary description of the pipeline being evaluated.\n",
      "TRAINFRAC: Fraction of the training data to train on.\n",
      "DURATION: Time taken for the current iteration.\n",
      "METRIC: The result of computing score on the fitted pipeline.\n",
      "BEST: The best observed score thus far.\n",
      "*******************************************************************************************************\n",
      "\n",
      " ITERATION   PIPELINE                                       TRAINFRAC  DURATION      METRIC      BEST\n",
      "         0   StandardScalerWrapper LightGBM                 1.0000     0:00:13       0.6573    0.6573\n",
      "         1   StandardScalerWrapper LogisticRegression       1.0000     0:00:10       0.6791    0.6791\n",
      "         2   MaxAbsScaler LightGBM                          1.0000     0:00:10       0.6715    0.6791\n",
      "         3   StandardScalerWrapper LightGBM                 1.0000     0:00:10       0.6497    0.6791\n",
      "         4   Ensemble                                       1.0000     0:00:25       0.6915    0.6915\n"
     ]
    }
   ],
   "source": [
    "local_run = experiment.submit(automl_config, show_output = True)"
   ]
  },
  {
   "cell_type": "code",
   "execution_count": 24,
   "metadata": {},
   "outputs": [
    {
     "data": {
      "application/vnd.jupyter.widget-view+json": {
       "model_id": "10ba481a737f4397b170459a4ab585a2",
       "version_major": 2,
       "version_minor": 0
      },
      "text/plain": [
       "_AutoMLWidget(widget_settings={'childWidgetDisplay': 'popup', 'send_telemetry': True, 'log_level': 'INFO', 'sd…"
      ]
     },
     "metadata": {},
     "output_type": "display_data"
    }
   ],
   "source": [
    "from azureml.widgets import RunDetails\n",
    "RunDetails(local_run).show()"
   ]
  },
  {
   "cell_type": "code",
   "execution_count": 25,
   "metadata": {
    "scrolled": true
   },
   "outputs": [
    {
     "data": {
      "text/html": [
       "<div>\n",
       "<style scoped>\n",
       "    .dataframe tbody tr th:only-of-type {\n",
       "        vertical-align: middle;\n",
       "    }\n",
       "\n",
       "    .dataframe tbody tr th {\n",
       "        vertical-align: top;\n",
       "    }\n",
       "\n",
       "    .dataframe thead th {\n",
       "        text-align: right;\n",
       "    }\n",
       "</style>\n",
       "<table border=\"1\" class=\"dataframe\">\n",
       "  <thead>\n",
       "    <tr style=\"text-align: right;\">\n",
       "      <th></th>\n",
       "      <th>0</th>\n",
       "      <th>1</th>\n",
       "      <th>2</th>\n",
       "      <th>3</th>\n",
       "      <th>4</th>\n",
       "    </tr>\n",
       "  </thead>\n",
       "  <tbody>\n",
       "    <tr>\n",
       "      <th>AUC_macro</th>\n",
       "      <td>0.657333</td>\n",
       "      <td>0.679076</td>\n",
       "      <td>0.671503</td>\n",
       "      <td>0.649724</td>\n",
       "      <td>0.691474</td>\n",
       "    </tr>\n",
       "    <tr>\n",
       "      <th>AUC_micro</th>\n",
       "      <td>0.657333</td>\n",
       "      <td>0.679076</td>\n",
       "      <td>0.671503</td>\n",
       "      <td>0.649724</td>\n",
       "      <td>0.691474</td>\n",
       "    </tr>\n",
       "    <tr>\n",
       "      <th>AUC_weighted</th>\n",
       "      <td>0.657333</td>\n",
       "      <td>0.679076</td>\n",
       "      <td>0.671503</td>\n",
       "      <td>0.649724</td>\n",
       "      <td>0.691474</td>\n",
       "    </tr>\n",
       "    <tr>\n",
       "      <th>accuracy</th>\n",
       "      <td>0.621600</td>\n",
       "      <td>0.629802</td>\n",
       "      <td>0.621201</td>\n",
       "      <td>0.613402</td>\n",
       "      <td>0.645402</td>\n",
       "    </tr>\n",
       "    <tr>\n",
       "      <th>average_precision_score_macro</th>\n",
       "      <td>0.608062</td>\n",
       "      <td>0.627356</td>\n",
       "      <td>0.622427</td>\n",
       "      <td>0.603468</td>\n",
       "      <td>0.643784</td>\n",
       "    </tr>\n",
       "    <tr>\n",
       "      <th>average_precision_score_micro</th>\n",
       "      <td>0.608062</td>\n",
       "      <td>0.627356</td>\n",
       "      <td>0.622427</td>\n",
       "      <td>0.603468</td>\n",
       "      <td>0.643784</td>\n",
       "    </tr>\n",
       "    <tr>\n",
       "      <th>average_precision_score_weighted</th>\n",
       "      <td>0.608062</td>\n",
       "      <td>0.627356</td>\n",
       "      <td>0.622427</td>\n",
       "      <td>0.603468</td>\n",
       "      <td>0.643784</td>\n",
       "    </tr>\n",
       "    <tr>\n",
       "      <th>balanced_accuracy</th>\n",
       "      <td>0.612909</td>\n",
       "      <td>0.628638</td>\n",
       "      <td>0.609285</td>\n",
       "      <td>0.600299</td>\n",
       "      <td>0.637510</td>\n",
       "    </tr>\n",
       "    <tr>\n",
       "      <th>f1_score_macro</th>\n",
       "      <td>0.610767</td>\n",
       "      <td>0.628323</td>\n",
       "      <td>0.602678</td>\n",
       "      <td>0.592255</td>\n",
       "      <td>0.636180</td>\n",
       "    </tr>\n",
       "    <tr>\n",
       "      <th>f1_score_micro</th>\n",
       "      <td>0.621600</td>\n",
       "      <td>0.629802</td>\n",
       "      <td>0.621201</td>\n",
       "      <td>0.613402</td>\n",
       "      <td>0.645402</td>\n",
       "    </tr>\n",
       "    <tr>\n",
       "      <th>f1_score_weighted</th>\n",
       "      <td>0.615398</td>\n",
       "      <td>0.629984</td>\n",
       "      <td>0.608680</td>\n",
       "      <td>0.598913</td>\n",
       "      <td>0.640257</td>\n",
       "    </tr>\n",
       "    <tr>\n",
       "      <th>log_loss</th>\n",
       "      <td>0.653200</td>\n",
       "      <td>0.705235</td>\n",
       "      <td>0.656104</td>\n",
       "      <td>0.663392</td>\n",
       "      <td>0.641176</td>\n",
       "    </tr>\n",
       "    <tr>\n",
       "      <th>norm_macro_recall</th>\n",
       "      <td>0.225818</td>\n",
       "      <td>0.257276</td>\n",
       "      <td>0.218570</td>\n",
       "      <td>0.200599</td>\n",
       "      <td>0.275021</td>\n",
       "    </tr>\n",
       "    <tr>\n",
       "      <th>precision_score_macro</th>\n",
       "      <td>0.620706</td>\n",
       "      <td>0.628419</td>\n",
       "      <td>0.625622</td>\n",
       "      <td>0.617049</td>\n",
       "      <td>0.646161</td>\n",
       "    </tr>\n",
       "    <tr>\n",
       "      <th>precision_score_micro</th>\n",
       "      <td>0.621600</td>\n",
       "      <td>0.629802</td>\n",
       "      <td>0.621201</td>\n",
       "      <td>0.613402</td>\n",
       "      <td>0.645402</td>\n",
       "    </tr>\n",
       "    <tr>\n",
       "      <th>precision_score_weighted</th>\n",
       "      <td>0.621085</td>\n",
       "      <td>0.630575</td>\n",
       "      <td>0.625124</td>\n",
       "      <td>0.616560</td>\n",
       "      <td>0.646250</td>\n",
       "    </tr>\n",
       "    <tr>\n",
       "      <th>recall_score_macro</th>\n",
       "      <td>0.612909</td>\n",
       "      <td>0.628638</td>\n",
       "      <td>0.609285</td>\n",
       "      <td>0.600299</td>\n",
       "      <td>0.637510</td>\n",
       "    </tr>\n",
       "    <tr>\n",
       "      <th>recall_score_micro</th>\n",
       "      <td>0.621600</td>\n",
       "      <td>0.629802</td>\n",
       "      <td>0.621201</td>\n",
       "      <td>0.613402</td>\n",
       "      <td>0.645402</td>\n",
       "    </tr>\n",
       "    <tr>\n",
       "      <th>recall_score_weighted</th>\n",
       "      <td>0.621600</td>\n",
       "      <td>0.629802</td>\n",
       "      <td>0.621201</td>\n",
       "      <td>0.613402</td>\n",
       "      <td>0.645402</td>\n",
       "    </tr>\n",
       "    <tr>\n",
       "      <th>weighted_accuracy</th>\n",
       "      <td>0.630189</td>\n",
       "      <td>0.630952</td>\n",
       "      <td>0.632983</td>\n",
       "      <td>0.626354</td>\n",
       "      <td>0.653204</td>\n",
       "    </tr>\n",
       "  </tbody>\n",
       "</table>\n",
       "</div>"
      ],
      "text/plain": [
       "                                         0         1         2         3  \\\n",
       "AUC_macro                         0.657333  0.679076  0.671503  0.649724   \n",
       "AUC_micro                         0.657333  0.679076  0.671503  0.649724   \n",
       "AUC_weighted                      0.657333  0.679076  0.671503  0.649724   \n",
       "accuracy                          0.621600  0.629802  0.621201  0.613402   \n",
       "average_precision_score_macro     0.608062  0.627356  0.622427  0.603468   \n",
       "average_precision_score_micro     0.608062  0.627356  0.622427  0.603468   \n",
       "average_precision_score_weighted  0.608062  0.627356  0.622427  0.603468   \n",
       "balanced_accuracy                 0.612909  0.628638  0.609285  0.600299   \n",
       "f1_score_macro                    0.610767  0.628323  0.602678  0.592255   \n",
       "f1_score_micro                    0.621600  0.629802  0.621201  0.613402   \n",
       "f1_score_weighted                 0.615398  0.629984  0.608680  0.598913   \n",
       "log_loss                          0.653200  0.705235  0.656104  0.663392   \n",
       "norm_macro_recall                 0.225818  0.257276  0.218570  0.200599   \n",
       "precision_score_macro             0.620706  0.628419  0.625622  0.617049   \n",
       "precision_score_micro             0.621600  0.629802  0.621201  0.613402   \n",
       "precision_score_weighted          0.621085  0.630575  0.625124  0.616560   \n",
       "recall_score_macro                0.612909  0.628638  0.609285  0.600299   \n",
       "recall_score_micro                0.621600  0.629802  0.621201  0.613402   \n",
       "recall_score_weighted             0.621600  0.629802  0.621201  0.613402   \n",
       "weighted_accuracy                 0.630189  0.630952  0.632983  0.626354   \n",
       "\n",
       "                                         4  \n",
       "AUC_macro                         0.691474  \n",
       "AUC_micro                         0.691474  \n",
       "AUC_weighted                      0.691474  \n",
       "accuracy                          0.645402  \n",
       "average_precision_score_macro     0.643784  \n",
       "average_precision_score_micro     0.643784  \n",
       "average_precision_score_weighted  0.643784  \n",
       "balanced_accuracy                 0.637510  \n",
       "f1_score_macro                    0.636180  \n",
       "f1_score_micro                    0.645402  \n",
       "f1_score_weighted                 0.640257  \n",
       "log_loss                          0.641176  \n",
       "norm_macro_recall                 0.275021  \n",
       "precision_score_macro             0.646161  \n",
       "precision_score_micro             0.645402  \n",
       "precision_score_weighted          0.646250  \n",
       "recall_score_macro                0.637510  \n",
       "recall_score_micro                0.645402  \n",
       "recall_score_weighted             0.645402  \n",
       "weighted_accuracy                 0.653204  "
      ]
     },
     "execution_count": 25,
     "metadata": {},
     "output_type": "execute_result"
    }
   ],
   "source": [
    "children = list(local_run.get_children())\n",
    "metricslist = {}\n",
    "for run in children:\n",
    "    properties = run.get_properties()\n",
    "    metrics = {k: v for k, v in run.get_metrics().items() if isinstance(v, float)}\n",
    "    metricslist[int(properties['iteration'])] = metrics\n",
    "\n",
    "rundata = pd.DataFrame(metricslist).sort_index(1)\n",
    "rundata"
   ]
  },
  {
   "cell_type": "code",
   "execution_count": 26,
   "metadata": {
    "scrolled": false
   },
   "outputs": [
    {
     "name": "stdout",
     "output_type": "stream",
     "text": [
      "Run(Experiment: Diabetes_prediction,\n",
      "Id: AutoML_fa0c1e2d-d805-4d06-8a3d-4a25a653efad_4,\n",
      "Type: None,\n",
      "Status: Completed)\n",
      "Pipeline(memory=None,\n",
      "     steps=[('datatransformer', DataTransformer(logger=None, task=None)), ('prefittedsoftvotingclassifier', PreFittedSoftVotingClassifier(classification_labels=None,\n",
      "               estimators=[('LightGBM', Pipeline(memory=None,\n",
      "     steps=[('standardscalerwrapper', <automl.client.core.common.model_wrappe...se=0, warm_start=False))]))],\n",
      "               flatten_transform=None, weights=[0.2, 0.2, 0.2, 0.2]))])\n",
      "Y_transformer(['LabelEncoder', LabelEncoder()])\n"
     ]
    }
   ],
   "source": [
    "best_run, fitted_model = local_run.get_output()\n",
    "print(best_run)\n",
    "print(fitted_model)"
   ]
  },
  {
   "cell_type": "code",
   "execution_count": 27,
   "metadata": {
    "scrolled": true
   },
   "outputs": [
    {
     "data": {
      "text/plain": [
       "PipelineWithYTransformations(Pipeline={'memory': None, 'steps': [('datatransformer', DataTransformer(logger=None, task=None)), ('prefittedsoftvotingclassifier', PreFittedSoftVotingClassifier(classification_labels=None,\n",
       "               estimators=[('LightGBM', Pipeline(memory=None,\n",
       "     steps=[('standardscalerwrapper', <automl.cl...e=0, warm_start=False))]))],\n",
       "               flatten_transform=None, weights=[0.2, 0.2, 0.2, 0.2]))]},\n",
       "               y_transformer={}, y_transformer_name='LabelEncoder')"
      ]
     },
     "execution_count": 27,
     "metadata": {},
     "output_type": "execute_result"
    }
   ],
   "source": [
    "fitted_model"
   ]
  },
  {
   "cell_type": "markdown",
   "metadata": {},
   "source": [
    "# model explanation"
   ]
  },
  {
   "cell_type": "code",
   "execution_count": null,
   "metadata": {},
   "outputs": [],
   "source": [
    "from azureml.train.automl.automlexplainer import explain_model\n",
    "\n",
    "shap_values, expected_values, overall_summary, overall_imp, per_class_summary, per_class_imp = \\\n",
    "    explain_model(fitted_model, X_train, X_test)\n",
    "\n",
    "#Overall feature importance\n",
    "print(overall_imp)\n",
    "print(overall_summary)\n",
    "\n",
    "#Class-level feature importance\n",
    "print(per_class_imp)\n",
    "print(per_class_summary)"
   ]
  },
  {
   "cell_type": "code",
   "execution_count": 29,
   "metadata": {},
   "outputs": [
    {
     "data": {
      "application/vnd.jupyter.widget-view+json": {
       "model_id": "d029f84f513844b5a3ca7825db5d0668",
       "version_major": 2,
       "version_minor": 0
      },
      "text/plain": [
       "_AutoMLWidget(widget_settings={'childWidgetDisplay': 'popup', 'send_telemetry': True, 'log_level': 'INFO', 'sd…"
      ]
     },
     "metadata": {},
     "output_type": "display_data"
    }
   ],
   "source": [
    "from azureml.widgets import RunDetails\n",
    "RunDetails(local_run).show()"
   ]
  },
  {
   "cell_type": "markdown",
   "metadata": {
    "_cell_guid": "c0b93205-e4b5-4f91-b6b6-f89c302ba8e1",
    "_uuid": "06b21cd176b11ecf2a9c7537f867b7d52e480c29"
   },
   "source": [
    "# Register the model for deployment"
   ]
  },
  {
   "cell_type": "code",
   "execution_count": 30,
   "metadata": {},
   "outputs": [
    {
     "name": "stdout",
     "output_type": "stream",
     "text": [
      "Registering model AutoMLfa0c1e2ddbest\n",
      "AutoMLfa0c1e2ddbest\n"
     ]
    }
   ],
   "source": [
    "description = 'AutoML Model'\n",
    "tags = None\n",
    "model = local_run.register_model(description = description, tags = tags)\n",
    "\n",
    "print(local_run.model_id) # This will be written to the script file later in the notebook."
   ]
  },
  {
   "cell_type": "code",
   "execution_count": 98,
   "metadata": {},
   "outputs": [
    {
     "name": "stdout",
     "output_type": "stream",
     "text": [
      "Overwriting score.py\n"
     ]
    }
   ],
   "source": [
    "%%writefile score.py\n",
    "import pickle\n",
    "import json\n",
    "import numpy\n",
    "import azureml.train.automl\n",
    "from sklearn.externals import joblib\n",
    "from azureml.core.model import Model\n",
    "import pandas as pd\n",
    "\n",
    "\n",
    "def init():\n",
    "    global model\n",
    "    model_path = Model.get_model_path(model_name = '<<modelid>>') # this name is model.id of model that we want to deploy\n",
    "    # deserialize the model file back into a sklearn model\n",
    "    model = joblib.load(model_path)\n",
    "\n",
    "def run(rawdata):\n",
    "    try:\n",
    "        data = json.loads(rawdata)['data']\n",
    "        data = numpy.array(data)\n",
    "        data_df = pd.DataFrame(data, columns=['age', 'time_in_hospital', 'num_lab_procedures', 'num_procedures',\n",
    "       'num_medications', 'number_outpatient', 'number_emergency',\n",
    "       'number_inpatient', 'number_diagnoses', 'spec_InternalMedicine',\n",
    "       'spec_Family/GeneralPractice', 'spec_Emergency/Trauma',\n",
    "       'spec_Cardiology', 'spec_Surgery-General', 'diag_428', 'diag_250',\n",
    "       'diag_276', 'diag_414', 'diag_427', 'diag_401', 'diag_599',\n",
    "       'diag_496', 'diag_786', 'diag_403', 'gender_Female', 'gender_Male',\n",
    "       'gender_Unknown/Invalid', 'tolbutamide_No', 'tolbutamide_Steady',\n",
    "       'acarbose_No', 'acarbose_Steady', 'acarbose_Up', 'miglitol_Down',\n",
    "       'miglitol_No', 'miglitol_Steady', 'tolazamide_No',\n",
    "       'tolazamide_Steady', 'metformin-rosiglitazone_No', 'change_Ch',\n",
    "       'change_No', 'diabetesMed_No', 'diabetesMed_Yes',\n",
    "       'glyburide-metformin_No', 'glyburide-metformin_Steady',\n",
    "       'max_glu_serum_>200', 'max_glu_serum_>300', 'max_glu_serum_None',\n",
    "       'max_glu_serum_Norm', 'A1Cresult_>7', 'A1Cresult_>8',\n",
    "       'A1Cresult_None', 'A1Cresult_Norm', 'metformin_Down',\n",
    "       'metformin_No', 'metformin_Steady', 'metformin_Up',\n",
    "       'repaglinide_Down', 'repaglinide_No', 'repaglinide_Steady',\n",
    "       'repaglinide_Up', 'nateglinide_No', 'nateglinide_Steady',\n",
    "       'nateglinide_Up', 'chlorpropamide_No', 'chlorpropamide_Steady',\n",
    "       'chlorpropamide_Up', 'glimepiride_Down', 'glimepiride_No',\n",
    "       'glimepiride_Steady', 'glimepiride_Up', 'glipizide_Down',\n",
    "       'glipizide_No', 'glipizide_Steady', 'glipizide_Up',\n",
    "       'glyburide_Down', 'glyburide_No', 'glyburide_Steady',\n",
    "       'glyburide_Up', 'pioglitazone_Down', 'pioglitazone_No',\n",
    "       'pioglitazone_Steady', 'pioglitazone_Up', 'rosiglitazone_Down',\n",
    "       'rosiglitazone_No', 'rosiglitazone_Steady', 'rosiglitazone_Up',\n",
    "       'insulin_Down', 'insulin_No', 'insulin_Steady', 'insulin_Up',\n",
    "       'race_AfricanAmerican', 'race_Asian', 'race_Caucasian',\n",
    "       'race_Hispanic', 'race_Other', 'admission_type_id_1',\n",
    "       'admission_type_id_2', 'admission_type_id_3',\n",
    "       'admission_type_id_4', 'admission_type_id_5',\n",
    "       'admission_type_id_6', 'admission_type_id_7',\n",
    "       'admission_type_id_8', 'admission_source_id_1',\n",
    "       'admission_source_id_2', 'admission_source_id_3',\n",
    "       'admission_source_id_4', 'admission_source_id_5',\n",
    "       'admission_source_id_6', 'admission_source_id_7',\n",
    "       'admission_source_id_8', 'admission_source_id_9',\n",
    "       'admission_source_id_14', 'admission_source_id_17',\n",
    "       'admission_source_id_20', 'admission_source_id_22',\n",
    "       'payer_code_BC', 'payer_code_CH', 'payer_code_CM', 'payer_code_CP',\n",
    "       'payer_code_DM', 'payer_code_FR', 'payer_code_HM', 'payer_code_MC',\n",
    "       'payer_code_MD', 'payer_code_MP', 'payer_code_OG', 'payer_code_OT',\n",
    "       'payer_code_PO', 'payer_code_SI', 'payer_code_SP', 'payer_code_UN',\n",
    "       'payer_code_WC', 'discharge_disposition_id_1',\n",
    "       'discharge_disposition_id_2', 'discharge_disposition_id_3',\n",
    "       'discharge_disposition_id_4', 'discharge_disposition_id_5',\n",
    "       'discharge_disposition_id_6', 'discharge_disposition_id_7',\n",
    "       'discharge_disposition_id_8', 'discharge_disposition_id_9',\n",
    "       'discharge_disposition_id_10', 'discharge_disposition_id_11',\n",
    "       'discharge_disposition_id_13', 'discharge_disposition_id_14',\n",
    "       'discharge_disposition_id_15', 'discharge_disposition_id_16',\n",
    "       'discharge_disposition_id_17', 'discharge_disposition_id_18',\n",
    "       'discharge_disposition_id_22', 'discharge_disposition_id_23',\n",
    "       'discharge_disposition_id_24', 'discharge_disposition_id_25',\n",
    "       'discharge_disposition_id_27', 'discharge_disposition_id_28'])\n",
    "        print(dir(model))\n",
    "        result = model.predict_proba(data_df) \n",
    "    except Exception as e:\n",
    "        result = str(e)\n",
    "        return json.dumps({\"error\": result})\n",
    "    return json.dumps({\"result\":result.tolist()})"
   ]
  },
  {
   "cell_type": "code",
   "execution_count": 99,
   "metadata": {},
   "outputs": [],
   "source": [
    "ml_run = AutoMLRun(experiment = experiment, run_id = local_run.id)"
   ]
  },
  {
   "cell_type": "code",
   "execution_count": 100,
   "metadata": {
    "scrolled": true
   },
   "outputs": [
    {
     "name": "stdout",
     "output_type": "stream",
     "text": [
      "No issues found in the SDK package versions.\n"
     ]
    }
   ],
   "source": [
    "dependencies = ml_run.get_run_sdk_dependencies(iteration = 4)"
   ]
  },
  {
   "cell_type": "code",
   "execution_count": 101,
   "metadata": {},
   "outputs": [
    {
     "name": "stdout",
     "output_type": "stream",
     "text": [
      "azureml-train-automl\t1.0.8\n",
      "azureml-sdk\t1.0.8\n",
      "azureml-core\t1.0.8\n"
     ]
    }
   ],
   "source": [
    "for p in ['azureml-train-automl', 'azureml-sdk', 'azureml-core']:\n",
    "    print('{}\\t{}'.format(p, dependencies[p]))"
   ]
  },
  {
   "cell_type": "code",
   "execution_count": 102,
   "metadata": {},
   "outputs": [
    {
     "data": {
      "text/plain": [
       "'myenv.yml'"
      ]
     },
     "execution_count": 102,
     "metadata": {},
     "output_type": "execute_result"
    }
   ],
   "source": [
    "from azureml.core.conda_dependencies import CondaDependencies\n",
    "\n",
    "myenv = CondaDependencies.create(conda_packages=['numpy','scikit-learn'], pip_packages=['azureml-sdk[automl]'])\n",
    "\n",
    "conda_env_file_name = 'myenv.yml'\n",
    "myenv.save_to_file('.', conda_env_file_name)"
   ]
  },
  {
   "cell_type": "code",
   "execution_count": 103,
   "metadata": {},
   "outputs": [],
   "source": [
    "# Substitute the actual version number in the environment file.\n",
    "# This is not strictly needed in this notebook because the model should have been generated using the current SDK version.\n",
    "# However, we include this in case this code is used on an experiment from a previous SDK version.\n",
    "\n",
    "with open(conda_env_file_name, 'r') as cefr:\n",
    "    content = cefr.read()\n",
    "\n",
    "with open(conda_env_file_name, 'w') as cefw:\n",
    "    cefw.write(content.replace(azureml.core.VERSION, dependencies['azureml-sdk']))\n",
    "\n",
    "# Substitute the actual model id in the script file.\n",
    "\n",
    "script_file_name = 'score.py'\n",
    "\n",
    "with open(script_file_name, 'r') as cefr:\n",
    "    content = cefr.read()\n",
    "\n",
    "with open(script_file_name, 'w') as cefw:\n",
    "    cefw.write(content.replace('<<modelid>>', local_run.model_id))"
   ]
  },
  {
   "cell_type": "markdown",
   "metadata": {},
   "source": [
    "# create container image"
   ]
  },
  {
   "cell_type": "code",
   "execution_count": 104,
   "metadata": {},
   "outputs": [
    {
     "name": "stdout",
     "output_type": "stream",
     "text": [
      "Creating image\n",
      "Running.................................................\n",
      "SucceededImage creation operation finished for image patienthubdiabetesanalysis:5, operation \"Succeeded\"\n"
     ]
    }
   ],
   "source": [
    "from azureml.core.image import Image, ContainerImage\n",
    "\n",
    "image_config = ContainerImage.image_configuration(runtime= \"python\",\n",
    "                                 execution_script = script_file_name,\n",
    "                                 conda_file = conda_env_file_name,\n",
    "                                 tags = {'area': \"digits\", 'type': \"automl_classification\"},\n",
    "                                 description = \"Image for ACE PatientHub Diabetes Analysis\")\n",
    "\n",
    "image = Image.create(name = \"patienthubdiabetesanalysis\",\n",
    "                     # this is the model object \n",
    "                     models = [model],\n",
    "                     image_config = image_config, \n",
    "                     workspace = ws)\n",
    "\n",
    "image.wait_for_creation(show_output = True)\n",
    "\n",
    "if image.creation_state == 'Failed':\n",
    "    print(\"Image build log at: \" + image.image_build_log_uri)"
   ]
  },
  {
   "cell_type": "code",
   "execution_count": 105,
   "metadata": {},
   "outputs": [],
   "source": [
    "\n",
    "# Use the default configuration (can also provide parameters to customize)\n",
    "prov_config = AksCompute.provisioning_configuration()\n",
    "\n",
    "aks_name = 'ace-patienthub' \n",
    "# Create the cluster\n",
    "aks_target = ComputeTarget.create(workspace = ws, \n",
    "                                  name = aks_name, \n",
    "                                  provisioning_configuration = prov_config)"
   ]
  },
  {
   "cell_type": "code",
   "execution_count": 106,
   "metadata": {},
   "outputs": [
    {
     "name": "stdout",
     "output_type": "stream",
     "text": [
      "SucceededProvisioning operation finished, operation \"Succeeded\"\n",
      "Succeeded\n",
      "None\n",
      "Wall time: 1.78 s\n"
     ]
    }
   ],
   "source": [
    "%%time\n",
    "aks_target.wait_for_completion(show_output = True)\n",
    "print(aks_target.provisioning_state)\n",
    "print(aks_target.provisioning_errors)"
   ]
  },
  {
   "cell_type": "code",
   "execution_count": 107,
   "metadata": {},
   "outputs": [],
   "source": [
    "\n",
    "#Set the web service configuration (using default here)\n",
    "aks_config = AksWebservice.deploy_configuration(collect_model_data=True, enable_app_insights=True)"
   ]
  },
  {
   "cell_type": "code",
   "execution_count": 12,
   "metadata": {},
   "outputs": [
    {
     "ename": "NameError",
     "evalue": "name 'Webservice' is not defined",
     "output_type": "error",
     "traceback": [
      "\u001b[1;31m---------------------------------------------------------------------------\u001b[0m",
      "\u001b[1;31mNameError\u001b[0m                                 Traceback (most recent call last)",
      "\u001b[1;32m<ipython-input-12-e09ecf4cbdb3>\u001b[0m in \u001b[0;36m<module>\u001b[1;34m\u001b[0m\n\u001b[1;32m----> 1\u001b[1;33m \u001b[0mwebservicelist\u001b[0m \u001b[1;33m=\u001b[0m \u001b[0mWebservice\u001b[0m\u001b[1;33m.\u001b[0m\u001b[0mlist\u001b[0m\u001b[1;33m(\u001b[0m\u001b[0mworkspace\u001b[0m \u001b[1;33m=\u001b[0m \u001b[0mws\u001b[0m\u001b[1;33m)\u001b[0m\u001b[1;33m\u001b[0m\u001b[1;33m\u001b[0m\u001b[0m\n\u001b[0m\u001b[0;32m      2\u001b[0m \u001b[0mwebservicelist\u001b[0m\u001b[1;33m\u001b[0m\u001b[1;33m\u001b[0m\u001b[0m\n",
      "\u001b[1;31mNameError\u001b[0m: name 'Webservice' is not defined"
     ]
    }
   ],
   "source": [
    "webservicelist = Webservice.list(workspace = ws)\n",
    "webservicelist"
   ]
  },
  {
   "cell_type": "code",
   "execution_count": 17,
   "metadata": {
    "scrolled": true
   },
   "outputs": [
    {
     "ename": "NameError",
     "evalue": "name 'image' is not defined",
     "output_type": "error",
     "traceback": [
      "\u001b[1;31m---------------------------------------------------------------------------\u001b[0m",
      "\u001b[1;31mNameError\u001b[0m                                 Traceback (most recent call last)",
      "\u001b[1;32m<timed exec>\u001b[0m in \u001b[0;36m<module>\u001b[1;34m\u001b[0m\n",
      "\u001b[1;31mNameError\u001b[0m: name 'image' is not defined"
     ]
    }
   ],
   "source": [
    "%%time\n",
    "aks_service_name ='ace-patienthub-analysis-0214'\n",
    "\n",
    "aks_service = Webservice.deploy_from_image(workspace = ws, \n",
    "                                           name = aks_service_name,\n",
    "                                           image = image,\n",
    "                                           deployment_config = aks_config,\n",
    "                                           deployment_target = aks_target)\n",
    "aks_service.wait_for_deployment(show_output = True)\n",
    "print(aks_service.state)"
   ]
  },
  {
   "cell_type": "code",
   "execution_count": 58,
   "metadata": {},
   "outputs": [
    {
     "data": {
      "text/plain": [
       "<azureml.core.workspace.Workspace at 0x24641adbf28>"
      ]
     },
     "execution_count": 58,
     "metadata": {},
     "output_type": "execute_result"
    }
   ],
   "source": [
    "ws"
   ]
  },
  {
   "cell_type": "code",
   "execution_count": 14,
   "metadata": {},
   "outputs": [
    {
     "name": "stdout",
     "output_type": "stream",
     "text": [
      "http://51.143.97.86/api/v1/service/ace-patienthub-analysis-0222/score\n",
      "http://51.143.97.86/api/v1/service/ace-patienthub-analysis-0221/score\n",
      "http://51.143.97.86/api/v1/service/ace-patienthub-analysis-0214/score\n",
      "http://51.143.97.86/api/v1/service/ace-patienthub-analysis-0213/score\n",
      "http://51.143.97.86/api/v1/service/ace-patienthub-analysis-service/score\n"
     ]
    }
   ],
   "source": [
    "services = Webservice.list(ws)\n",
    "# print(services[0].scoring_uri)\n",
    "for i in services:\n",
    "    print(i.scoring_uri)"
   ]
  },
  {
   "cell_type": "markdown",
   "metadata": {},
   "source": [
    "# test with data"
   ]
  },
  {
   "cell_type": "code",
   "execution_count": 24,
   "metadata": {},
   "outputs": [
    {
     "name": "stdout",
     "output_type": "stream",
     "text": [
      "['Caucasian', 'Female', '[0-10)', '?', '6', '25', '1', '1', '?', 'Pediatrics-Endocrinology', '41', '0', '1', '0', '0', '0', '250.83', '?', '?', '1', 'None', 'None', 'No', 'No', 'No', 'No', 'No', 'No', 'No', 'No', 'No', 'No', 'No', 'No', 'No', 'No', 'No', 'No', 'No', 'No', 'No', 'No', 'No', 'No', 'No', 'No', 'No']\n"
     ]
    }
   ],
   "source": [
    "item_to_score = ['Caucasian', 'Female', '[0-10)', '?', 6, 25, 1,\n",
    "        1, '?', 'Pediatrics-Endocrinology', 41, 0, 1, 0, 0, 0, '250.83',\n",
    "        '?', '?', 1, 'None', 'None', 'No', 'No', 'No', 'No', 'No', 'No',\n",
    "        'No', 'No', 'No', 'No', 'No', 'No', 'No', 'No', 'No', 'No', 'No',\n",
    "        'No', 'No', 'No', 'No', 'No', 'No', 'No', 'No']\n",
    "\n",
    "item_to_score_string = [str(i) for i in item_to_score]\n",
    "\n",
    "print(item_to_score_string)\n",
    "# Two sets of data to score, so we get two results back\n",
    "data = {\"data\": \n",
    "            [\n",
    "                item_to_score_string\n",
    "            ]\n",
    "        }\n",
    "# Convert to JSON string\n",
    "input_data = json.dumps(data)"
   ]
  },
  {
   "cell_type": "code",
   "execution_count": 25,
   "metadata": {},
   "outputs": [
    {
     "data": {
      "text/plain": [
       "47"
      ]
     },
     "execution_count": 25,
     "metadata": {},
     "output_type": "execute_result"
    }
   ],
   "source": [
    "len(item_to_score)\n"
   ]
  },
  {
   "cell_type": "code",
   "execution_count": 16,
   "metadata": {},
   "outputs": [
    {
     "ename": "NameError",
     "evalue": "name 'aks_service' is not defined",
     "output_type": "error",
     "traceback": [
      "\u001b[1;31m---------------------------------------------------------------------------\u001b[0m",
      "\u001b[1;31mNameError\u001b[0m                                 Traceback (most recent call last)",
      "\u001b[1;32m<timed exec>\u001b[0m in \u001b[0;36m<module>\u001b[1;34m\u001b[0m\n",
      "\u001b[1;31mNameError\u001b[0m: name 'aks_service' is not defined"
     ]
    }
   ],
   "source": [
    "%%time\n",
    "import json\n",
    "\n",
    "# test_sample = json.dumps({'data': X_train[1:2].values.tolist()})\n",
    "# test_sample = bytes(data,encoding = 'utf8')\n",
    "\n",
    "if aks_service.state == \"Healthy\":\n",
    "    prediction = aks_service.run(input_data=data)\n",
    "    print(prediction)\n",
    "else:\n",
    "    raise ValueError(\"Service deployment isn't healthy, can't call the service\")"
   ]
  },
  {
   "cell_type": "code",
   "execution_count": 26,
   "metadata": {},
   "outputs": [
    {
     "name": "stdout",
     "output_type": "stream",
     "text": [
      "\"{\\\"result\\\": [[0.7091077107414108, 0.29089228925858923]]}\"\n"
     ]
    }
   ],
   "source": [
    "import requests\n",
    "import requests\n",
    "import json\n",
    "\n",
    "# URL for the web service\n",
    "scoring_uri = 'http://51.143.97.86/api/v1/service/ace-patienthub-analysis-0222/score'\n",
    "# If the service is authenticated, set the key\n",
    "key = 'lLeRwqzT33O2Yb7VhonaXkESmYdqHNdh'\n",
    "\n",
    "\n",
    "\n",
    "# Set the content type\n",
    "headers = { 'Content-Type':'application/json' }\n",
    "# If authentication is enabled, set the authorization header\n",
    "headers['Authorization']=f'Bearer {key}'\n",
    "\n",
    "# Make the request and display the response\n",
    "resp = requests.post(scoring_uri, input_data, headers = headers)\n",
    "print(resp.text)"
   ]
  },
  {
   "cell_type": "markdown",
   "metadata": {},
   "source": [
    "# Deprecated"
   ]
  },
  {
   "cell_type": "code",
   "execution_count": null,
   "metadata": {
    "_cell_guid": "45a5370d-84a8-420f-8d25-1bac881f1ee2",
    "_uuid": "2c34237f0222c3749841d798cb726a15490d5633"
   },
   "outputs": [],
   "source": [
    "feat_ranks = pd.Series(index=X.columns, data=rfe.ranking_)\n",
    "rf_feats = feat_ranks[feat_ranks==1].index\n",
    "len(feat_ranks)"
   ]
  },
  {
   "cell_type": "code",
   "execution_count": null,
   "metadata": {
    "_cell_guid": "3493ff39-d681-407d-afba-c93b9d0aca7e",
    "_uuid": "fdeecd8ffb66b23458544af01e1104873e3b1a4b"
   },
   "outputs": [],
   "source": [
    "len(rf_feats)"
   ]
  },
  {
   "cell_type": "code",
   "execution_count": null,
   "metadata": {
    "_cell_guid": "91d10d89-9641-49b9-95d4-273abb4e3ba3",
    "_uuid": "49460c5d47c4c482c92b580ed795ab8166ff5512"
   },
   "outputs": [],
   "source": [
    "X_test_red = rfe.transform(X_test)\n",
    "X_train_red = rfe.transform(X_train)\n",
    "\n",
    "rfc = rfe.estimator_\n",
    "\n",
    "feat_imp = pd.Series(index=rf_feats, data=rfc.feature_importances_)\n",
    "feat_imp.sort_values(ascending=False).head(20)"
   ]
  },
  {
   "cell_type": "markdown",
   "metadata": {
    "_cell_guid": "7a6d76e1-f5de-473d-9711-63c05aedc9f0",
    "_uuid": "020fa992441440bb88a8d5c49aab03c0fac5ded7"
   },
   "source": [
    "# Assess prediction accuracy"
   ]
  },
  {
   "cell_type": "code",
   "execution_count": null,
   "metadata": {
    "_cell_guid": "781066b6-5b62-4e87-8cf9-3dfd62c60bac",
    "_uuid": "86f6d1318f3a63aa15047b205ab3d4e93b87bd85"
   },
   "outputs": [],
   "source": [
    "#%% assess accuracy\n",
    "pred = rfc.predict_proba(X_test_red)[:,1]\n",
    "fpr, tpr, threshold = sklearn.metrics.roc_curve(y_test, pred, drop_intermediate=True)    \n",
    "df_res = pd.DataFrame(data={'fpr':fpr, 'tpr':tpr, 'threshold':threshold})\n",
    "df_res = df_res[['threshold','fpr','tpr']]\n",
    "sklearn.metrics.auc(fpr, tpr)\n",
    "t=y.value_counts()[1]/y.value_counts().sum()\n",
    "sklearn.metrics.f1_score(y_test, pred>t)\n",
    "sklearn.metrics.accuracy_score(y_test, pred>t)\n",
    "\n",
    "roc_auc(pred, y_test)"
   ]
  },
  {
   "cell_type": "code",
   "execution_count": null,
   "metadata": {
    "_cell_guid": "f64c2b7c-c8da-4f39-8457-11a8be9b88cb",
    "_uuid": "65cbb968e3b3af45dcf536f9167d7aa73db5c4d6"
   },
   "outputs": [],
   "source": [
    "#TODO - visualize accuracy metrics based on threshold\n",
    "pd.options.mode.chained_assignment = None\n",
    "pred = rfc.predict_proba(X_test_red)[:,1]\n",
    "fpr, tpr, threshold = sklearn.metrics.roc_curve(y_test, pred, drop_intermediate=True)    \n",
    "df_res = pd.DataFrame(data={'fpr':fpr, 'tpr':tpr, 'threshold':threshold})\n",
    "df_res = df_res[['threshold','fpr','tpr']]\n",
    "sklearn.metrics.auc(fpr, tpr)"
   ]
  },
  {
   "cell_type": "code",
   "execution_count": null,
   "metadata": {
    "_cell_guid": "ab5561f2-6ca0-46e7-a307-3d75918630b4",
    "_uuid": "e0bf32bfb2a542c6fda20b920ff6a98c50048324"
   },
   "outputs": [],
   "source": [
    "df_res['accuracy'] = df_res.threshold.apply(lambda t: sklearn.metrics.accuracy_score(y_test, pred>t))\n",
    "df_res['precision'] = df_res.threshold.apply(lambda t: sklearn.metrics.precision_score(y_test, pred>t))\n",
    "df_res['recall'] = df_res.threshold.apply(lambda t: sklearn.metrics.recall_score(y_test, pred>t))\n",
    "df_res['f1'] = df_res.threshold.apply(lambda t: sklearn.metrics.f1_score(y_test, pred>t))\n",
    "df_res['specificity'] = df_res.fpr.apply(lambda fpr: 1-fpr)\n",
    "\n",
    "pt_opt = df_res[df_res.f1 == df_res.f1.max()].iloc[0]\n",
    "pt_opt"
   ]
  },
  {
   "cell_type": "code",
   "execution_count": null,
   "metadata": {
    "_cell_guid": "a2363a1e-0841-428c-be48-9143f2f4c39a",
    "_uuid": "c5be35194e820ab95721a48be2be71ad7d022d22"
   },
   "outputs": [],
   "source": [
    "plt.rcParams[\"figure.figsize\"] = (20,6)\n",
    "df_res.plot(x='threshold')"
   ]
  },
  {
   "cell_type": "markdown",
   "metadata": {
    "_cell_guid": "a2e5d190-5dbb-42ab-8046-8f4b3115055a",
    "_uuid": "c1d7a95466edfe41adb54482aa8262b2ff25ba4b"
   },
   "source": [
    "# Generate Decision tree based on the top features"
   ]
  },
  {
   "cell_type": "code",
   "execution_count": null,
   "metadata": {
    "_cell_guid": "a3766209-f6b4-4a5b-99fd-369727b35de4",
    "_uuid": "fbe980fbd8a1fcbe03ff74056b1bd0638af21c4b"
   },
   "outputs": [],
   "source": [
    "from sklearn.externals.six import StringIO  \n",
    "\n",
    "dtc = DecisionTreeClassifier(min_samples_leaf=0.125, min_samples_split=0.125)\n",
    "dtc.fit(X_train_red, y_train)\n",
    "from sklearn import tree\n"
   ]
  },
  {
   "cell_type": "code",
   "execution_count": null,
   "metadata": {
    "_cell_guid": "5766c239-a6c8-4471-9f65-23e67bd7904d",
    "_uuid": "6aeef1715d8d2a337a27a7b070756512c5573740"
   },
   "outputs": [],
   "source": [
    "from IPython.display import Image\n",
    "from subprocess import check_call\n",
    "tree.export_graphviz(dtc, out_file=\"tree.dot\", feature_names=rf_feats, proportion=True)\n",
    "check_call(['dot','-Tpng','tree.dot','-o','tree.png'])\n",
    "Image(filename='tree.png')"
   ]
  },
  {
   "cell_type": "code",
   "execution_count": null,
   "metadata": {
    "_cell_guid": "051a5c44-0182-469a-8cfe-c790eebf900b",
    "_uuid": "0b34b242b2e5bae9df8cf18dbfdb941df2adbab9"
   },
   "outputs": [],
   "source": []
  }
 ],
 "metadata": {
  "kernelspec": {
   "display_name": "Python 3",
   "language": "python",
   "name": "python3"
  },
  "language_info": {
   "codemirror_mode": {
    "name": "ipython",
    "version": 3
   },
   "file_extension": ".py",
   "mimetype": "text/x-python",
   "name": "python",
   "nbconvert_exporter": "python",
   "pygments_lexer": "ipython3",
   "version": "3.6.7"
  }
 },
 "nbformat": 4,
 "nbformat_minor": 1
}
