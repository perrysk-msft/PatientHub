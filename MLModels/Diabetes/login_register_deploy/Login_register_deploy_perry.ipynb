{
 "cells": [
  {
   "cell_type": "code",
   "execution_count": 10,
   "metadata": {
    "_cell_guid": "9ddfcdbe-f498-43ae-84cc-de46f775c22e",
    "_uuid": "da001f0cfc6af69259f2a51b728bf168a17d24dd"
   },
   "outputs": [],
   "source": [
    "\n",
    "import numpy as np \n",
    "from azureml.telemetry import set_diagnostics_collection\n",
    "from azureml.train.automl import AutoMLConfig\n",
    "from azureml.train.automl.run import AutoMLRun\n",
    "from azureml.core.experiment import Experiment\n",
    "from azureml.core.compute import AksCompute, ComputeTarget\n",
    "from azureml.core.webservice import Webservice, AksWebservice\n",
    "from time import gmtime, strftime\n",
    "import azureml.core\n",
    "import os\n",
    "from azureml.core import Workspace"
   ]
  },
  {
   "cell_type": "code",
   "execution_count": 19,
   "metadata": {},
   "outputs": [
    {
     "name": "stdout",
     "output_type": "stream",
     "text": [
      "Wrote the config file config.json to: F:\\PatientHub\\MLModels\\Diabetes\\login_register_deploy\\aml_config\\config.json\n",
      "Workspace configuration succeeded. Skip the workspace creation steps below\n"
     ]
    }
   ],
   "source": [
    "# defaults\n",
    "\n",
    "parser = argparse.ArgumentParser(description='Process some integers.')\n",
    "parser.add_argument('--script_file_name', dest='script_file_name', \n",
    "                    help='script file name')\n",
    "\n",
    "args = parser.parse_args()\n",
    "print(args.accumulate(args.integers))\n",
    "\n",
    "\n",
    "script_file_name = \"./score.py\"\n",
    "conda_env_file_name = \"./myenv.yml\"\n",
    "default_subscription_id = \"a6c2a7cc-d67e-4a1a-b765-983f08c0423a\"\n",
    "default_resource_group = \"xiaoyzhu-mlworkspace\"\n",
    "default_workspace_name = \"xiaoyzhu-MLworkspace\"\n",
    "default_workspace_region =\"eastus2\"\n",
    "model_path = \"./model.pkl\"\n",
    "model_name = \"phdeploymodel\" # note this must be less than 20 chars\n",
    "model_description = \"Ridge regression model to predict diabetes\"\n",
    "aks_name = 'ace-patienthub' \n",
    "\n",
    "subscription_id = os.getenv(\"SUBSCRIPTION_ID\", default=default_subscription_id)\n",
    "resource_group = os.getenv(\"RESOURCE_GROUP\", default=default_resource_group)\n",
    "workspace_name = os.getenv(\"WORKSPACE_NAME\", default=default_workspace_name)\n",
    "workspace_region = os.getenv(\"WORKSPACE_REGION\", default=default_workspace_region)\n",
    "\n",
    "\n",
    "try:\n",
    "    ws = Workspace(subscription_id = subscription_id, resource_group = resource_group, workspace_name = workspace_name)\n",
    "    # write the details of the workspace to a configuration file to the notebook library\n",
    "    ws.write_config(file_name=\"config.json\")\n",
    "    print(\"Workspace configuration succeeded. Skip the workspace creation steps below\")\n",
    "except:\n",
    "    print(\"Workspace not accessible. Change your parameters or create a new workspace below\")"
   ]
  },
  {
   "cell_type": "markdown",
   "metadata": {
    "_cell_guid": "c0b93205-e4b5-4f91-b6b6-f89c302ba8e1",
    "_uuid": "06b21cd176b11ecf2a9c7537f867b7d52e480c29"
   },
   "source": [
    "# Register the model for deployment"
   ]
  },
  {
   "cell_type": "code",
   "execution_count": 3,
   "metadata": {
    "scrolled": true
   },
   "outputs": [
    {
     "name": "stdout",
     "output_type": "stream",
     "text": [
      "Registering model patientHubregisterdeploytest\n",
      "patientHubregisterdeploytest Ridge regression model to predict diabetes 1\n"
     ]
    }
   ],
   "source": [
    "#Register the model\n",
    "from azureml.core.model import Model\n",
    "model = Model.register(model_path = model_path, # this points to a local file\n",
    "                       model_name = model_name, # this is the name the model is registered as\n",
    "                       tags = {'area': \"diabetes\", 'type': \"regression\"},\n",
    "                       description = model_description,\n",
    "                       workspace = ws)\n",
    "\n",
    "print(model.name, model.description, model.version)"
   ]
  },
  {
   "cell_type": "markdown",
   "metadata": {},
   "source": [
    "# Create container image"
   ]
  },
  {
   "cell_type": "code",
   "execution_count": 4,
   "metadata": {},
   "outputs": [
    {
     "name": "stdout",
     "output_type": "stream",
     "text": [
      "Creating image\n",
      "Running.............................................................\n",
      "SucceededImage creation operation finished for image patienthubdiabetesanalysis:11, operation \"Succeeded\"\n"
     ]
    }
   ],
   "source": [
    "from azureml.core.image import Image, ContainerImage\n",
    "\n",
    "image_config = ContainerImage.image_configuration(runtime= \"python\",\n",
    "                                 execution_script = script_file_name,\n",
    "                                 conda_file = conda_env_file_name,\n",
    "                                 tags = {'area': \"digits\", 'type': \"automl_classification\"},\n",
    "                                 description = model_description)\n",
    "\n",
    "image = Image.create(name = model_name+\"image\",\n",
    "                     # this is the model object \n",
    "                     models = [model],\n",
    "                     image_config = image_config, \n",
    "                     workspace = ws)\n",
    "\n",
    "image.wait_for_creation(show_output = True)\n",
    "\n",
    "if image.creation_state == 'Failed':\n",
    "    print(\"Image build log at: \" + image.image_build_log_uri)"
   ]
  },
  {
   "cell_type": "code",
   "execution_count": 5,
   "metadata": {},
   "outputs": [],
   "source": [
    "# Use the default configuration (can also provide parameters to customize)\n",
    "prov_config = AksCompute.provisioning_configuration()\n",
    "\n",
    "# Create the cluster\n",
    "aks_target = ComputeTarget.create(workspace = ws, \n",
    "                                  name = aks_name, \n",
    "                                  provisioning_configuration = prov_config)"
   ]
  },
  {
   "cell_type": "code",
   "execution_count": 6,
   "metadata": {},
   "outputs": [
    {
     "name": "stdout",
     "output_type": "stream",
     "text": [
      "SucceededProvisioning operation finished, operation \"Succeeded\"\n",
      "Succeeded\n",
      "None\n",
      "Wall time: 566 ms\n"
     ]
    }
   ],
   "source": [
    "aks_target.wait_for_completion(show_output = True)\n",
    "print(aks_target.provisioning_state)\n",
    "print(aks_target.provisioning_errors)"
   ]
  },
  {
   "cell_type": "code",
   "execution_count": 7,
   "metadata": {},
   "outputs": [],
   "source": [
    "\n",
    "#Set the web service configuration (using default here)\n",
    "aks_config = AksWebservice.deploy_configuration(collect_model_data=True, enable_app_insights=True)"
   ]
  },
  {
   "cell_type": "code",
   "execution_count": 12,
   "metadata": {},
   "outputs": [],
   "source": [
    "webservicelist = Webservice.list(workspace = ws)"
   ]
  },
  {
   "cell_type": "code",
   "execution_count": 21,
   "metadata": {
    "scrolled": true
   },
   "outputs": [
    {
     "name": "stdout",
     "output_type": "stream",
     "text": [
      "Creating service\n",
      "Running......................\n",
      "FailedAKS service creation operation finished, operation \"Failed\"\n",
      "Service creation polling reached terminal state, current service state: Failed\n",
      "{\n",
      "  \"code\": \"KubernetesDeploymentFailed\",\n",
      "  \"statusCode\": 400,\n",
      "  \"message\": \"Kubernetes Deployment failed\",\n",
      "  \"details\": [\n",
      "    {\n",
      "      \"code\": \"CrashLoopBackOff\",\n",
      "      \"message\": \"Your container application crashed. This may be caused by errors in your scoring file's init() function.\\nPlease check the logs for your container instance phdeploymodel03192050.\\nYou can also try to run image xiaoyzhuacrulnyrnfv.azurecr.io/patienthubdiabetesanalysis:11 locally. Please refer to http://aka.ms/debugimage for more information.\"\n",
      "    }\n",
      "  ]\n",
      "}\n",
      "Failed\n"
     ]
    }
   ],
   "source": [
    "aks_service_name =model_name+strftime(\"%m%d%H%M\", gmtime())\n",
    "\n",
    "aks_service = Webservice.deploy_from_image(workspace = ws, \n",
    "                                           name = aks_service_name,\n",
    "                                           image = image,\n",
    "                                           deployment_config = aks_config,\n",
    "                                           deployment_target = aks_target)\n",
    "aks_service.wait_for_deployment(show_output = True)\n",
    "print(aks_service.state)"
   ]
  },
  {
   "cell_type": "code",
   "execution_count": null,
   "metadata": {},
   "outputs": [],
   "source": [
    "ws"
   ]
  },
  {
   "cell_type": "code",
   "execution_count": null,
   "metadata": {},
   "outputs": [],
   "source": [
    "services = Webservice.list(ws)\n",
    "# print(services[0].scoring_uri)\n",
    "for i in services:\n",
    "    print(i.scoring_uri)"
   ]
  },
  {
   "cell_type": "code",
   "execution_count": null,
   "metadata": {
    "_cell_guid": "051a5c44-0182-469a-8cfe-c790eebf900b",
    "_uuid": "0b34b242b2e5bae9df8cf18dbfdb941df2adbab9"
   },
   "outputs": [],
   "source": []
  }
 ],
 "metadata": {
  "kernelspec": {
   "display_name": "Python 3",
   "language": "python",
   "name": "python3"
  },
  "language_info": {
   "codemirror_mode": {
    "name": "ipython",
    "version": 3
   },
   "file_extension": ".py",
   "mimetype": "text/x-python",
   "name": "python",
   "nbconvert_exporter": "python",
   "pygments_lexer": "ipython3",
   "version": "3.6.7"
  }
 },
 "nbformat": 4,
 "nbformat_minor": 1
}
