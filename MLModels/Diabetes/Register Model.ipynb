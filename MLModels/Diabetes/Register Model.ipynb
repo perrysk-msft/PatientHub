{
 "cells": [
  {
   "cell_type": "code",
   "execution_count": 2,
   "metadata": {
    "_cell_guid": "9ddfcdbe-f498-43ae-84cc-de46f775c22e",
    "_uuid": "da001f0cfc6af69259f2a51b728bf168a17d24dd"
   },
   "outputs": [
    {
     "name": "stderr",
     "output_type": "stream",
     "text": [
      "Falling back to use azure cli credentials. This fall back to use azure cli credentials will be removed in the next release. \n",
      "Make sure your code doesn't require 'az login' to have happened before using azureml-sdk, except the case when you are specifying AzureCliAuthentication in azureml-sdk.\n"
     ]
    },
    {
     "name": "stdout",
     "output_type": "stream",
     "text": [
      "Wrote the config file xiaoyzhuconfig.json to: F:\\PatientHub\\MLModels\\Diabetes\\aml_config\\xiaoyzhuconfig.json\n",
      "Workspace configuration succeeded. Skip the workspace creation steps below\n",
      "Registering model Mymodel\n"
     ]
    }
   ],
   "source": [
    "from azureml.core.model import Model\n",
    "import azureml.core\n",
    "import os\n",
    "from azureml.core import Workspace\n",
    "\n",
    "subscription_id = os.getenv(\"SUBSCRIPTION_ID\", default=\"a6c2a7cc-d67e-4a1a-b765-983f08c0423a\")\n",
    "resource_group = os.getenv(\"RESOURCE_GROUP\", default=\"xiaoyzhu-mlworkspace\")\n",
    "workspace_name = os.getenv(\"WORKSPACE_NAME\", default=\"xiaoyzhu-MLworkspace\")\n",
    "workspace_region = os.getenv(\"WORKSPACE_REGION\", default=\"eastus2\")\n",
    "\n",
    "\n",
    "try:\n",
    "    ws = Workspace(subscription_id = subscription_id, resource_group = resource_group, workspace_name = workspace_name)\n",
    "    # write the details of the workspace to a configuration file to the notebook library\n",
    "    ws.write_config(file_name=\"xiaoyzhuconfig.json\")\n",
    "    print(\"Workspace configuration succeeded. Skip the workspace creation steps below\")\n",
    "except:\n",
    "    print(\"Workspace not accessible. Change your parameters or create a new workspace below\")\n",
    "model = Model.register(model_path = r\"F:\\PatientHub\\MLModels\\DiabetesReadmission\\data\\model.pkl\",\n",
    "                       model_name = \"Mymodel\",\n",
    "                       tags = {\"key\": \"0.1\"},\n",
    "                       description = \"test\",\n",
    "                       workspace = ws)\n",
    "model.list(workspace = ws, name = \"Mymodel\")"
   ]
  },
  {
   "cell_type": "code",
   "execution_count": 7,
   "metadata": {},
   "outputs": [
    {
     "data": {
      "text/plain": [
       "[<azureml.core.model.Model at 0x2d3520a16d8>]"
      ]
     },
     "execution_count": 7,
     "metadata": {},
     "output_type": "execute_result"
    }
   ],
   "source": []
  },
  {
   "cell_type": "code",
   "execution_count": 2,
   "metadata": {},
   "outputs": [],
   "source": [
    "import numpy as np"
   ]
  },
  {
   "cell_type": "markdown",
   "metadata": {
    "_cell_guid": "a15df269-2e4c-4442-a574-e55d9816da1d",
    "_uuid": "24e6e547cbd72f41ae840b6693be9a526ef7d059"
   },
   "source": [
    "# Read in the data"
   ]
  },
  {
   "cell_type": "code",
   "execution_count": 3,
   "metadata": {},
   "outputs": [
    {
     "data": {
      "text/plain": [
       "['encounter_id',\n",
       " 'patient_nbr',\n",
       " 'race',\n",
       " 'gender',\n",
       " 'age',\n",
       " 'weight',\n",
       " 'admission_type_id',\n",
       " 'discharge_disposition_id',\n",
       " 'admission_source_id',\n",
       " 'time_in_hospital',\n",
       " 'payer_code',\n",
       " 'medical_specialty',\n",
       " 'num_lab_procedures',\n",
       " 'num_procedures',\n",
       " 'num_medications',\n",
       " 'number_outpatient',\n",
       " 'number_emergency',\n",
       " 'number_inpatient',\n",
       " 'diag_1',\n",
       " 'diag_2',\n",
       " 'diag_3',\n",
       " 'number_diagnoses',\n",
       " 'max_glu_serum',\n",
       " 'A1Cresult',\n",
       " 'metformin',\n",
       " 'repaglinide',\n",
       " 'nateglinide',\n",
       " 'chlorpropamide',\n",
       " 'glimepiride',\n",
       " 'acetohexamide',\n",
       " 'glipizide',\n",
       " 'glyburide',\n",
       " 'tolbutamide',\n",
       " 'pioglitazone',\n",
       " 'rosiglitazone',\n",
       " 'acarbose',\n",
       " 'miglitol',\n",
       " 'troglitazone',\n",
       " 'tolazamide',\n",
       " 'examide',\n",
       " 'citoglipton',\n",
       " 'insulin',\n",
       " 'glyburide-metformin',\n",
       " 'glipizide-metformin',\n",
       " 'glimepiride-pioglitazone',\n",
       " 'metformin-rosiglitazone',\n",
       " 'metformin-pioglitazone',\n",
       " 'change',\n",
       " 'diabetesMed',\n",
       " 'readmitted']"
      ]
     },
     "execution_count": 3,
     "metadata": {},
     "output_type": "execute_result"
    }
   ],
   "source": [
    "df_raw = pd.read_csv(datain_dir + 'diabetic_data.csv')\n",
    "list(df_raw.columns)"
   ]
  },
  {
   "cell_type": "code",
   "execution_count": 4,
   "metadata": {
    "_cell_guid": "a83c2de4-a9ca-47f6-8841-7befb9744631",
    "_uuid": "76dfc10d98459ab9397bc045ba332a03534d3c4b"
   },
   "outputs": [
    {
     "name": "stdout",
     "output_type": "stream",
     "text": [
      "(101766, 40)\n"
     ]
    }
   ],
   "source": [
    "df_raw = pd.read_csv(datain_dir + 'diabetic_data.csv')\n",
    "to_drop = ['acetohexamide', 'troglitazone', 'examide', 'citoglipton',\n",
    "       'glipizide-metformin', 'glimepiride-pioglitazone',\n",
    "       'metformin-pioglitazone', 'weight', 'patient_nbr', 'encounter_id']\n",
    "df_raw.drop(to_drop, axis=1, inplace=True, errors = 'ignore')\n",
    "df_raw = df_raw.replace('?', np.nan) \n",
    "print(df_raw.shape)"
   ]
  },
  {
   "cell_type": "markdown",
   "metadata": {
    "_cell_guid": "7fb2f7ef-d6d3-4a5b-8c9e-51037b5762e8",
    "_uuid": "6f4ce457c360920e2309f594c574ca6637c41b36"
   },
   "source": [
    "# Generate boolean features for only most common medical specialties"
   ]
  },
  {
   "cell_type": "code",
   "execution_count": 5,
   "metadata": {},
   "outputs": [
    {
     "name": "stdout",
     "output_type": "stream",
     "text": [
      "(101766, 41)\n"
     ]
    }
   ],
   "source": [
    "spec_counts_raw = {\"specs\": ['InternalMedicine', 'Emergency/Trauma', 'Family/GeneralPractice',\n",
    "       'Cardiology', 'Surgery-General'], \"num patients\": [14635,  7565,  7440,  5352,  3099]}\n",
    "\n",
    "spec_counts = pd.DataFrame(spec_counts_raw, columns = ['specs', \"num patients\"]).set_index([\"specs\"])\n",
    "spec_thresh = 5\n",
    "for (spec, count) in spec_counts.head(spec_thresh).iteritems():\n",
    "    new_col = 'spec_' + str(spec)\n",
    "    df_raw[new_col] = (df_raw.medical_specialty == spec)\n",
    "print(df_raw.shape)\n",
    "    \n",
    "# df_raw.filter(regex='spec').sample(10)"
   ]
  },
  {
   "cell_type": "markdown",
   "metadata": {
    "_cell_guid": "52fdb72e-4e27-41e6-9fba-7da3c5298549",
    "_uuid": "6e25229c75d87b6b9287742297fd81980bb522f5"
   },
   "source": [
    "# Generate boolean features for top N diagnoses"
   ]
  },
  {
   "cell_type": "code",
   "execution_count": 6,
   "metadata": {
    "_cell_guid": "deb66d4f-69c3-4b62-b55a-6a822bb01f5b",
    "_uuid": "7e22e692779fab22c9c00c954aeb96f07ed8aed4"
   },
   "outputs": [
    {
     "name": "stdout",
     "output_type": "stream",
     "text": [
      "(101766, 42)\n"
     ]
    }
   ],
   "source": [
    "diag_counts_raw = {\"icd9value\": ['428', '250', '276', '414', '401', '427', '599', '496', '403', '486'], 'num patients w diag': [18101., 17861., 13816., 12895., 12371., 11757.,  6824.,  5990.,\n",
    "        5693.,  5455.]}\n",
    "\n",
    "diag_counts = pd.DataFrame(diag_counts_raw, columns = [ 'icd9value', 'num patients w diag']).set_index(['icd9value'])\n",
    "\n",
    "diag_thresh = 10\n",
    "for (icd9, count) in diag_counts.head(diag_thresh).iteritems():\n",
    "    new_col = 'diag_' + str(icd9)\n",
    "    df_raw[new_col] = (df_raw.diag_1 == icd9)|(df_raw.diag_2 == icd9)|(df_raw.diag_3 == icd9)\n",
    "    \n",
    "print(df_raw.shape)"
   ]
  },
  {
   "cell_type": "markdown",
   "metadata": {
    "_cell_guid": "bfc235a6-b7d9-4389-9968-009f8065888e",
    "_uuid": "4438f5dcfe2611e42f63305b22511cc4111410b7",
    "collapsed": true
   },
   "source": [
    "# Clean the data"
   ]
  },
  {
   "cell_type": "code",
   "execution_count": 7,
   "metadata": {
    "_cell_guid": "c3d810c0-385d-4980-9115-395f0a8904bb",
    "_uuid": "6576d9071b20eb72cd09cf0ef4e8a1d31344d018"
   },
   "outputs": [
    {
     "name": "stdout",
     "output_type": "stream",
     "text": [
      "(101766, 38)\n"
     ]
    },
    {
     "data": {
      "text/plain": [
       "['age',\n",
       " 'time_in_hospital',\n",
       " 'num_lab_procedures',\n",
       " 'num_procedures',\n",
       " 'num_medications',\n",
       " 'number_outpatient',\n",
       " 'number_emergency',\n",
       " 'number_inpatient',\n",
       " 'number_diagnoses',\n",
       " 'spec_num patients',\n",
       " 'diag_num patients w diag',\n",
       " 'gender_Female',\n",
       " 'gender_Male',\n",
       " 'gender_Unknown/Invalid',\n",
       " 'tolbutamide_No',\n",
       " 'tolbutamide_Steady',\n",
       " 'acarbose_Down',\n",
       " 'acarbose_No',\n",
       " 'acarbose_Steady',\n",
       " 'acarbose_Up',\n",
       " 'miglitol_Down',\n",
       " 'miglitol_No',\n",
       " 'miglitol_Steady',\n",
       " 'miglitol_Up',\n",
       " 'tolazamide_No',\n",
       " 'tolazamide_Steady',\n",
       " 'tolazamide_Up',\n",
       " 'metformin-rosiglitazone_No',\n",
       " 'metformin-rosiglitazone_Steady',\n",
       " 'change_Ch',\n",
       " 'change_No',\n",
       " 'diabetesMed_No',\n",
       " 'diabetesMed_Yes',\n",
       " 'glyburide-metformin_Down',\n",
       " 'glyburide-metformin_No',\n",
       " 'glyburide-metformin_Steady',\n",
       " 'glyburide-metformin_Up',\n",
       " 'max_glu_serum_>200',\n",
       " 'max_glu_serum_>300',\n",
       " 'max_glu_serum_None',\n",
       " 'max_glu_serum_Norm',\n",
       " 'A1Cresult_>7',\n",
       " 'A1Cresult_>8',\n",
       " 'A1Cresult_None',\n",
       " 'A1Cresult_Norm',\n",
       " 'metformin_Down',\n",
       " 'metformin_No',\n",
       " 'metformin_Steady',\n",
       " 'metformin_Up',\n",
       " 'repaglinide_Down',\n",
       " 'repaglinide_No',\n",
       " 'repaglinide_Steady',\n",
       " 'repaglinide_Up',\n",
       " 'nateglinide_Down',\n",
       " 'nateglinide_No',\n",
       " 'nateglinide_Steady',\n",
       " 'nateglinide_Up',\n",
       " 'chlorpropamide_Down',\n",
       " 'chlorpropamide_No',\n",
       " 'chlorpropamide_Steady',\n",
       " 'chlorpropamide_Up',\n",
       " 'glimepiride_Down',\n",
       " 'glimepiride_No',\n",
       " 'glimepiride_Steady',\n",
       " 'glimepiride_Up',\n",
       " 'glipizide_Down',\n",
       " 'glipizide_No',\n",
       " 'glipizide_Steady',\n",
       " 'glipizide_Up',\n",
       " 'glyburide_Down',\n",
       " 'glyburide_No',\n",
       " 'glyburide_Steady',\n",
       " 'glyburide_Up',\n",
       " 'pioglitazone_Down',\n",
       " 'pioglitazone_No',\n",
       " 'pioglitazone_Steady',\n",
       " 'pioglitazone_Up',\n",
       " 'rosiglitazone_Down',\n",
       " 'rosiglitazone_No',\n",
       " 'rosiglitazone_Steady',\n",
       " 'rosiglitazone_Up',\n",
       " 'insulin_Down',\n",
       " 'insulin_No',\n",
       " 'insulin_Steady',\n",
       " 'insulin_Up',\n",
       " 'race_AfricanAmerican',\n",
       " 'race_Asian',\n",
       " 'race_Caucasian',\n",
       " 'race_Hispanic',\n",
       " 'race_Other',\n",
       " 'admission_type_id_1',\n",
       " 'admission_type_id_2',\n",
       " 'admission_type_id_3',\n",
       " 'admission_type_id_4',\n",
       " 'admission_type_id_5',\n",
       " 'admission_type_id_6',\n",
       " 'admission_type_id_7',\n",
       " 'admission_type_id_8',\n",
       " 'admission_source_id_1',\n",
       " 'admission_source_id_2',\n",
       " 'admission_source_id_3',\n",
       " 'admission_source_id_4',\n",
       " 'admission_source_id_5',\n",
       " 'admission_source_id_6',\n",
       " 'admission_source_id_7',\n",
       " 'admission_source_id_8',\n",
       " 'admission_source_id_9',\n",
       " 'admission_source_id_10',\n",
       " 'admission_source_id_11',\n",
       " 'admission_source_id_13',\n",
       " 'admission_source_id_14',\n",
       " 'admission_source_id_17',\n",
       " 'admission_source_id_20',\n",
       " 'admission_source_id_22',\n",
       " 'admission_source_id_25',\n",
       " 'payer_code_BC',\n",
       " 'payer_code_CH',\n",
       " 'payer_code_CM',\n",
       " 'payer_code_CP',\n",
       " 'payer_code_DM',\n",
       " 'payer_code_FR',\n",
       " 'payer_code_HM',\n",
       " 'payer_code_MC',\n",
       " 'payer_code_MD',\n",
       " 'payer_code_MP',\n",
       " 'payer_code_OG',\n",
       " 'payer_code_OT',\n",
       " 'payer_code_PO',\n",
       " 'payer_code_SI',\n",
       " 'payer_code_SP',\n",
       " 'payer_code_UN',\n",
       " 'payer_code_WC',\n",
       " 'discharge_disposition_id_1',\n",
       " 'discharge_disposition_id_2',\n",
       " 'discharge_disposition_id_3',\n",
       " 'discharge_disposition_id_4',\n",
       " 'discharge_disposition_id_5',\n",
       " 'discharge_disposition_id_6',\n",
       " 'discharge_disposition_id_7',\n",
       " 'discharge_disposition_id_8',\n",
       " 'discharge_disposition_id_9',\n",
       " 'discharge_disposition_id_10',\n",
       " 'discharge_disposition_id_11',\n",
       " 'discharge_disposition_id_12',\n",
       " 'discharge_disposition_id_13',\n",
       " 'discharge_disposition_id_14',\n",
       " 'discharge_disposition_id_15',\n",
       " 'discharge_disposition_id_16',\n",
       " 'discharge_disposition_id_17',\n",
       " 'discharge_disposition_id_18',\n",
       " 'discharge_disposition_id_19',\n",
       " 'discharge_disposition_id_20',\n",
       " 'discharge_disposition_id_22',\n",
       " 'discharge_disposition_id_23',\n",
       " 'discharge_disposition_id_24',\n",
       " 'discharge_disposition_id_25',\n",
       " 'discharge_disposition_id_27',\n",
       " 'discharge_disposition_id_28',\n",
       " 'is_readmitted']"
      ]
     },
     "execution_count": 7,
     "metadata": {},
     "output_type": "execute_result"
    }
   ],
   "source": [
    "df_raw2 = pd.DataFrame(df_raw, copy=True) #preserve df_raw so I can rerun this step\n",
    "df_raw2['age'] = df_raw2.age.str.extract('(\\d+)-\\d+')\n",
    "\n",
    "to_drop = ['acetohexamide', 'troglitazone', 'examide', 'citoglipton',\n",
    "       'glipizide-metformin', 'glimepiride-pioglitazone',\n",
    "       'metformin-pioglitazone', 'weight', 'medical_specialty', 'diag_2',\n",
    "       'diag_1', 'diag_3', 'patient_nbr', 'encounter_id']\n",
    "df_raw2.drop(to_drop, axis=1, inplace=True,errors = 'ignore')\n",
    "print(df_raw2.shape)\n",
    "#break out categorical variables into binaries\n",
    "cat_cols = ['gender', 'tolbutamide', 'acarbose', 'miglitol', 'tolazamide',\n",
    "       'metformin-rosiglitazone', 'change', 'diabetesMed',\n",
    "       'glyburide-metformin', 'readmitted', 'max_glu_serum', 'A1Cresult',\n",
    "       'metformin', 'repaglinide', 'nateglinide', 'chlorpropamide',\n",
    "       'glimepiride', 'glipizide', 'glyburide', 'pioglitazone',\n",
    "       'rosiglitazone', 'insulin', 'race', 'admission_type_id',\n",
    "       'admission_source_id', 'payer_code', 'discharge_disposition_id']\n",
    "df_raw2 = pd.get_dummies(df_raw2, columns=cat_cols)\n",
    "\n",
    "#dropping these leaves up with one binary variable, ideal for simplicity\n",
    "df_raw2.drop(['readmitted_<30','readmitted_>30'], axis=1, inplace=True)\n",
    "\n",
    "#cleaning up outcome variable\n",
    "df_raw2['is_readmitted'] = (df_raw2.readmitted_NO == 0)\n",
    "df_raw2.drop('readmitted_NO', axis=1, inplace=True)\n",
    "\n",
    "#ta daaaaaah, the data is ready to go\n",
    "df = pd.DataFrame(df_raw2)\n",
    "list(df.columns)"
   ]
  },
  {
   "cell_type": "markdown",
   "metadata": {
    "_cell_guid": "e83950f5-bc1e-4d4b-8114-85eb6589e5c3",
    "_uuid": "d810162bdf5a62088ba069618c9bb08c25b29b4e"
   },
   "source": [
    "# Define this machine learning problem, impute, set aside test data"
   ]
  },
  {
   "cell_type": "code",
   "execution_count": 8,
   "metadata": {
    "_cell_guid": "53f12577-3e19-485e-8c67-9a0de4a69494",
    "_uuid": "51baa417321f8522ae02c0f3e705ec3c7503074b"
   },
   "outputs": [],
   "source": [
    "#partition training and test data, one balanced training set, all remaining for testing \n",
    "outcome_column = 'is_readmitted' \n",
    "\n",
    "#Imputing with outlying value since we are focusing on tree based methods\n",
    "dff = df.fillna(-9999) \n",
    "\n",
    "#%% Split data for validation\n",
    "X = dff.drop(outcome_column, axis=1) \n",
    "y = dff[outcome_column] \n",
    "X_train, X_test, y_train, y_test = train_test_split(X, y, test_size=0.5, random_state=0) \n",
    "y_train_array = np.array(y_train.values.tolist())"
   ]
  },
  {
   "cell_type": "markdown",
   "metadata": {
    "_cell_guid": "9b83802f-5baf-43ce-9e13-152588c8e458",
    "_uuid": "58240a96b270e68c5ebf9990af40682a63897eb7"
   },
   "source": [
    "# AML Fit data to Random Forest model, trying different subsets of variables\n"
   ]
  },
  {
   "cell_type": "code",
   "execution_count": 9,
   "metadata": {},
   "outputs": [
    {
     "name": "stdout",
     "output_type": "stream",
     "text": [
      "Turning diagnostics collection on. \n"
     ]
    }
   ],
   "source": [
    "set_diagnostics_collection(send_diagnostics = True)"
   ]
  },
  {
   "cell_type": "code",
   "execution_count": 10,
   "metadata": {},
   "outputs": [
    {
     "name": "stderr",
     "output_type": "stream",
     "text": [
      "Falling back to use azure cli credentials. This fall back to use azure cli credentials will be removed in the next release. \n",
      "Make sure your code doesn't require 'az login' to have happened before using azureml-sdk, except the case when you are specifying AzureCliAuthentication in azureml-sdk.\n"
     ]
    },
    {
     "name": "stdout",
     "output_type": "stream",
     "text": [
      "Wrote the config file xiaoyzhuconfig.json to: F:\\PatientHub\\MLModels\\Diabetes\\aml_config\\xiaoyzhuconfig.json\n",
      "Workspace configuration succeeded. Skip the workspace creation steps below\n"
     ]
    }
   ],
   "source": [
    "import azureml.core\n",
    "import os\n",
    "from azureml.core import Workspace\n",
    "\n",
    "subscription_id = os.getenv(\"SUBSCRIPTION_ID\", default=\"a6c2a7cc-d67e-4a1a-b765-983f08c0423a\")\n",
    "resource_group = os.getenv(\"RESOURCE_GROUP\", default=\"xiaoyzhu-mlworkspace\")\n",
    "workspace_name = os.getenv(\"WORKSPACE_NAME\", default=\"xiaoyzhu-MLworkspace\")\n",
    "workspace_region = os.getenv(\"WORKSPACE_REGION\", default=\"eastus2\")\n",
    "\n",
    "\n",
    "try:\n",
    "    ws = Workspace(subscription_id = subscription_id, resource_group = resource_group, workspace_name = workspace_name)\n",
    "    # write the details of the workspace to a configuration file to the notebook library\n",
    "    ws.write_config(file_name=\"xiaoyzhuconfig.json\")\n",
    "    print(\"Workspace configuration succeeded. Skip the workspace creation steps below\")\n",
    "except:\n",
    "    print(\"Workspace not accessible. Change your parameters or create a new workspace below\")\n",
    "import logging\n",
    "experiment = Experiment(ws, \"Diabetes_prediction\")\n",
    "automl_config = AutoMLConfig(task = 'classification',\n",
    "                             debug_log = 'automl_errors.log',\n",
    "                             primary_metric = 'AUC_weighted',\n",
    "                             iteration_timeout_minutes = 60,\n",
    "                             iterations = 10,\n",
    "                             n_cross_validations = 3,\n",
    "                             max_concurrent_iterations = multiprocessing.cpu_count(),\n",
    "                             verbosity = logging.INFO,\n",
    "                             X = X_train, \n",
    "                             preprocess = True,\n",
    "                             y = y_train_array,\n",
    "                             model_explainability = False,\n",
    "                             path = './')"
   ]
  },
  {
   "cell_type": "code",
   "execution_count": 11,
   "metadata": {
    "scrolled": true
   },
   "outputs": [
    {
     "name": "stdout",
     "output_type": "stream",
     "text": [
      "Running on local machine\n",
      "Parent Run ID: AutoML_63800cb8-2592-4e6a-8b40-760526fd7585\n",
      "*******************************************************************************************************************\n",
      "ITERATION: The iteration being evaluated.\n",
      "PIPELINE: A summary description of the pipeline being evaluated.\n",
      "TRAINFRAC: Fraction of the training data to train on.\n",
      "DURATION: Time taken for the current iteration.\n",
      "METRIC: The result of computing score on the fitted pipeline.\n",
      "BEST: The best observed score thus far.\n",
      "*******************************************************************************************************************\n",
      "\n",
      " ITERATION   PIPELINE                                       TRAINFRAC  DURATION      METRIC      BEST\n",
      "         0   SparseNormalizer LightGBM                      1.0000     0:00:13       0.6594    0.6594\n",
      "         1   SparseNormalizer LightGBM                      1.0000     0:00:37       0.6774    0.6774\n",
      "         2   StandardScalerWrapper LightGBM                 1.0000     0:00:20       0.6636    0.6774\n",
      "         3   StandardScalerWrapper LightGBM                 1.0000     0:00:14       0.6663    0.6774\n",
      "         4   StandardScalerWrapper LightGBM                 1.0000     0:00:14       0.6795    0.6795\n",
      "         5   SparseNormalizer LightGBM                      1.0000     0:00:38       0.6647    0.6795\n",
      "         6   MaxAbsScaler LightGBM                          1.0000     0:00:16       0.6747    0.6795\n",
      "         7   StandardScalerWrapper LightGBM                 1.0000     0:00:15       0.6494    0.6795\n",
      "         8   MaxAbsScaler LightGBM                          1.0000     0:00:21       0.6828    0.6828\n",
      "         9   Ensemble                                       1.0000     0:00:27       0.6850    0.6850\n"
     ]
    }
   ],
   "source": [
    "local_run = experiment.submit(automl_config, show_output = True)"
   ]
  },
  {
   "cell_type": "code",
   "execution_count": null,
   "metadata": {},
   "outputs": [],
   "source": [
    "from azureml.widgets import RunDetails\n",
    "RunDetails(local_run).show()"
   ]
  },
  {
   "cell_type": "code",
   "execution_count": null,
   "metadata": {
    "scrolled": true
   },
   "outputs": [],
   "source": [
    "children = list(local_run.get_children())\n",
    "metricslist = {}\n",
    "for run in children:\n",
    "    properties = run.get_properties()\n",
    "    metrics = {k: v for k, v in run.get_metrics().items() if isinstance(v, float)}\n",
    "    metricslist[int(properties['iteration'])] = metrics\n",
    "\n",
    "rundata = pd.DataFrame(metricslist).sort_index(1)\n",
    "rundata"
   ]
  },
  {
   "cell_type": "code",
   "execution_count": null,
   "metadata": {
    "scrolled": false
   },
   "outputs": [],
   "source": [
    "best_run, fitted_model = local_run.get_output()\n",
    "print(best_run)\n",
    "print(fitted_model)"
   ]
  },
  {
   "cell_type": "code",
   "execution_count": null,
   "metadata": {
    "scrolled": true
   },
   "outputs": [],
   "source": [
    "fitted_model.predict_proba(X=X_test)"
   ]
  },
  {
   "cell_type": "code",
   "execution_count": null,
   "metadata": {},
   "outputs": [],
   "source": [
    "X_test[1:2]"
   ]
  },
  {
   "cell_type": "markdown",
   "metadata": {
    "_cell_guid": "c0b93205-e4b5-4f91-b6b6-f89c302ba8e1",
    "_uuid": "06b21cd176b11ecf2a9c7537f867b7d52e480c29"
   },
   "source": [
    "# Register the model for deployment"
   ]
  },
  {
   "cell_type": "code",
   "execution_count": null,
   "metadata": {},
   "outputs": [],
   "source": [
    "description = 'AutoML Model'\n",
    "tags = None\n",
    "model = local_run.register_model(description = description, tags = tags)\n",
    "\n",
    "print(local_run.model_id) # This will be written to the script file later in the notebook."
   ]
  },
  {
   "cell_type": "code",
   "execution_count": null,
   "metadata": {},
   "outputs": [],
   "source": [
    "%%writefile score.py\n",
    "import pickle\n",
    "import json\n",
    "import numpy\n",
    "import azureml.train.automl\n",
    "from sklearn.externals import joblib\n",
    "from azureml.core.model import Model\n",
    "import pandas as pd\n",
    "import numpy as np\n",
    "\n",
    "\n",
    "def init():\n",
    "    global model\n",
    "    model_path = Model.get_model_path(model_name = '<<modelid>>') # this name is model.id of model that we want to deploy\n",
    "    # deserialize the model file back into a sklearn model\n",
    "    model = joblib.load(model_path)\n",
    "\n",
    "def run(rawdata):\n",
    "    try:\n",
    "        data = json.loads(rawdata)['data']\n",
    "        print(\"data is\", data, \"len is\", len(data))\n",
    "        df_raw = pd.DataFrame(data=data, columns=['race', 'gender', 'age', 'weight',\n",
    "        'admission_type_id', 'discharge_disposition_id', 'admission_source_id',\n",
    "        'time_in_hospital', 'payer_code', 'medical_specialty',\n",
    "        'num_lab_procedures', 'num_procedures', 'num_medications',\n",
    "        'number_outpatient', 'number_emergency', 'number_inpatient', 'diag_1',\n",
    "        'diag_2', 'diag_3', 'number_diagnoses', 'max_glu_serum', 'A1Cresult',\n",
    "        'metformin', 'repaglinide', 'nateglinide', 'chlorpropamide',\n",
    "        'glimepiride', 'acetohexamide', 'glipizide', 'glyburide', 'tolbutamide',\n",
    "        'pioglitazone', 'rosiglitazone', 'acarbose', 'miglitol', 'troglitazone',\n",
    "        'tolazamide', 'examide', 'citoglipton', 'insulin',\n",
    "        'glyburide-metformin', 'glipizide-metformin',\n",
    "        'glimepiride-pioglitazone', 'metformin-rosiglitazone',\n",
    "        'metformin-pioglitazone', 'change', 'diabetesMed'])\n",
    "        to_drop = ['acetohexamide', 'troglitazone', 'examide', 'citoglipton',\n",
    "        'glipizide-metformin', 'glimepiride-pioglitazone',\n",
    "        'metformin-pioglitazone', 'weight', 'patient_nbr', 'encounter_id']\n",
    "        df_raw.drop(to_drop, axis=1, inplace=True, errors = 'ignore')\n",
    "        df_raw = df_raw.replace('?', np.nan) \n",
    "        spec_counts_raw = {\"specs\": ['InternalMedicine', 'Emergency/Trauma', 'Family/GeneralPractice',\n",
    "            'Cardiology', 'Surgery-General'], \"num patients\": [14635,  7565,  7440,  5352,  3099]}\n",
    "\n",
    "        spec_counts = pd.DataFrame(spec_counts_raw, columns = ['specs', \"num patients\"]).set_index([\"specs\"])\n",
    "        spec_thresh = 5\n",
    "        for (spec, count) in spec_counts.head(spec_thresh).iteritems():\n",
    "            new_col = 'spec_' + str(spec)\n",
    "            df_raw[new_col] = (df_raw.medical_specialty == spec)\n",
    "\n",
    "        diag_counts_raw = {\"icd9value\": ['428', '250', '276', '414', '401', '427', '599', '496', '403', '486'], 'num patients w diag': [18101., 17861., 13816., 12895., 12371., 11757.,  6824.,  5990.,\n",
    "        5693.,  5455.]}\n",
    "\n",
    "        diag_counts = pd.DataFrame(diag_counts_raw, columns = [ 'icd9value', 'num patients w diag']).set_index(['icd9value'])\n",
    "\n",
    "        diag_thresh = 10\n",
    "        for (icd9, count) in diag_counts.head(diag_thresh).iteritems():\n",
    "            new_col = 'diag_' + str(icd9)\n",
    "            # print(\"df_raw.diag_1, icd9\",df_raw.diag_1, icd9, type(df_raw.diag_1.to_string()), type(icd9))\n",
    "            df_raw[new_col] = (df_raw.diag_1.to_string() == icd9)|(df_raw.diag_2.to_string() == icd9)|(df_raw.diag_3.to_string() == icd9)\n",
    "\n",
    "\n",
    "        df_raw2 = pd.DataFrame(df_raw, copy=True) #preserve df_raw so I can rerun this step\n",
    "        df_raw2['age'] = df_raw2.age.str.extract('(\\d+)-\\d+')\n",
    "\n",
    "        to_drop = ['acetohexamide', 'troglitazone', 'examide', 'citoglipton',\n",
    "            'glipizide-metformin', 'glimepiride-pioglitazone',\n",
    "            'metformin-pioglitazone', 'weight', 'medical_specialty', 'diag_2',\n",
    "            'diag_1', 'diag_3', 'patient_nbr', 'encounter_id']\n",
    "        df_raw2.drop(to_drop, axis=1, inplace=True,errors = 'ignore')\n",
    "\n",
    "        #break out categorical variables into binaries\n",
    "        cat_cols = ['gender', 'tolbutamide', 'acarbose', 'miglitol', 'tolazamide',\n",
    "            'metformin-rosiglitazone', 'change', 'diabetesMed',\n",
    "            'glyburide-metformin', 'max_glu_serum', 'A1Cresult',\n",
    "            'metformin', 'repaglinide', 'nateglinide', 'chlorpropamide',\n",
    "            'glimepiride', 'glipizide', 'glyburide', 'pioglitazone',\n",
    "            'rosiglitazone', 'insulin', 'race', 'admission_type_id',\n",
    "            'admission_source_id', 'payer_code', 'discharge_disposition_id']\n",
    "        target_cols = ['age', 'time_in_hospital', 'num_lab_procedures', 'num_procedures', 'num_medications', 'number_outpatient', 'number_emergency', 'number_inpatient', 'number_diagnoses', 'spec_num patients', 'diag_num patients w diag', 'gender_Female', 'gender_Male', 'gender_Unknown/Invalid', 'tolbutamide_No', 'tolbutamide_Steady', 'acarbose_Down', 'acarbose_No', 'acarbose_Steady', 'acarbose_Up', 'miglitol_Down', 'miglitol_No', 'miglitol_Steady', 'miglitol_Up', 'tolazamide_No', 'tolazamide_Steady', 'tolazamide_Up', 'metformin-rosiglitazone_No', 'metformin-rosiglitazone_Steady', 'change_Ch', 'change_No', 'diabetesMed_No', 'diabetesMed_Yes', 'glyburide-metformin_Down', 'glyburide-metformin_No', 'glyburide-metformin_Steady', 'glyburide-metformin_Up', 'max_glu_serum_>200', 'max_glu_serum_>300', 'max_glu_serum_None', 'max_glu_serum_Norm', 'A1Cresult_>7', 'A1Cresult_>8', 'A1Cresult_None', 'A1Cresult_Norm', 'metformin_Down', 'metformin_No', 'metformin_Steady', 'metformin_Up', 'repaglinide_Down', 'repaglinide_No', 'repaglinide_Steady', 'repaglinide_Up', 'nateglinide_Down', 'nateglinide_No', 'nateglinide_Steady', 'nateglinide_Up', 'chlorpropamide_Down', 'chlorpropamide_No', 'chlorpropamide_Steady', 'chlorpropamide_Up', 'glimepiride_Down', 'glimepiride_No', 'glimepiride_Steady', 'glimepiride_Up', 'glipizide_Down', 'glipizide_No', 'glipizide_Steady', 'glipizide_Up', 'glyburide_Down', 'glyburide_No', 'glyburide_Steady', 'glyburide_Up', 'pioglitazone_Down', 'pioglitazone_No', 'pioglitazone_Steady', 'pioglitazone_Up', 'rosiglitazone_Down', 'rosiglitazone_No', 'rosiglitazone_Steady', 'rosiglitazone_Up', 'insulin_Down', 'insulin_No', 'insulin_Steady', 'insulin_Up', 'race_AfricanAmerican', 'race_Asian', 'race_Caucasian', 'race_Hispanic', 'race_Other', 'admission_type_id_1', 'admission_type_id_2', 'admission_type_id_3', 'admission_type_id_4', 'admission_type_id_5', 'admission_type_id_6', 'admission_type_id_7', 'admission_type_id_8', 'admission_source_id_1', 'admission_source_id_2', 'admission_source_id_3', 'admission_source_id_4', 'admission_source_id_5', 'admission_source_id_6', 'admission_source_id_7', 'admission_source_id_8', 'admission_source_id_9', 'admission_source_id_10', 'admission_source_id_11', 'admission_source_id_13', 'admission_source_id_14', 'admission_source_id_17', 'admission_source_id_20', 'admission_source_id_22', 'admission_source_id_25', 'payer_code_BC', 'payer_code_CH', 'payer_code_CM', 'payer_code_CP', 'payer_code_DM', 'payer_code_FR', 'payer_code_HM', 'payer_code_MC', 'payer_code_MD', 'payer_code_MP', 'payer_code_OG', 'payer_code_OT', 'payer_code_PO', 'payer_code_SI', 'payer_code_SP', 'payer_code_UN', 'payer_code_WC', 'discharge_disposition_id_1', 'discharge_disposition_id_2', 'discharge_disposition_id_3', 'discharge_disposition_id_4', 'discharge_disposition_id_5', 'discharge_disposition_id_6', 'discharge_disposition_id_7', 'discharge_disposition_id_8', 'discharge_disposition_id_9', 'discharge_disposition_id_10', 'discharge_disposition_id_11', 'discharge_disposition_id_12', 'discharge_disposition_id_13', 'discharge_disposition_id_14', 'discharge_disposition_id_15', 'discharge_disposition_id_16', 'discharge_disposition_id_17', 'discharge_disposition_id_18', 'discharge_disposition_id_19', 'discharge_disposition_id_20', 'discharge_disposition_id_22', 'discharge_disposition_id_23', 'discharge_disposition_id_24', 'discharge_disposition_id_25', 'discharge_disposition_id_27', 'discharge_disposition_id_28', 'is_readmitted']\n",
    "        df_raw2 = pd.get_dummies(df_raw2, columns=cat_cols)\n",
    "        nonexisted_cols = list(set(target_cols) - set(df_raw2.columns))\n",
    "        # print(\"nonexisted_cols\",nonexisted_cols, len(nonexisted_cols))\n",
    "        for col in nonexisted_cols:\n",
    "            df_raw2.insert(0, col, 0)\n",
    "        #dropping these leaves up with one binary variable, ideal for simplicity\n",
    "        df_raw2.drop(['readmitted_<30','readmitted_>30'], axis=1, inplace=True, errors = 'ignore')\n",
    "\n",
    "        df_raw2.drop('readmitted_NO', axis=1, inplace=True,errors = 'ignore')\n",
    "\n",
    "\n",
    "        print(\"df_raw2 is\", df_raw2)\n",
    "        result = model.predict_proba(df_raw2) \n",
    "    except Exception as e:\n",
    "        result = str(e)\n",
    "        return json.dumps({\"error\": result})\n",
    "    return json.dumps({\"result\":result.tolist()})"
   ]
  },
  {
   "cell_type": "code",
   "execution_count": null,
   "metadata": {},
   "outputs": [],
   "source": [
    "ml_run = AutoMLRun(experiment = experiment, run_id = local_run.id)"
   ]
  },
  {
   "cell_type": "code",
   "execution_count": null,
   "metadata": {
    "scrolled": true
   },
   "outputs": [],
   "source": [
    "dependencies = ml_run.get_run_sdk_dependencies(iteration = 4)"
   ]
  },
  {
   "cell_type": "code",
   "execution_count": null,
   "metadata": {},
   "outputs": [],
   "source": [
    "for p in ['azureml-train-automl', 'azureml-sdk', 'azureml-core']:\n",
    "    print('{}\\t{}'.format(p, dependencies[p]))"
   ]
  },
  {
   "cell_type": "code",
   "execution_count": null,
   "metadata": {},
   "outputs": [],
   "source": [
    "from azureml.core.conda_dependencies import CondaDependencies\n",
    "\n",
    "myenv = CondaDependencies.create(conda_packages=['numpy','scikit-learn'], pip_packages=['azureml-sdk[automl]'])\n",
    "\n",
    "conda_env_file_name = 'myenv.yml'\n",
    "myenv.save_to_file('.', conda_env_file_name)"
   ]
  },
  {
   "cell_type": "code",
   "execution_count": null,
   "metadata": {},
   "outputs": [],
   "source": [
    "# Substitute the actual version number in the environment file.\n",
    "# This is not strictly needed in this notebook because the model should have been generated using the current SDK version.\n",
    "# However, we include this in case this code is used on an experiment from a previous SDK version.\n",
    "\n",
    "with open(conda_env_file_name, 'r') as cefr:\n",
    "    content = cefr.read()\n",
    "\n",
    "with open(conda_env_file_name, 'w') as cefw:\n",
    "    cefw.write(content.replace(azureml.core.VERSION, dependencies['azureml-sdk']))\n",
    "\n",
    "# Substitute the actual model id in the script file.\n",
    "\n",
    "script_file_name = 'score.py'\n",
    "\n",
    "with open(script_file_name, 'r') as cefr:\n",
    "    content = cefr.read()\n",
    "\n",
    "with open(script_file_name, 'w') as cefw:\n",
    "    cefw.write(content.replace('<<modelid>>', local_run.model_id))"
   ]
  },
  {
   "cell_type": "markdown",
   "metadata": {},
   "source": [
    "# create container image"
   ]
  },
  {
   "cell_type": "code",
   "execution_count": null,
   "metadata": {},
   "outputs": [],
   "source": [
    "from azureml.core.image import Image, ContainerImage\n",
    "\n",
    "image_config = ContainerImage.image_configuration(runtime= \"python\",\n",
    "                                 execution_script = script_file_name,\n",
    "                                 conda_file = conda_env_file_name,\n",
    "                                 tags = {'area': \"digits\", 'type': \"automl_classification\"},\n",
    "                                 description = \"Image for ACE PatientHub Diabetes Analysis\")\n",
    "\n",
    "image = Image.create(name = \"patienthubdiabetesanalysis\",\n",
    "                     # this is the model object \n",
    "                     models = [model],\n",
    "                     image_config = image_config, \n",
    "                     workspace = ws)\n",
    "\n",
    "image.wait_for_creation(show_output = True)\n",
    "\n",
    "if image.creation_state == 'Failed':\n",
    "    print(\"Image build log at: \" + image.image_build_log_uri)"
   ]
  },
  {
   "cell_type": "code",
   "execution_count": null,
   "metadata": {},
   "outputs": [],
   "source": [
    "from azureml.core.compute import AksCompute, ComputeTarget\n",
    "from azureml.core.webservice import Webservice, AksWebservice\n",
    "# Use the default configuration (can also provide parameters to customize)\n",
    "prov_config = AksCompute.provisioning_configuration()\n",
    "\n",
    "aks_name = 'ace-patienthub' \n",
    "# Create the cluster\n",
    "aks_target = ComputeTarget.create(workspace = ws, \n",
    "                                  name = aks_name, \n",
    "                                  provisioning_configuration = prov_config)"
   ]
  },
  {
   "cell_type": "code",
   "execution_count": null,
   "metadata": {},
   "outputs": [],
   "source": [
    "%%time\n",
    "aks_target.wait_for_completion(show_output = True)\n",
    "print(aks_target.provisioning_state)\n",
    "print(aks_target.provisioning_errors)"
   ]
  },
  {
   "cell_type": "code",
   "execution_count": null,
   "metadata": {},
   "outputs": [],
   "source": [
    "\n",
    "#Set the web service configuration (using default here)\n",
    "aks_config = AksWebservice.deploy_configuration(collect_model_data=True, enable_app_insights=True)"
   ]
  },
  {
   "cell_type": "code",
   "execution_count": null,
   "metadata": {},
   "outputs": [],
   "source": [
    "webservicelist = Webservice.list(workspace = ws)\n",
    "webservicelist"
   ]
  },
  {
   "cell_type": "code",
   "execution_count": null,
   "metadata": {
    "scrolled": true
   },
   "outputs": [],
   "source": [
    "%%time\n",
    "aks_service_name ='ace-patienthub-analysis-0222'\n",
    "\n",
    "aks_service = Webservice.deploy_from_image(workspace = ws, \n",
    "                                           name = aks_service_name,\n",
    "                                           image = image,\n",
    "                                           deployment_config = aks_config,\n",
    "                                           deployment_target = aks_target)\n",
    "aks_service.wait_for_deployment(show_output = True)\n",
    "print(aks_service.state)"
   ]
  },
  {
   "cell_type": "code",
   "execution_count": null,
   "metadata": {},
   "outputs": [],
   "source": [
    "ws"
   ]
  },
  {
   "cell_type": "code",
   "execution_count": null,
   "metadata": {},
   "outputs": [],
   "source": [
    "services = Webservice.list(ws)\n",
    "# print(services[0].scoring_uri)\n",
    "for i in services:\n",
    "    print(i.scoring_uri)"
   ]
  },
  {
   "cell_type": "markdown",
   "metadata": {},
   "source": [
    "# test with data"
   ]
  },
  {
   "cell_type": "code",
   "execution_count": null,
   "metadata": {},
   "outputs": [],
   "source": [
    "X_train[1:2].values"
   ]
  },
  {
   "cell_type": "code",
   "execution_count": null,
   "metadata": {},
   "outputs": [],
   "source": [
    "%%time\n",
    "import json\n",
    "\n",
    "test_sample = json.dumps({'data': X_train[1:2].values.tolist()})\n",
    "test_sample = bytes(test_sample,encoding = 'utf8')\n",
    "\n",
    "if aks_service.state == \"Healthy\":\n",
    "    prediction = aks_service.run(input_data=test_sample)\n",
    "    print(prediction)\n",
    "else:\n",
    "    raise ValueError(\"Service deployment isn't healthy, can't call the service\")"
   ]
  },
  {
   "cell_type": "code",
   "execution_count": null,
   "metadata": {
    "scrolled": true
   },
   "outputs": [],
   "source": [
    "import requests\n",
    "import requests\n",
    "import json\n",
    "\n",
    "# URL for the web service\n",
    "scoring_uri = 'http://51.143.97.86/api/v1/service/ace-patienthub-analysis-0222/score'\n",
    "# If the service is authenticated, set the key\n",
    "key = 'lLeRwqzT33O2Yb7VhonaXkESmYdqHNdh'\n",
    "\n",
    "item_to_score = ['Caucasian', 'Female', '[0-10)', '?', 6, 25, 1,\n",
    "        1, '?', 'Pediatrics-Endocrinology', 41, 0, 1, 0, 0, 0, '250.83',\n",
    "        '?', '?', 1, 'None', 'None', 'No', 'No', 'No', 'No', 'No', 'No',\n",
    "        'No', 'No', 'No', 'No', 'No', 'No', 'No', 'No', 'No', 'No', 'No',\n",
    "        'No', 'No', 'No', 'No', 'No', 'No', 'No', 'No']\n",
    "\n",
    "item_to_score_string = [str(i) for i in item_to_score]\n",
    "print(item_to_score_string)\n",
    "# Two sets of data to score, so we get two results back\n",
    "data = {\"data\": \n",
    "            [\n",
    "                item_to_score_string\n",
    "            ]\n",
    "        }\n",
    "# Convert to JSON string\n",
    "input_data = json.dumps(data)\n",
    "\n",
    "# Set the content type\n",
    "headers = { 'Content-Type':'application/json' }\n",
    "# If authentication is enabled, set the authorization header\n",
    "headers['Authorization']=f'Bearer {key}'\n",
    "\n",
    "# Make the request and display the response\n",
    "resp = requests.post(scoring_uri, input_data, headers = headers)\n",
    "print(resp.text)"
   ]
  },
  {
   "cell_type": "markdown",
   "metadata": {},
   "source": [
    "# test"
   ]
  },
  {
   "cell_type": "code",
   "execution_count": null,
   "metadata": {},
   "outputs": [],
   "source": [
    "data = json.loads(input_data)['data']"
   ]
  },
  {
   "cell_type": "code",
   "execution_count": null,
   "metadata": {},
   "outputs": [],
   "source": [
    "data"
   ]
  },
  {
   "cell_type": "code",
   "execution_count": null,
   "metadata": {},
   "outputs": [],
   "source": []
  },
  {
   "cell_type": "code",
   "execution_count": null,
   "metadata": {},
   "outputs": [],
   "source": [
    "df_raw = pd.DataFrame(data=data, columns=['race', 'gender', 'age', 'weight',\n",
    "        'admission_type_id', 'discharge_disposition_id', 'admission_source_id',\n",
    "        'time_in_hospital', 'payer_code', 'medical_specialty',\n",
    "        'num_lab_procedures', 'num_procedures', 'num_medications',\n",
    "        'number_outpatient', 'number_emergency', 'number_inpatient', 'diag_1',\n",
    "        'diag_2', 'diag_3', 'number_diagnoses', 'max_glu_serum', 'A1Cresult',\n",
    "        'metformin', 'repaglinide', 'nateglinide', 'chlorpropamide',\n",
    "        'glimepiride', 'acetohexamide', 'glipizide', 'glyburide', 'tolbutamide',\n",
    "        'pioglitazone', 'rosiglitazone', 'acarbose', 'miglitol', 'troglitazone',\n",
    "        'tolazamide', 'examide', 'citoglipton', 'insulin',\n",
    "        'glyburide-metformin', 'glipizide-metformin',\n",
    "        'glimepiride-pioglitazone', 'metformin-rosiglitazone',\n",
    "        'metformin-pioglitazone', 'change', 'diabetesMed'])\n",
    "to_drop = ['acetohexamide', 'troglitazone', 'examide', 'citoglipton',\n",
    "'glipizide-metformin', 'glimepiride-pioglitazone',\n",
    "'metformin-pioglitazone', 'weight', 'patient_nbr', 'encounter_id']\n",
    "df_raw.drop(to_drop, axis=1, inplace=True, errors = 'ignore')\n",
    "df_raw = df_raw.replace('?', np.nan) \n",
    "spec_counts_raw = {\"specs\": ['InternalMedicine', 'Emergency/Trauma', 'Family/GeneralPractice',\n",
    "       'Cardiology', 'Surgery-General'], \"num patients\": [14635,  7565,  7440,  5352,  3099]}\n",
    "\n",
    "spec_counts = pd.DataFrame(spec_counts_raw, columns = ['specs', \"num patients\"]).set_index([\"specs\"])\n",
    "spec_thresh = 5\n",
    "for (spec, count) in spec_counts.head(spec_thresh).iteritems():\n",
    "    new_col = 'spec_' + str(spec)\n",
    "    df_raw[new_col] = (df_raw.medical_specialty == spec)\n",
    "\n",
    "diag_counts_raw = {\"icd9value\": ['428', '250', '276', '414', '401', '427', '599', '496', '403', '486'], 'num patients w diag': [18101., 17861., 13816., 12895., 12371., 11757.,  6824.,  5990.,\n",
    "5693.,  5455.]}\n",
    "\n",
    "diag_counts = pd.DataFrame(diag_counts_raw, columns = [ 'icd9value', 'num patients w diag']).set_index(['icd9value'])\n",
    "\n",
    "diag_thresh = 10\n",
    "for (icd9, count) in diag_counts.head(diag_thresh).iteritems():\n",
    "    new_col = 'diag_' + str(icd9)\n",
    "    # print(\"df_raw.diag_1, icd9\",df_raw.diag_1, icd9, type(df_raw.diag_1.to_string()), type(icd9))\n",
    "    df_raw[new_col] = (df_raw.diag_1.to_string() == icd9)|(df_raw.diag_2.to_string() == icd9)|(df_raw.diag_3.to_string() == icd9)\n",
    "\n",
    "\n",
    "df_raw2 = pd.DataFrame(df_raw, copy=True) #preserve df_raw so I can rerun this step\n",
    "df_raw2['age'] = df_raw2.age.str.extract('(\\d+)-\\d+')\n",
    "\n",
    "to_drop = ['acetohexamide', 'troglitazone', 'examide', 'citoglipton',\n",
    "       'glipizide-metformin', 'glimepiride-pioglitazone',\n",
    "       'metformin-pioglitazone', 'weight', 'medical_specialty', 'diag_2',\n",
    "       'diag_1', 'diag_3', 'patient_nbr', 'encounter_id']\n",
    "df_raw2.drop(to_drop, axis=1, inplace=True,errors = 'ignore')\n",
    "\n",
    "#break out categorical variables into binaries\n",
    "cat_cols = ['gender', 'tolbutamide', 'acarbose', 'miglitol', 'tolazamide',\n",
    "       'metformin-rosiglitazone', 'change', 'diabetesMed',\n",
    "       'glyburide-metformin', 'max_glu_serum', 'A1Cresult',\n",
    "       'metformin', 'repaglinide', 'nateglinide', 'chlorpropamide',\n",
    "       'glimepiride', 'glipizide', 'glyburide', 'pioglitazone',\n",
    "       'rosiglitazone', 'insulin', 'race', 'admission_type_id',\n",
    "       'admission_source_id', 'payer_code', 'discharge_disposition_id']\n",
    "target_cols = ['age', 'time_in_hospital', 'num_lab_procedures', 'num_procedures', 'num_medications', 'number_outpatient', 'number_emergency', 'number_inpatient', 'number_diagnoses', 'spec_num patients', 'diag_num patients w diag', 'gender_Female', 'gender_Male', 'gender_Unknown/Invalid', 'tolbutamide_No', 'tolbutamide_Steady', 'acarbose_Down', 'acarbose_No', 'acarbose_Steady', 'acarbose_Up', 'miglitol_Down', 'miglitol_No', 'miglitol_Steady', 'miglitol_Up', 'tolazamide_No', 'tolazamide_Steady', 'tolazamide_Up', 'metformin-rosiglitazone_No', 'metformin-rosiglitazone_Steady', 'change_Ch', 'change_No', 'diabetesMed_No', 'diabetesMed_Yes', 'glyburide-metformin_Down', 'glyburide-metformin_No', 'glyburide-metformin_Steady', 'glyburide-metformin_Up', 'max_glu_serum_>200', 'max_glu_serum_>300', 'max_glu_serum_None', 'max_glu_serum_Norm', 'A1Cresult_>7', 'A1Cresult_>8', 'A1Cresult_None', 'A1Cresult_Norm', 'metformin_Down', 'metformin_No', 'metformin_Steady', 'metformin_Up', 'repaglinide_Down', 'repaglinide_No', 'repaglinide_Steady', 'repaglinide_Up', 'nateglinide_Down', 'nateglinide_No', 'nateglinide_Steady', 'nateglinide_Up', 'chlorpropamide_Down', 'chlorpropamide_No', 'chlorpropamide_Steady', 'chlorpropamide_Up', 'glimepiride_Down', 'glimepiride_No', 'glimepiride_Steady', 'glimepiride_Up', 'glipizide_Down', 'glipizide_No', 'glipizide_Steady', 'glipizide_Up', 'glyburide_Down', 'glyburide_No', 'glyburide_Steady', 'glyburide_Up', 'pioglitazone_Down', 'pioglitazone_No', 'pioglitazone_Steady', 'pioglitazone_Up', 'rosiglitazone_Down', 'rosiglitazone_No', 'rosiglitazone_Steady', 'rosiglitazone_Up', 'insulin_Down', 'insulin_No', 'insulin_Steady', 'insulin_Up', 'race_AfricanAmerican', 'race_Asian', 'race_Caucasian', 'race_Hispanic', 'race_Other', 'admission_type_id_1', 'admission_type_id_2', 'admission_type_id_3', 'admission_type_id_4', 'admission_type_id_5', 'admission_type_id_6', 'admission_type_id_7', 'admission_type_id_8', 'admission_source_id_1', 'admission_source_id_2', 'admission_source_id_3', 'admission_source_id_4', 'admission_source_id_5', 'admission_source_id_6', 'admission_source_id_7', 'admission_source_id_8', 'admission_source_id_9', 'admission_source_id_10', 'admission_source_id_11', 'admission_source_id_13', 'admission_source_id_14', 'admission_source_id_17', 'admission_source_id_20', 'admission_source_id_22', 'admission_source_id_25', 'payer_code_BC', 'payer_code_CH', 'payer_code_CM', 'payer_code_CP', 'payer_code_DM', 'payer_code_FR', 'payer_code_HM', 'payer_code_MC', 'payer_code_MD', 'payer_code_MP', 'payer_code_OG', 'payer_code_OT', 'payer_code_PO', 'payer_code_SI', 'payer_code_SP', 'payer_code_UN', 'payer_code_WC', 'discharge_disposition_id_1', 'discharge_disposition_id_2', 'discharge_disposition_id_3', 'discharge_disposition_id_4', 'discharge_disposition_id_5', 'discharge_disposition_id_6', 'discharge_disposition_id_7', 'discharge_disposition_id_8', 'discharge_disposition_id_9', 'discharge_disposition_id_10', 'discharge_disposition_id_11', 'discharge_disposition_id_12', 'discharge_disposition_id_13', 'discharge_disposition_id_14', 'discharge_disposition_id_15', 'discharge_disposition_id_16', 'discharge_disposition_id_17', 'discharge_disposition_id_18', 'discharge_disposition_id_19', 'discharge_disposition_id_20', 'discharge_disposition_id_22', 'discharge_disposition_id_23', 'discharge_disposition_id_24', 'discharge_disposition_id_25', 'discharge_disposition_id_27', 'discharge_disposition_id_28', 'is_readmitted']\n",
    "df_raw2 = pd.get_dummies(df_raw2, columns=cat_cols)\n",
    "nonexisted_cols = list(set(target_cols) - set(df_raw2.columns))\n",
    "# print(\"nonexisted_cols\",nonexisted_cols, len(nonexisted_cols))\n",
    "for col in nonexisted_cols:\n",
    "    df_raw2.insert(0, col, 0)\n",
    "#dropping these leaves up with one binary variable, ideal for simplicity\n",
    "df_raw2.drop(['readmitted_<30','readmitted_>30'], axis=1, inplace=True, errors = 'ignore')\n",
    "\n",
    "df_raw2.drop('readmitted_NO', axis=1, inplace=True,errors = 'ignore')\n",
    "\n",
    "\n",
    "# print(\"df_raw2 is\", df_raw2)"
   ]
  },
  {
   "cell_type": "code",
   "execution_count": null,
   "metadata": {},
   "outputs": [],
   "source": [
    "\n",
    "# to_drop = ['acetohexamide', 'troglitazone', 'examide', 'citoglipton',\n",
    "# 'glipizide-metformin', 'glimepiride-pioglitazone',\n",
    "# 'metformin-pioglitazone', 'weight', 'patient_nbr', 'encounter_id']\n",
    "# df_raw.drop(to_drop, axis=1, inplace=True, errors = 'ignore')\n",
    "# df_raw = df_raw.replace('?', np.nan) "
   ]
  },
  {
   "cell_type": "code",
   "execution_count": null,
   "metadata": {},
   "outputs": [],
   "source": [
    "fitted_model.predict_proba(X=df_raw2)"
   ]
  },
  {
   "cell_type": "markdown",
   "metadata": {},
   "source": [
    "# model explanation"
   ]
  },
  {
   "cell_type": "code",
   "execution_count": null,
   "metadata": {},
   "outputs": [],
   "source": []
  },
  {
   "cell_type": "code",
   "execution_count": null,
   "metadata": {},
   "outputs": [],
   "source": [
    "import sklearn\n",
    "import shap\n",
    "from sklearn.model_selection import train_test_split\n",
    "\n",
    "# print the JS visualization code to the notebook\n",
    "shap.initjs()\n",
    "\n",
    "transformer = fitted_model.named_steps['datatransformer']\n",
    "estimator = fitted_model.named_steps['prefittedsoftvotingclassifier']\n",
    "\n",
    "test_row = X_test[1:10]\n",
    "transformer_row = transformer.transform(test_row)\n",
    "\n",
    "print(estimator.predict_proba(transformer_row))\n",
    "\n",
    "explainer = shap.KernelExplainer(estimator.predict_proba,data=transformer_row, link=\"logit\")\n",
    "\n",
    "# use Kernel SHAP to explain test set predictions\n",
    "\n",
    "shap_values = explainer.shap_values(transformer_row, nsamples=9)\n",
    "\n",
    "# plot the SHAP values for the Setosa output of the first instance\n",
    "shap.force_plot(explainer.expected_value[0], shap_values[0][0,:], transformer_row[0].A, link=\"logit\")"
   ]
  },
  {
   "cell_type": "code",
   "execution_count": null,
   "metadata": {},
   "outputs": [],
   "source": [
    "from azureml.train.automl.automlexplainer import explain_model\n",
    "\n",
    "shap_values, expected_values, overall_summary, overall_imp, per_class_summary, per_class_imp = \\\n",
    "    explain_model(fitted_model, X_train, X_test)\n",
    "\n",
    "#Overall feature importance\n",
    "print(overall_imp)\n",
    "print(overall_summary)\n",
    "\n",
    "#Class-level feature importance\n",
    "print(per_class_imp)\n",
    "print(per_class_summary)"
   ]
  },
  {
   "cell_type": "code",
   "execution_count": null,
   "metadata": {},
   "outputs": [],
   "source": [
    "from azureml.widgets import RunDetails\n",
    "RunDetails(local_run).show()"
   ]
  },
  {
   "cell_type": "markdown",
   "metadata": {},
   "source": [
    "# Deprecated"
   ]
  },
  {
   "cell_type": "markdown",
   "metadata": {},
   "source": [
    "# Others"
   ]
  },
  {
   "cell_type": "code",
   "execution_count": null,
   "metadata": {
    "_cell_guid": "45a5370d-84a8-420f-8d25-1bac881f1ee2",
    "_uuid": "2c34237f0222c3749841d798cb726a15490d5633"
   },
   "outputs": [],
   "source": [
    "feat_ranks = pd.Series(index=X.columns, data=rfe.ranking_)\n",
    "rf_feats = feat_ranks[feat_ranks==1].index\n",
    "len(feat_ranks)"
   ]
  },
  {
   "cell_type": "code",
   "execution_count": null,
   "metadata": {
    "_cell_guid": "3493ff39-d681-407d-afba-c93b9d0aca7e",
    "_uuid": "fdeecd8ffb66b23458544af01e1104873e3b1a4b"
   },
   "outputs": [],
   "source": [
    "len(rf_feats)"
   ]
  },
  {
   "cell_type": "code",
   "execution_count": null,
   "metadata": {
    "_cell_guid": "91d10d89-9641-49b9-95d4-273abb4e3ba3",
    "_uuid": "49460c5d47c4c482c92b580ed795ab8166ff5512"
   },
   "outputs": [],
   "source": [
    "X_test_red = rfe.transform(X_test)\n",
    "X_train_red = rfe.transform(X_train)\n",
    "\n",
    "rfc = rfe.estimator_\n",
    "\n",
    "feat_imp = pd.Series(index=rf_feats, data=rfc.feature_importances_)\n",
    "feat_imp.sort_values(ascending=False).head(20)"
   ]
  },
  {
   "cell_type": "markdown",
   "metadata": {
    "_cell_guid": "7a6d76e1-f5de-473d-9711-63c05aedc9f0",
    "_uuid": "020fa992441440bb88a8d5c49aab03c0fac5ded7"
   },
   "source": [
    "# Assess prediction accuracy"
   ]
  },
  {
   "cell_type": "code",
   "execution_count": null,
   "metadata": {
    "_cell_guid": "781066b6-5b62-4e87-8cf9-3dfd62c60bac",
    "_uuid": "86f6d1318f3a63aa15047b205ab3d4e93b87bd85"
   },
   "outputs": [],
   "source": [
    "#%% assess accuracy\n",
    "pred = rfc.predict_proba(X_test_red)[:,1]\n",
    "fpr, tpr, threshold = sklearn.metrics.roc_curve(y_test, pred, drop_intermediate=True)    \n",
    "df_res = pd.DataFrame(data={'fpr':fpr, 'tpr':tpr, 'threshold':threshold})\n",
    "df_res = df_res[['threshold','fpr','tpr']]\n",
    "sklearn.metrics.auc(fpr, tpr)\n",
    "t=y.value_counts()[1]/y.value_counts().sum()\n",
    "sklearn.metrics.f1_score(y_test, pred>t)\n",
    "sklearn.metrics.accuracy_score(y_test, pred>t)\n",
    "\n",
    "roc_auc(pred, y_test)"
   ]
  },
  {
   "cell_type": "code",
   "execution_count": null,
   "metadata": {
    "_cell_guid": "f64c2b7c-c8da-4f39-8457-11a8be9b88cb",
    "_uuid": "65cbb968e3b3af45dcf536f9167d7aa73db5c4d6"
   },
   "outputs": [],
   "source": [
    "#TODO - visualize accuracy metrics based on threshold\n",
    "pd.options.mode.chained_assignment = None\n",
    "pred = rfc.predict_proba(X_test_red)[:,1]\n",
    "fpr, tpr, threshold = sklearn.metrics.roc_curve(y_test, pred, drop_intermediate=True)    \n",
    "df_res = pd.DataFrame(data={'fpr':fpr, 'tpr':tpr, 'threshold':threshold})\n",
    "df_res = df_res[['threshold','fpr','tpr']]\n",
    "sklearn.metrics.auc(fpr, tpr)"
   ]
  },
  {
   "cell_type": "code",
   "execution_count": null,
   "metadata": {
    "_cell_guid": "ab5561f2-6ca0-46e7-a307-3d75918630b4",
    "_uuid": "e0bf32bfb2a542c6fda20b920ff6a98c50048324"
   },
   "outputs": [],
   "source": [
    "df_res['accuracy'] = df_res.threshold.apply(lambda t: sklearn.metrics.accuracy_score(y_test, pred>t))\n",
    "df_res['precision'] = df_res.threshold.apply(lambda t: sklearn.metrics.precision_score(y_test, pred>t))\n",
    "df_res['recall'] = df_res.threshold.apply(lambda t: sklearn.metrics.recall_score(y_test, pred>t))\n",
    "df_res['f1'] = df_res.threshold.apply(lambda t: sklearn.metrics.f1_score(y_test, pred>t))\n",
    "df_res['specificity'] = df_res.fpr.apply(lambda fpr: 1-fpr)\n",
    "\n",
    "pt_opt = df_res[df_res.f1 == df_res.f1.max()].iloc[0]\n",
    "pt_opt"
   ]
  },
  {
   "cell_type": "code",
   "execution_count": null,
   "metadata": {
    "_cell_guid": "a2363a1e-0841-428c-be48-9143f2f4c39a",
    "_uuid": "c5be35194e820ab95721a48be2be71ad7d022d22"
   },
   "outputs": [],
   "source": [
    "plt.rcParams[\"figure.figsize\"] = (20,6)\n",
    "df_res.plot(x='threshold')"
   ]
  },
  {
   "cell_type": "markdown",
   "metadata": {
    "_cell_guid": "a2e5d190-5dbb-42ab-8046-8f4b3115055a",
    "_uuid": "c1d7a95466edfe41adb54482aa8262b2ff25ba4b"
   },
   "source": [
    "# Generate Decision tree based on the top features"
   ]
  },
  {
   "cell_type": "code",
   "execution_count": null,
   "metadata": {
    "_cell_guid": "a3766209-f6b4-4a5b-99fd-369727b35de4",
    "_uuid": "fbe980fbd8a1fcbe03ff74056b1bd0638af21c4b"
   },
   "outputs": [],
   "source": [
    "from sklearn.externals.six import StringIO  \n",
    "\n",
    "dtc = DecisionTreeClassifier(min_samples_leaf=0.125, min_samples_split=0.125)\n",
    "dtc.fit(X_train_red, y_train)\n",
    "from sklearn import tree\n"
   ]
  },
  {
   "cell_type": "code",
   "execution_count": null,
   "metadata": {
    "_cell_guid": "5766c239-a6c8-4471-9f65-23e67bd7904d",
    "_uuid": "6aeef1715d8d2a337a27a7b070756512c5573740"
   },
   "outputs": [],
   "source": [
    "from IPython.display import Image\n",
    "from subprocess import check_call\n",
    "tree.export_graphviz(dtc, out_file=\"tree.dot\", feature_names=rf_feats, proportion=True)\n",
    "check_call(['dot','-Tpng','tree.dot','-o','tree.png'])\n",
    "Image(filename='tree.png')"
   ]
  },
  {
   "cell_type": "code",
   "execution_count": null,
   "metadata": {
    "_cell_guid": "051a5c44-0182-469a-8cfe-c790eebf900b",
    "_uuid": "0b34b242b2e5bae9df8cf18dbfdb941df2adbab9"
   },
   "outputs": [],
   "source": [
    "import numpy as np\n",
    "import json\n",
    "import pandas as pd\n",
    "item_to_score = ['Caucasian', 'Female', '[0-10)', '?', 6, 25, 1,\n",
    "        1, '?', 'InternalMedicine', 41, 0, 1, 0, 0, 0, '250.83',\n",
    "        '?', '?', 1, 'None', 'None', 'No', 'No', 'No', 'No', 'No', 'No',\n",
    "        'No', 'No', 'No', 'No', 'No', 'No', 'No', 'No', 'No', 'No', 'No',\n",
    "        'No', 'No', 'No', 'No', 'No', 'No', 'No', 'No']\n",
    "\n",
    "item_to_score_string = [str(i) for i in item_to_score]\n",
    "print(item_to_score_string)\n",
    "# Two sets of data to score, so we get two results back\n",
    "rawdata = {\"data\": \n",
    "            [\n",
    "                item_to_score_string\n",
    "            ]\n",
    "        }\n",
    "input_data = json.dumps(rawdata)\n",
    "data = json.loads(input_data)['data']\n",
    "#print(\"data is\", data, \"len is\", len(data))\n",
    "df_raw = pd.DataFrame(data=data, columns=['race', 'gender', 'age', 'weight',\n",
    "'admission_type_id', 'discharge_disposition_id', 'admission_source_id',\n",
    "'time_in_hospital', 'payer_code', 'medical_specialty',\n",
    "'num_lab_procedures', 'num_procedures', 'num_medications',\n",
    "'number_outpatient', 'number_emergency', 'number_inpatient', 'diag_1',\n",
    "'diag_2', 'diag_3', 'number_diagnoses', 'max_glu_serum', 'A1Cresult',\n",
    "'metformin', 'repaglinide', 'nateglinide', 'chlorpropamide',\n",
    "'glimepiride', 'acetohexamide', 'glipizide', 'glyburide', 'tolbutamide',\n",
    "'pioglitazone', 'rosiglitazone', 'acarbose', 'miglitol', 'troglitazone',\n",
    "'tolazamide', 'examide', 'citoglipton', 'insulin',\n",
    "'glyburide-metformin', 'glipizide-metformin',\n",
    "'glimepiride-pioglitazone', 'metformin-rosiglitazone',\n",
    "'metformin-pioglitazone', 'change', 'diabetesMed'])\n",
    "to_drop = ['acetohexamide', 'troglitazone', 'examide', 'citoglipton',\n",
    "'glipizide-metformin', 'glimepiride-pioglitazone',\n",
    "'metformin-pioglitazone', 'weight', 'patient_nbr', 'encounter_id']\n",
    "df_raw.drop(to_drop, axis=1, inplace=True, errors = 'ignore')\n",
    "df_raw = df_raw.replace('?', np.nan) \n",
    "spec_counts_raw = {\"specs\": ['InternalMedicine', 'Emergency/Trauma', 'Family/GeneralPractice',\n",
    "    'Cardiology', 'Surgery-General'], \"num patients\": [14635,  7565,  7440,  5352,  3099]}\n",
    "\n",
    "spec_counts = pd.DataFrame(spec_counts_raw, columns = ['specs', \"num patients\"]).set_index([\"specs\"])\n",
    "spec_thresh = 5\n",
    "for (spec, count) in spec_counts.head(spec_thresh).iteritems():\n",
    "    new_col = 'spec_' + str(spec)\n",
    "    print(spec)\n",
    "    df_raw[new_col] = (df_raw.medical_specialty == spec)\n",
    "#     print(df_raw[new_col])\n",
    "df_raw.columns"
   ]
  },
  {
   "cell_type": "code",
   "execution_count": null,
   "metadata": {},
   "outputs": [],
   "source": []
  }
 ],
 "metadata": {
  "kernelspec": {
   "display_name": "Python 3",
   "language": "python",
   "name": "python3"
  },
  "language_info": {
   "codemirror_mode": {
    "name": "ipython",
    "version": 3
   },
   "file_extension": ".py",
   "mimetype": "text/x-python",
   "name": "python",
   "nbconvert_exporter": "python",
   "pygments_lexer": "ipython3",
   "version": "3.6.7"
  }
 },
 "nbformat": 4,
 "nbformat_minor": 1
}
