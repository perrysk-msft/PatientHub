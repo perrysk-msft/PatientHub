{
 "cells": [
  {
   "cell_type": "code",
   "execution_count": 1,
   "metadata": {
    "_cell_guid": "9ddfcdbe-f498-43ae-84cc-de46f775c22e",
    "_uuid": "da001f0cfc6af69259f2a51b728bf168a17d24dd"
   },
   "outputs": [
    {
     "ename": "ModuleNotFoundError",
     "evalue": "No module named 'sklearn'",
     "output_type": "error",
     "traceback": [
      "\u001b[1;31m---------------------------------------------------------------------------\u001b[0m",
      "\u001b[1;31mModuleNotFoundError\u001b[0m                       Traceback (most recent call last)",
      "\u001b[1;32m<ipython-input-1-095447540688>\u001b[0m in \u001b[0;36m<module>\u001b[1;34m\u001b[0m\n\u001b[0;32m      1\u001b[0m \u001b[1;32mimport\u001b[0m \u001b[0mpandas\u001b[0m \u001b[1;32mas\u001b[0m \u001b[0mpd\u001b[0m\u001b[1;33m\u001b[0m\u001b[1;33m\u001b[0m\u001b[0m\n\u001b[0;32m      2\u001b[0m \u001b[1;32mimport\u001b[0m \u001b[0mnumpy\u001b[0m \u001b[1;32mas\u001b[0m \u001b[0mnp\u001b[0m\u001b[1;33m\u001b[0m\u001b[1;33m\u001b[0m\u001b[0m\n\u001b[1;32m----> 3\u001b[1;33m \u001b[1;32mfrom\u001b[0m \u001b[0msklearn\u001b[0m\u001b[1;33m.\u001b[0m\u001b[0mmodel_selection\u001b[0m \u001b[1;32mimport\u001b[0m \u001b[0mtrain_test_split\u001b[0m\u001b[1;33m\u001b[0m\u001b[1;33m\u001b[0m\u001b[0m\n\u001b[0m\u001b[0;32m      4\u001b[0m \u001b[1;32mfrom\u001b[0m \u001b[0msklearn\u001b[0m\u001b[1;33m.\u001b[0m\u001b[0mensemble\u001b[0m \u001b[1;32mimport\u001b[0m \u001b[0mRandomForestClassifier\u001b[0m\u001b[1;33m\u001b[0m\u001b[1;33m\u001b[0m\u001b[0m\n\u001b[0;32m      5\u001b[0m \u001b[1;32mfrom\u001b[0m \u001b[0msklearn\u001b[0m\u001b[1;33m.\u001b[0m\u001b[0mfeature_selection\u001b[0m \u001b[1;32mimport\u001b[0m \u001b[0mRFECV\u001b[0m\u001b[1;33m\u001b[0m\u001b[1;33m\u001b[0m\u001b[0m\n",
      "\u001b[1;31mModuleNotFoundError\u001b[0m: No module named 'sklearn'"
     ]
    }
   ],
   "source": [
    "import pandas as pd \n",
    "import numpy as np \n",
    "from sklearn.model_selection import train_test_split \n",
    "from sklearn.ensemble import RandomForestClassifier\n",
    "from sklearn.feature_selection import RFECV\n",
    "from sklearn.model_selection import GridSearchCV\n",
    "from sklearn.tree import DecisionTreeClassifier \n",
    "\n",
    "import sklearn.metrics \n",
    "\n",
    "import matplotlib.pyplot as plt\n",
    "\n",
    "def roc_auc(pred, act, plot=True, label = \"curve\"):\n",
    "    prob = pred/pred.max() #normalize\n",
    "    fpr, tpr, threshold = sklearn.metrics.roc_curve(act, prob, drop_intermediate=True)    \n",
    "    auc = sklearn.metrics.auc(fpr, tpr)\n",
    "\n",
    "    if plot:\n",
    "        plt.scatter(x=fpr, y=tpr, color='navy')\n",
    "        rcolor = tuple(np.random.rand(3,1)[:,0])\n",
    "        plt.plot(fpr, tpr, c=rcolor, lw=2, label=label + ' (AUC = %0.3f)' % auc)\n",
    "        plt.plot([0, 1], [0, 1], color='navy', lw=2, linestyle='--')\n",
    "        plt.xlim([0.0, 1.0])\n",
    "        plt.ylim([0.0, 1.05])\n",
    "        plt.xlabel('False Positive Rate')\n",
    "        plt.ylabel('True Positive Rate')\n",
    "        plt.title('ROC Curve')\n",
    "        plt.legend(loc=\"lower right\")\n",
    "        plt.show()\n",
    "\n",
    "    return auc\n",
    "\n",
    "### kaggle\n",
    "datain_dir = './'\n",
    "datain_col_dir = '../input/diabetes-readmissions-column-annotation/'\n",
    "dataout_dir = ''\n",
    "\n",
    "### mac\n",
    "#datain_dir = '~/Data/diabetes/'\n",
    "#datain_col_dir = '~/Data/diabetes/'\n",
    "#dataout_dir = '~/Data/diabetes/'\n",
    "\n",
    "### desktop\n",
    "#from kaggle import proj #desktop\n",
    "#datain_dir = proj.data_dir #desktop"
   ]
  },
  {
   "cell_type": "markdown",
   "metadata": {
    "_cell_guid": "a15df269-2e4c-4442-a574-e55d9816da1d",
    "_uuid": "24e6e547cbd72f41ae840b6693be9a526ef7d059"
   },
   "source": [
    "# Read in the data"
   ]
  },
  {
   "cell_type": "code",
   "execution_count": null,
   "metadata": {
    "_cell_guid": "a83c2de4-a9ca-47f6-8841-7befb9744631",
    "_uuid": "76dfc10d98459ab9397bc045ba332a03534d3c4b"
   },
   "outputs": [],
   "source": [
    "df_raw_all = pd.read_csv(datain_dir + 'diabetic_data.csv') \n",
    "df_raw = df_raw_all.sample(10000)\n",
    "df_raw = df_raw.replace('?', np.nan) \n",
    "df_raw.shape"
   ]
  },
  {
   "cell_type": "markdown",
   "metadata": {
    "_cell_guid": "11bbec7a-e1fe-473b-81d6-8f24a80dd810",
    "_uuid": "86a8fabb9e6beb7df61149ff47f67b16b5ebc0e4"
   },
   "source": [
    "# How many values are missing in patient records?"
   ]
  },
  {
   "cell_type": "code",
   "execution_count": null,
   "metadata": {
    "_cell_guid": "531a86f6-b0b7-41f2-ac96-7d0c3630d8eb",
    "_uuid": "7171dd5c60d83a8c2eed0d8eb6d111b09b6858b9"
   },
   "outputs": [],
   "source": [
    "pt_sparsity = df_raw.isnull().apply(sum, axis=1)\n",
    "%matplotlib inline\n",
    "myhist = pt_sparsity.hist()"
   ]
  },
  {
   "cell_type": "markdown",
   "metadata": {
    "_cell_guid": "7698ff1f-6a9b-4381-8ae2-08e686d1ab9c",
    "_uuid": "aaf5774ea4941cf606c6eceac6dba198fc65bfd9"
   },
   "source": [
    "No need to drop patients due to missing values. 3 out of 50 missing values is not bad at all.\n",
    "\n",
    "# Explore the variables, compile information about them"
   ]
  },
  {
   "cell_type": "code",
   "execution_count": null,
   "metadata": {
    "_cell_guid": "5c6b79bb-ea06-4e44-8edf-962a9048a661",
    "_uuid": "4bb8b3dcf3c8e485abb0661bd4e0762b93001d52",
    "collapsed": true
   },
   "outputs": [],
   "source": [
    "col_data = df_raw.apply(lambda s: set(s.unique()), axis=0).to_frame('uni_val')\n",
    "col_data['nan_rat'] = df_raw.isnull().sum(axis=0)/len(df_raw)\n",
    "col_data['n_uni_vals'] = col_data.uni_val.apply(len)\n",
    "col_data['uni_vals_str'] = col_data[col_data.n_uni_vals<2000].uni_val.astype(str)\n",
    "col_data = col_data.drop('uni_val', axis=1)\n",
    "col_data['var_type'] = np.nan\n",
    "col_data.to_csv(dataout_dir + \"columns_raw.csv\")"
   ]
  },
  {
   "cell_type": "markdown",
   "metadata": {
    "_cell_guid": "f612c96d-30a1-4a56-af87-257f289540e2",
    "_uuid": "a46e8eeaa47af8c0e46d11e821fac192802ec3ac"
   },
   "source": [
    "# Manual annotation of columns\n",
    "I manually took columns_raw.csv and annotated columns based on whether they were ordered or categorical.  I saved my annotated file as columns.csv.  I will read this in later in the notebook."
   ]
  },
  {
   "cell_type": "code",
   "execution_count": null,
   "metadata": {
    "_cell_guid": "6c7de378-08ce-4650-a5ca-a4a1068c7a51",
    "_uuid": "b099e91cd16fb019bd35b51a4ba367ba7dc54fbd"
   },
   "outputs": [],
   "source": [
    "col_data = pd.read_csv(datain_col_dir + \"columns.csv\", index_col=0)\n",
    "col_data.sample(10)"
   ]
  },
  {
   "cell_type": "markdown",
   "metadata": {
    "_cell_guid": "7fb2f7ef-d6d3-4a5b-8c9e-51037b5762e8",
    "_uuid": "6f4ce457c360920e2309f594c574ca6637c41b36"
   },
   "source": [
    "# Generate boolean features for only most common medical specialties"
   ]
  },
  {
   "cell_type": "code",
   "execution_count": null,
   "metadata": {
    "_cell_guid": "91796bd1-ad8e-49db-b669-0652cf387d31",
    "_uuid": "230e9341f14c26697e06382bc5e03a152050b2a5"
   },
   "outputs": [],
   "source": [
    "#TODO recapture medical specialty\n",
    "spec_counts = df_raw.medical_specialty.value_counts()\n",
    "spec_counts.head(5).to_frame('num patients')"
   ]
  },
  {
   "cell_type": "code",
   "execution_count": null,
   "metadata": {
    "_cell_guid": "c0d03218-d355-4ffc-a278-1d27bf435f67",
    "_uuid": "62a07672fe12aa1b0be763c55b94794439307b2f"
   },
   "outputs": [],
   "source": [
    "spec_thresh = 5\n",
    "for (spec, count) in spec_counts.head(spec_thresh).iteritems():\n",
    "    new_col = 'spec_' + str(spec)\n",
    "    df_raw[new_col] = (df_raw.medical_specialty == spec)\n",
    "    \n",
    "df_raw.filter(regex='spec').sample(10)"
   ]
  },
  {
   "cell_type": "markdown",
   "metadata": {
    "_cell_guid": "8c2324cd-1c59-4a6d-a6c0-b54e244009b9",
    "_uuid": "457a8e46d48d0477bdec0b5820f05c4a2946d79d"
   },
   "source": [
    "# Identify the most common diagnoses"
   ]
  },
  {
   "cell_type": "code",
   "execution_count": null,
   "metadata": {
    "_cell_guid": "baf3a53e-9357-469f-93e6-b409c0d5f433",
    "_uuid": "da1f9fea6690d6f6b1a2fb475c65d7f75a857ba1"
   },
   "outputs": [],
   "source": [
    "diag_counts = (df_raw.diag_1.value_counts() + df_raw.diag_2.value_counts() + df_raw.diag_3.value_counts()).sort_values(ascending=False)\n",
    "diag_counts.head(10).to_frame('num patients w diag')"
   ]
  },
  {
   "cell_type": "markdown",
   "metadata": {
    "_cell_guid": "52fdb72e-4e27-41e6-9fba-7da3c5298549",
    "_uuid": "6e25229c75d87b6b9287742297fd81980bb522f5"
   },
   "source": [
    "# Generate boolean features for top N diagnoses"
   ]
  },
  {
   "cell_type": "code",
   "execution_count": null,
   "metadata": {
    "_cell_guid": "deb66d4f-69c3-4b62-b55a-6a822bb01f5b",
    "_uuid": "7e22e692779fab22c9c00c954aeb96f07ed8aed4"
   },
   "outputs": [],
   "source": [
    "diag_thresh = 10\n",
    "for (icd9, count) in diag_counts.head(diag_thresh).iteritems():\n",
    "    new_col = 'diag_' + str(icd9)\n",
    "    df_raw[new_col] = (df_raw.diag_1 == icd9)|(df_raw.diag_2 == icd9)|(df_raw.diag_3 == icd9)\n",
    "    \n",
    "df_raw.filter(regex='diag_').sample(10)"
   ]
  },
  {
   "cell_type": "markdown",
   "metadata": {
    "_cell_guid": "bfc235a6-b7d9-4389-9968-009f8065888e",
    "_uuid": "4438f5dcfe2611e42f63305b22511cc4111410b7",
    "collapsed": true
   },
   "source": [
    "# Clean the data"
   ]
  },
  {
   "cell_type": "code",
   "execution_count": null,
   "metadata": {
    "_cell_guid": "87989372-e6f2-4848-a977-c87b84b00dab",
    "_uuid": "f1b486932b51318430869eaa5010d76c0e409c39"
   },
   "outputs": [],
   "source": [
    "df_raw.age.sample(10)"
   ]
  },
  {
   "cell_type": "code",
   "execution_count": null,
   "metadata": {
    "_cell_guid": "c3d810c0-385d-4980-9115-395f0a8904bb",
    "_uuid": "6576d9071b20eb72cd09cf0ef4e8a1d31344d018"
   },
   "outputs": [],
   "source": [
    "df_raw2 = pd.DataFrame(df_raw, copy=True) #preserve df_raw so I can rerun this step\n",
    "df_raw2['age'] = df_raw2.age.str.extract('(\\d+)-\\d+')\n",
    "\n",
    "to_drop = col_data[col_data.var_type.str.contains('drop')].index\n",
    "df_raw2.drop(to_drop, axis=1, inplace=True)\n",
    "\n",
    "#break out categorical variables into binaries\n",
    "cat_cols = col_data[col_data.var_type.str.contains('cat')].index\n",
    "df_raw2 = pd.get_dummies(df_raw2, columns=cat_cols)\n",
    "\n",
    "#dropping these leaves up with one binary variable, ideal for simplicity\n",
    "df_raw2.drop(['readmitted_<30','readmitted_>30'], axis=1, inplace=True)\n",
    "\n",
    "#cleaning up outcome variable\n",
    "df_raw2['is_readmitted'] = (df_raw2.readmitted_NO == 0)\n",
    "df_raw2.drop('readmitted_NO', axis=1, inplace=True)\n",
    "\n",
    "#ta daaaaaah, the data is ready to go\n",
    "df = pd.DataFrame(df_raw2)\n",
    "df.shape"
   ]
  },
  {
   "cell_type": "code",
   "execution_count": null,
   "metadata": {
    "_cell_guid": "a3a0e880-c746-482b-a710-d20eb2021858",
    "_uuid": "4b398ccb0c77ef0a6de5e63a81a4aa47cd7cd221"
   },
   "outputs": [],
   "source": [
    "df.age.sample(10)"
   ]
  },
  {
   "cell_type": "code",
   "execution_count": null,
   "metadata": {
    "_cell_guid": "7efb11a4-629e-462b-b200-332c8d638b4b",
    "_uuid": "ee4ab9d9e03216dadd090da9353ebfadca152d0b"
   },
   "outputs": [],
   "source": [
    "df.sample(15).sample(7, axis=1)"
   ]
  },
  {
   "cell_type": "markdown",
   "metadata": {
    "_cell_guid": "023fcec0-3abf-4438-b0f9-1d90bff3160e",
    "_uuid": "f776c66446212e43fd9711e542f952b28efdd5ce"
   },
   "source": [
    "# Examine outcome variable"
   ]
  },
  {
   "cell_type": "code",
   "execution_count": null,
   "metadata": {
    "_cell_guid": "47a23144-0c57-41ee-ae9e-41c7d88665f3",
    "_uuid": "b928cf235310739ee5f9424238e1c1b666401cd4"
   },
   "outputs": [],
   "source": [
    "df.is_readmitted.value_counts()"
   ]
  },
  {
   "cell_type": "markdown",
   "metadata": {
    "_cell_guid": "e83950f5-bc1e-4d4b-8114-85eb6589e5c3",
    "_uuid": "d810162bdf5a62088ba069618c9bb08c25b29b4e"
   },
   "source": [
    "# Define this machine learning problem, impute, set aside test data"
   ]
  },
  {
   "cell_type": "code",
   "execution_count": null,
   "metadata": {
    "_cell_guid": "53f12577-3e19-485e-8c67-9a0de4a69494",
    "_uuid": "51baa417321f8522ae02c0f3e705ec3c7503074b",
    "collapsed": true
   },
   "outputs": [],
   "source": [
    "#partition training and test data, one balanced training set, all remaining for testing \n",
    "outcome_column = 'is_readmitted' \n",
    "\n",
    "#Imputing with outlying value since we are focusing on tree based methods\n",
    "dff = df.fillna(-9999) \n",
    "\n",
    "#%% Split data for validation\n",
    "X = dff.drop(outcome_column, axis=1) \n",
    "y = dff[outcome_column] \n",
    "X_train, X_test, y_train, y_test = train_test_split(X, y, test_size=0.5, random_state=0) "
   ]
  },
  {
   "cell_type": "markdown",
   "metadata": {
    "_cell_guid": "9b83802f-5baf-43ce-9e13-152588c8e458",
    "_uuid": "58240a96b270e68c5ebf9990af40682a63897eb7"
   },
   "source": [
    "# Fit data to Random Forest model, trying different subsets of variables\n"
   ]
  },
  {
   "cell_type": "code",
   "execution_count": null,
   "metadata": {
    "_cell_guid": "49eb00e3-a500-46a0-b5da-4627171d045b",
    "_uuid": "1c6ea52077f1c567516b1b6bfbc2d3f9c559ec44"
   },
   "outputs": [],
   "source": [
    "rfc_rfe = RandomForestClassifier(n_estimators = 100)\n",
    "#This step takes a while to run...\n",
    "rfe = RFECV(estimator=rfc_rfe, cv=5, verbose=0, n_jobs=10)\n",
    "rfe.fit(X_train, y_train)"
   ]
  },
  {
   "cell_type": "markdown",
   "metadata": {
    "_cell_guid": "c0b93205-e4b5-4f91-b6b6-f89c302ba8e1",
    "_uuid": "06b21cd176b11ecf2a9c7537f867b7d52e480c29"
   },
   "source": [
    "# Examine feature importances"
   ]
  },
  {
   "cell_type": "code",
   "execution_count": null,
   "metadata": {
    "_cell_guid": "45a5370d-84a8-420f-8d25-1bac881f1ee2",
    "_uuid": "2c34237f0222c3749841d798cb726a15490d5633"
   },
   "outputs": [],
   "source": [
    "feat_ranks = pd.Series(index=X.columns, data=rfe.ranking_)\n",
    "rf_feats = feat_ranks[feat_ranks==1].index\n",
    "len(feat_ranks)"
   ]
  },
  {
   "cell_type": "code",
   "execution_count": null,
   "metadata": {
    "_cell_guid": "3493ff39-d681-407d-afba-c93b9d0aca7e",
    "_uuid": "fdeecd8ffb66b23458544af01e1104873e3b1a4b"
   },
   "outputs": [],
   "source": [
    "len(rf_feats)"
   ]
  },
  {
   "cell_type": "code",
   "execution_count": null,
   "metadata": {
    "_cell_guid": "91d10d89-9641-49b9-95d4-273abb4e3ba3",
    "_uuid": "49460c5d47c4c482c92b580ed795ab8166ff5512"
   },
   "outputs": [],
   "source": [
    "X_test_red = rfe.transform(X_test)\n",
    "X_train_red = rfe.transform(X_train)\n",
    "\n",
    "rfc = rfe.estimator_\n",
    "\n",
    "feat_imp = pd.Series(index=rf_feats, data=rfc.feature_importances_)\n",
    "feat_imp.sort_values(ascending=False).head(20)"
   ]
  },
  {
   "cell_type": "markdown",
   "metadata": {
    "_cell_guid": "7a6d76e1-f5de-473d-9711-63c05aedc9f0",
    "_uuid": "020fa992441440bb88a8d5c49aab03c0fac5ded7"
   },
   "source": [
    "# Assess prediction accuracy"
   ]
  },
  {
   "cell_type": "code",
   "execution_count": null,
   "metadata": {
    "_cell_guid": "781066b6-5b62-4e87-8cf9-3dfd62c60bac",
    "_uuid": "86f6d1318f3a63aa15047b205ab3d4e93b87bd85"
   },
   "outputs": [],
   "source": [
    "#%% assess accuracy\n",
    "pred = rfc.predict_proba(X_test_red)[:,1]\n",
    "fpr, tpr, threshold = sklearn.metrics.roc_curve(y_test, pred, drop_intermediate=True)    \n",
    "df_res = pd.DataFrame(data={'fpr':fpr, 'tpr':tpr, 'threshold':threshold})\n",
    "df_res = df_res[['threshold','fpr','tpr']]\n",
    "sklearn.metrics.auc(fpr, tpr)\n",
    "t=y.value_counts()[1]/y.value_counts().sum()\n",
    "sklearn.metrics.f1_score(y_test, pred>t)\n",
    "sklearn.metrics.accuracy_score(y_test, pred>t)\n",
    "\n",
    "roc_auc(pred, y_test)"
   ]
  },
  {
   "cell_type": "code",
   "execution_count": null,
   "metadata": {
    "_cell_guid": "f64c2b7c-c8da-4f39-8457-11a8be9b88cb",
    "_uuid": "65cbb968e3b3af45dcf536f9167d7aa73db5c4d6"
   },
   "outputs": [],
   "source": [
    "#TODO - visualize accuracy metrics based on threshold\n",
    "pd.options.mode.chained_assignment = None\n",
    "pred = rfc.predict_proba(X_test_red)[:,1]\n",
    "fpr, tpr, threshold = sklearn.metrics.roc_curve(y_test, pred, drop_intermediate=True)    \n",
    "df_res = pd.DataFrame(data={'fpr':fpr, 'tpr':tpr, 'threshold':threshold})\n",
    "df_res = df_res[['threshold','fpr','tpr']]\n",
    "sklearn.metrics.auc(fpr, tpr)"
   ]
  },
  {
   "cell_type": "code",
   "execution_count": null,
   "metadata": {
    "_cell_guid": "ab5561f2-6ca0-46e7-a307-3d75918630b4",
    "_uuid": "e0bf32bfb2a542c6fda20b920ff6a98c50048324"
   },
   "outputs": [],
   "source": [
    "df_res['accuracy'] = df_res.threshold.apply(lambda t: sklearn.metrics.accuracy_score(y_test, pred>t))\n",
    "df_res['precision'] = df_res.threshold.apply(lambda t: sklearn.metrics.precision_score(y_test, pred>t))\n",
    "df_res['recall'] = df_res.threshold.apply(lambda t: sklearn.metrics.recall_score(y_test, pred>t))\n",
    "df_res['f1'] = df_res.threshold.apply(lambda t: sklearn.metrics.f1_score(y_test, pred>t))\n",
    "df_res['specificity'] = df_res.fpr.apply(lambda fpr: 1-fpr)\n",
    "\n",
    "pt_opt = df_res[df_res.f1 == df_res.f1.max()].iloc[0]\n",
    "pt_opt"
   ]
  },
  {
   "cell_type": "code",
   "execution_count": null,
   "metadata": {
    "_cell_guid": "a2363a1e-0841-428c-be48-9143f2f4c39a",
    "_uuid": "c5be35194e820ab95721a48be2be71ad7d022d22"
   },
   "outputs": [],
   "source": [
    "plt.rcParams[\"figure.figsize\"] = (20,6)\n",
    "df_res.plot(x='threshold')"
   ]
  },
  {
   "cell_type": "markdown",
   "metadata": {
    "_cell_guid": "a2e5d190-5dbb-42ab-8046-8f4b3115055a",
    "_uuid": "c1d7a95466edfe41adb54482aa8262b2ff25ba4b"
   },
   "source": [
    "# Generate Decision tree based on the top features"
   ]
  },
  {
   "cell_type": "code",
   "execution_count": null,
   "metadata": {
    "_cell_guid": "a3766209-f6b4-4a5b-99fd-369727b35de4",
    "_uuid": "fbe980fbd8a1fcbe03ff74056b1bd0638af21c4b",
    "collapsed": true
   },
   "outputs": [],
   "source": [
    "from sklearn.externals.six import StringIO  \n",
    "\n",
    "dtc = DecisionTreeClassifier(min_samples_leaf=0.125, min_samples_split=0.125)\n",
    "dtc.fit(X_train_red, y_train)\n",
    "from sklearn import tree\n"
   ]
  },
  {
   "cell_type": "code",
   "execution_count": null,
   "metadata": {
    "_cell_guid": "5766c239-a6c8-4471-9f65-23e67bd7904d",
    "_uuid": "6aeef1715d8d2a337a27a7b070756512c5573740"
   },
   "outputs": [],
   "source": [
    "from IPython.display import Image\n",
    "from subprocess import check_call\n",
    "tree.export_graphviz(dtc, out_file=\"tree.dot\", feature_names=rf_feats, proportion=True)\n",
    "check_call(['dot','-Tpng','tree.dot','-o','tree.png'])\n",
    "Image(filename='tree.png')"
   ]
  },
  {
   "cell_type": "code",
   "execution_count": null,
   "metadata": {
    "_cell_guid": "051a5c44-0182-469a-8cfe-c790eebf900b",
    "_uuid": "0b34b242b2e5bae9df8cf18dbfdb941df2adbab9",
    "collapsed": true
   },
   "outputs": [],
   "source": []
  }
 ],
 "metadata": {
  "kernelspec": {
   "display_name": "Python 3",
   "language": "python",
   "name": "python3"
  }
 },
 "nbformat": 4,
 "nbformat_minor": 1
}
